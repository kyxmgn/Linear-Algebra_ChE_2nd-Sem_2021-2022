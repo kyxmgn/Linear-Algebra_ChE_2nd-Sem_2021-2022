{
  "nbformat": 4,
  "nbformat_minor": 0,
  "metadata": {
    "colab": {
      "name": "Assignment 5 - Magno, Kassandra Ann",
      "provenance": [],
      "collapsed_sections": [],
      "include_colab_link": true
    },
    "kernelspec": {
      "name": "python3",
      "display_name": "Python 3"
    },
    "language_info": {
      "name": "python"
    }
  },
  "cells": [
    {
      "cell_type": "markdown",
      "metadata": {
        "id": "view-in-github",
        "colab_type": "text"
      },
      "source": [
        "<a href=\"https://colab.research.google.com/github/kyxmgn/Linear-Algebra_ChE_2nd-Sem_2021-2022/blob/main/Assignment_5_Magno%2C_Kassandra_Ann.ipynb\" target=\"_parent\"><img src=\"https://colab.research.google.com/assets/colab-badge.svg\" alt=\"Open In Colab\"/></a>"
      ]
    },
    {
      "cell_type": "markdown",
      "source": [
        "## Laboratory 6: Matrix Operation"
      ],
      "metadata": {
        "id": "9e-vHOrTS-WJ"
      }
    },
    {
      "cell_type": "markdown",
      "source": [
        "Now that you have a fundamental knowledge about representing and operating with vectors as well as the fundamentals of matrices, we'll try to the same operations with matrices and even more."
      ],
      "metadata": {
        "id": "xxCKWCUiHdJZ"
      }
    },
    {
      "cell_type": "markdown",
      "source": [
        "### Objectives\n",
        "At the end of this activity you will be able to:\n",
        "1. Be familiar with the fundamental matrix operations.\n",
        "2. Apply the operations to solve intermediate equations.\n",
        "3. Apply matrix algebra in engineering solutions."
      ],
      "metadata": {
        "id": "zKR_zmF8Hi4U"
      }
    },
    {
      "cell_type": "markdown",
      "source": [
        "## Discussion"
      ],
      "metadata": {
        "id": "OZTTl_TgHpO-"
      }
    },
    {
      "cell_type": "code",
      "source": [
        "import numpy as np\n",
        "import matplotlib.pyplot as plt\n",
        "%matplotlib inline"
      ],
      "metadata": {
        "id": "Mdz6N5wFTDub"
      },
      "execution_count": null,
      "outputs": []
    },
    {
      "cell_type": "markdown",
      "source": [
        "## Transposition"
      ],
      "metadata": {
        "id": "O8tX7czkTXtz"
      }
    },
    {
      "cell_type": "markdown",
      "source": [
        "The horizontal line of elements is called the row of the matrix that is denoted as m meanwhile, the vertical is the column of the matrix that is denoted as n. Jointly, the order of the matrix is represented as m x n. The transpose of a matrix is an operator which inverts the existing matrix by changing its row into column or column into row. For the matrix A, its transpose would be AT. Here, the transpose’s order will be written as n x m. "
      ],
      "metadata": {
        "id": "It8eOM9cTZ0W"
      }
    },
    {
      "cell_type": "markdown",
      "source": [
        "$$A = \\begin{bmatrix} 3 & 1 & 7\\\\4 & -8 &0 \\\\ 1 & 0 & 8\\end{bmatrix} $$\n"
      ],
      "metadata": {
        "id": "EJ9bGPUlT8bm"
      }
    },
    {
      "cell_type": "markdown",
      "source": [
        "$$A^T = \\begin{bmatrix} 3 & 4 & 1\\\\1 & -8 &0 \\\\ 7 & 0 & 8\\end{bmatrix} $$"
      ],
      "metadata": {
        "id": "zFtyox72UaOn"
      }
    },
    {
      "cell_type": "markdown",
      "source": [
        "This can now be achieved programmatically by using `np.transpose()` or using the `T` method."
      ],
      "metadata": {
        "id": "KL3wi_s3VFqx"
      }
    },
    {
      "cell_type": "code",
      "source": [
        "A = np.array ([\n",
        "    [2 , 4, 7],\n",
        "    [0 , -2, 8],\n",
        "    [9, 1, -2]\n",
        "])"
      ],
      "metadata": {
        "id": "7NdUlBYYTcep"
      },
      "execution_count": null,
      "outputs": []
    },
    {
      "cell_type": "code",
      "source": [
        "AT1 = np.transpose(A)\n",
        "AT1"
      ],
      "metadata": {
        "colab": {
          "base_uri": "https://localhost:8080/"
        },
        "id": "wYSQizL3VcLQ",
        "outputId": "be08e669-003d-40e7-b503-b2d53ce588f8"
      },
      "execution_count": null,
      "outputs": [
        {
          "output_type": "execute_result",
          "data": {
            "text/plain": [
              "array([[ 2,  0,  9],\n",
              "       [ 4, -2,  1],\n",
              "       [ 7,  8, -2]])"
            ]
          },
          "metadata": {},
          "execution_count": 5
        }
      ]
    },
    {
      "cell_type": "code",
      "source": [
        "AT2 = A.T\n",
        "AT2"
      ],
      "metadata": {
        "colab": {
          "base_uri": "https://localhost:8080/"
        },
        "id": "QlpF9ptgWAyK",
        "outputId": "14dc664c-0a5f-45d6-c9fe-605414f98ff6"
      },
      "execution_count": null,
      "outputs": [
        {
          "output_type": "execute_result",
          "data": {
            "text/plain": [
              "array([[ 2,  0,  9],\n",
              "       [ 4, -2,  1],\n",
              "       [ 7,  8, -2]])"
            ]
          },
          "metadata": {},
          "execution_count": 6
        }
      ]
    },
    {
      "cell_type": "code",
      "source": [
        "np.array_equiv(AT1, AT2)"
      ],
      "metadata": {
        "colab": {
          "base_uri": "https://localhost:8080/"
        },
        "id": "Ecv0zBTtWK49",
        "outputId": "6c5ac8d1-3f48-4ac0-a212-7fe16b7fef54"
      },
      "execution_count": null,
      "outputs": [
        {
          "output_type": "execute_result",
          "data": {
            "text/plain": [
              "True"
            ]
          },
          "metadata": {},
          "execution_count": 7
        }
      ]
    },
    {
      "cell_type": "code",
      "source": [
        "B = np.array([\n",
        "    [2, 9, 1, 0],\n",
        "    [-1, 0, 2, 8],\n",
        "    [3, 2, 6, -6]\n",
        "])\n",
        "B.shape"
      ],
      "metadata": {
        "colab": {
          "base_uri": "https://localhost:8080/"
        },
        "id": "sJUHVKM9YLO4",
        "outputId": "4ae9547e-72e8-4d37-b9e9-1971280a25e8"
      },
      "execution_count": null,
      "outputs": [
        {
          "output_type": "execute_result",
          "data": {
            "text/plain": [
              "(3, 4)"
            ]
          },
          "metadata": {},
          "execution_count": 8
        }
      ]
    },
    {
      "cell_type": "code",
      "source": [
        "np.transpose(B).shape"
      ],
      "metadata": {
        "colab": {
          "base_uri": "https://localhost:8080/"
        },
        "id": "MAoa5gK6Yg7s",
        "outputId": "a89232c0-c608-4918-f7e7-252b2d4d2c0f"
      },
      "execution_count": null,
      "outputs": [
        {
          "output_type": "execute_result",
          "data": {
            "text/plain": [
              "(4, 3)"
            ]
          },
          "metadata": {},
          "execution_count": 9
        }
      ]
    },
    {
      "cell_type": "code",
      "source": [
        "B.T.shape\n"
      ],
      "metadata": {
        "colab": {
          "base_uri": "https://localhost:8080/"
        },
        "id": "tGgvtXp4YlFK",
        "outputId": "5c14ff41-536e-424e-c757-672281d935cb"
      },
      "execution_count": null,
      "outputs": [
        {
          "output_type": "execute_result",
          "data": {
            "text/plain": [
              "(4, 3)"
            ]
          },
          "metadata": {},
          "execution_count": 10
        }
      ]
    },
    {
      "cell_type": "markdown",
      "source": [
        "### Practice"
      ],
      "metadata": {
        "id": "mH4-1AEkYzjs"
      }
    },
    {
      "cell_type": "code",
      "source": [
        "K = np.array([\n",
        "    [-1, 0, 2, 0],\n",
        "    [2, 8, 6, 5],\n",
        "    [0, 7, 1, 3]\n",
        "])\n",
        "M = np.array([\n",
        "    [1, 2, 2],\n",
        "    [9, 0, 1],\n",
        "    [-1, 6, 0],\n",
        "    [-7, 8, 9]\n",
        "])"
      ],
      "metadata": {
        "id": "VQp3JkbvZK6h"
      },
      "execution_count": null,
      "outputs": []
    },
    {
      "cell_type": "code",
      "source": [
        "np.array_equiv(K, M)"
      ],
      "metadata": {
        "colab": {
          "base_uri": "https://localhost:8080/"
        },
        "id": "4ITB-ihHZ0Mz",
        "outputId": "13b0929e-71e8-4fe2-95ca-f60b31f0399b"
      },
      "execution_count": null,
      "outputs": [
        {
          "output_type": "execute_result",
          "data": {
            "text/plain": [
              "False"
            ]
          },
          "metadata": {},
          "execution_count": 27
        }
      ]
    },
    {
      "cell_type": "code",
      "source": [
        "np.dot(K, M)"
      ],
      "metadata": {
        "colab": {
          "base_uri": "https://localhost:8080/"
        },
        "id": "Jn34e8C3aAiu",
        "outputId": "f9f90f09-953a-406a-fa5d-2ff28817b9f7"
      },
      "execution_count": null,
      "outputs": [
        {
          "output_type": "execute_result",
          "data": {
            "text/plain": [
              "array([[-3, 10, -2],\n",
              "       [33, 80, 57],\n",
              "       [41, 30, 34]])"
            ]
          },
          "metadata": {},
          "execution_count": 28
        }
      ]
    },
    {
      "cell_type": "code",
      "source": [
        "X.dot(M)"
      ],
      "metadata": {
        "colab": {
          "base_uri": "https://localhost:8080/"
        },
        "id": "cNK2zG2qav0m",
        "outputId": "49dd692b-bd35-4080-ec5b-3ef42a24fd22"
      },
      "execution_count": null,
      "outputs": [
        {
          "output_type": "execute_result",
          "data": {
            "text/plain": [
              "array([[-3, 10, -2],\n",
              "       [33, 80, 57],\n",
              "       [41, 30, 34]])"
            ]
          },
          "metadata": {},
          "execution_count": 30
        }
      ]
    },
    {
      "cell_type": "code",
      "source": [
        "K @ M"
      ],
      "metadata": {
        "colab": {
          "base_uri": "https://localhost:8080/"
        },
        "id": "twG0ujnWa3OP",
        "outputId": "1e73a667-d6be-41b8-ae29-7a0ab7019564"
      },
      "execution_count": null,
      "outputs": [
        {
          "output_type": "execute_result",
          "data": {
            "text/plain": [
              "array([[-3, 10, -2],\n",
              "       [33, 80, 57],\n",
              "       [41, 30, 34]])"
            ]
          },
          "metadata": {},
          "execution_count": 32
        }
      ]
    },
    {
      "cell_type": "code",
      "source": [
        "np.matmul(K,M)"
      ],
      "metadata": {
        "colab": {
          "base_uri": "https://localhost:8080/"
        },
        "id": "fL2ioDTzbj4B",
        "outputId": "09904f89-5f23-4ba5-846e-4491ea497eb6"
      },
      "execution_count": null,
      "outputs": [
        {
          "output_type": "execute_result",
          "data": {
            "text/plain": [
              "array([[-3, 10, -2],\n",
              "       [33, 80, 57],\n",
              "       [41, 30, 34]])"
            ]
          },
          "metadata": {},
          "execution_count": 33
        }
      ]
    },
    {
      "cell_type": "markdown",
      "source": [
        "## Dot Product / Inner Product"
      ],
      "metadata": {
        "id": "rM5ZDiAkHw3X"
      }
    },
    {
      "cell_type": "markdown",
      "source": [
        "The Dot Product is also known as Vector Multiplication which is a method to compute a product of two matrices. It is done by getting the sum of the products of elements in regards with their position which is between the rows of the first matrix and columns of the second matrix.\tUsing the operator @, and the functions np.dot( ) and np.matmul( ), this can be executed in Python."
      ],
      "metadata": {
        "id": "zAXi4yJeJd6E"
      }
    },
    {
      "cell_type": "markdown",
      "source": [
        "If you recall the dot product from laboratory activity before, we will try to implement the same operation with matrices. In matrix dot product we are going to get the sum of products of the vectors by row-column pairs. So if we have two matrices $X$ and $Y$:\n",
        "\n",
        "$$X = \\begin{bmatrix}x_{(0,0)}&x_{(0,1)}\\\\ x_{(1,0)}&x_{(1,1)}\\end{bmatrix}, Y = \\begin{bmatrix}y_{(0,0)}&y_{(0,1)}\\\\ y_{(1,0)}&y_{(1,1)}\\end{bmatrix}$$\n",
        "\n",
        "The dot product will then be computed as:\n",
        "$$X \\cdot Y= \\begin{bmatrix} x_{(0,0)}*y_{(0,0)} + x_{(0,1)}*y_{(1,0)} & x_{(0,0)}*y_{(0,1)} + x_{(0,1)}*y_{(1,1)} \\\\  x_{(1,0)}*y_{(0,0)} + x_{(1,1)}*y_{(1,0)} & x_{(1,0)}*y_{(0,1)} + x_{(1,1)}*y_{(1,1)}\n",
        "\\end{bmatrix}$$\n",
        "\n",
        "So if we assign values to $X$ and $Y$:\n",
        "$$X = \\begin{bmatrix}1&2\\\\ 0&1\\end{bmatrix}, Y = \\begin{bmatrix}-1&0\\\\ 2&2\\end{bmatrix}$$"
      ],
      "metadata": {
        "id": "J7CIq6O9H32F"
      }
    },
    {
      "cell_type": "markdown",
      "source": [
        "$$X \\cdot Y= \\begin{bmatrix} 1*-1 + 2*2 & 1*0 + 2*2 \\\\  0*-1 + 1*2 & 0*0 + 1*2 \\end{bmatrix} = \\begin{bmatrix} 3 & 4 \\\\2 & 2 \\end{bmatrix}$$"
      ],
      "metadata": {
        "id": "suhVKbJiICq8"
      }
    },
    {
      "cell_type": "code",
      "source": [
        "G = np.array([\n",
        "    [3, 7],\n",
        "    [0, 1]\n",
        "])\n",
        "H = np.array([\n",
        "    [-2, 1],\n",
        "    [0, 1]\n",
        "])"
      ],
      "metadata": {
        "id": "L25Kaz_xJbms"
      },
      "execution_count": null,
      "outputs": []
    },
    {
      "cell_type": "code",
      "source": [
        "np.array_equiv(G,H)"
      ],
      "metadata": {
        "id": "qalKb0NmJ2lE",
        "outputId": "efa75eb0-0689-4ba9-d4f7-95f4ff83ea61",
        "colab": {
          "base_uri": "https://localhost:8080/"
        }
      },
      "execution_count": null,
      "outputs": [
        {
          "output_type": "execute_result",
          "data": {
            "text/plain": [
              "False"
            ]
          },
          "metadata": {},
          "execution_count": 4
        }
      ]
    },
    {
      "cell_type": "code",
      "source": [
        "np.dot(G,H)"
      ],
      "metadata": {
        "id": "gSPZgDYwKJ3Q",
        "outputId": "3504d195-0955-43ec-b9c4-e00025a9773c",
        "colab": {
          "base_uri": "https://localhost:8080/"
        }
      },
      "execution_count": null,
      "outputs": [
        {
          "output_type": "execute_result",
          "data": {
            "text/plain": [
              "array([[-6, 10],\n",
              "       [ 0,  1]])"
            ]
          },
          "metadata": {},
          "execution_count": 5
        }
      ]
    },
    {
      "cell_type": "code",
      "source": [
        "G.dot(H)"
      ],
      "metadata": {
        "id": "D2FewTnbKOhk",
        "outputId": "8b579471-2a29-4108-cff7-0f54fb97be97",
        "colab": {
          "base_uri": "https://localhost:8080/"
        }
      },
      "execution_count": null,
      "outputs": [
        {
          "output_type": "execute_result",
          "data": {
            "text/plain": [
              "array([[-6, 10],\n",
              "       [ 0,  1]])"
            ]
          },
          "metadata": {},
          "execution_count": 6
        }
      ]
    },
    {
      "cell_type": "code",
      "source": [
        "G @ H"
      ],
      "metadata": {
        "id": "F6B2OWyxKTUh",
        "outputId": "fa820701-0d34-4823-bc76-6c8e38049b15",
        "colab": {
          "base_uri": "https://localhost:8080/"
        }
      },
      "execution_count": null,
      "outputs": [
        {
          "output_type": "execute_result",
          "data": {
            "text/plain": [
              "array([[-6, 10],\n",
              "       [ 0,  1]])"
            ]
          },
          "metadata": {},
          "execution_count": 7
        }
      ]
    },
    {
      "cell_type": "code",
      "source": [
        "np.matmul(G,H)"
      ],
      "metadata": {
        "id": "hHbRMwSNKVrY",
        "outputId": "9aae2292-c614-4706-9fe2-459fa90fca27",
        "colab": {
          "base_uri": "https://localhost:8080/"
        }
      },
      "execution_count": null,
      "outputs": [
        {
          "output_type": "execute_result",
          "data": {
            "text/plain": [
              "array([[-6, 10],\n",
              "       [ 0,  1]])"
            ]
          },
          "metadata": {},
          "execution_count": 8
        }
      ]
    },
    {
      "cell_type": "code",
      "source": [
        "S = np.array([\n",
        "    [4, 1, 0],\n",
        "    [3, 7, -2],\n",
        "    [1, 2, 3]\n",
        "])\n",
        "T = np.array([\n",
        "    [9, 1, 3],\n",
        "    [4, 2, 6],\n",
        "    [0, -2, 6]\n",
        "])"
      ],
      "metadata": {
        "id": "M4oUKyFJKZii"
      },
      "execution_count": null,
      "outputs": []
    },
    {
      "cell_type": "code",
      "source": [
        "S @ T"
      ],
      "metadata": {
        "id": "n0_Zyt2xLJbN",
        "outputId": "deaa32cf-bcbc-416a-b10c-d9a464d73546",
        "colab": {
          "base_uri": "https://localhost:8080/"
        }
      },
      "execution_count": null,
      "outputs": [
        {
          "output_type": "execute_result",
          "data": {
            "text/plain": [
              "array([[40,  6, 18],\n",
              "       [55, 21, 39],\n",
              "       [17, -1, 33]])"
            ]
          },
          "metadata": {},
          "execution_count": 4
        }
      ]
    },
    {
      "cell_type": "code",
      "source": [
        "S.dot(T)"
      ],
      "metadata": {
        "id": "_eeQ0ZsNDFWs",
        "outputId": "ab58506a-fdea-428c-9f72-678e47cf4ad8",
        "colab": {
          "base_uri": "https://localhost:8080/"
        }
      },
      "execution_count": null,
      "outputs": [
        {
          "output_type": "execute_result",
          "data": {
            "text/plain": [
              "array([[40,  6, 18],\n",
              "       [55, 21, 39],\n",
              "       [17, -1, 33]])"
            ]
          },
          "metadata": {},
          "execution_count": 5
        }
      ]
    },
    {
      "cell_type": "code",
      "source": [
        "np.matmul(S,T)"
      ],
      "metadata": {
        "id": "5_tto6TcDJE0",
        "outputId": "fe2d1c02-8027-450a-9c57-8b6aa5fc950a",
        "colab": {
          "base_uri": "https://localhost:8080/"
        }
      },
      "execution_count": null,
      "outputs": [
        {
          "output_type": "execute_result",
          "data": {
            "text/plain": [
              "array([[40,  6, 18],\n",
              "       [55, 21, 39],\n",
              "       [17, -1, 33]])"
            ]
          },
          "metadata": {},
          "execution_count": 6
        }
      ]
    },
    {
      "cell_type": "code",
      "source": [
        "np.dot(S,T)"
      ],
      "metadata": {
        "id": "nS3kao8VDVx4",
        "outputId": "abab6a7b-1a0a-4475-8ac5-cf92d70144ef",
        "colab": {
          "base_uri": "https://localhost:8080/"
        }
      },
      "execution_count": null,
      "outputs": [
        {
          "output_type": "execute_result",
          "data": {
            "text/plain": [
              "array([[40,  6, 18],\n",
              "       [55, 21, 39],\n",
              "       [17, -1, 33]])"
            ]
          },
          "metadata": {},
          "execution_count": 7
        }
      ]
    },
    {
      "cell_type": "markdown",
      "source": [
        "### Rule 1: The inner dimensions of the two matrices in question must be the same. \n",
        "\n",
        "The two matrices in question must have the same inner dimensions. For instance, a matrix A which has dimension of  a x b where a and b are any integers. Then if we are executing a dot product, the matrix B should have a dimension of b x c where b and c are any integers as well. When the inner dimension of the two matrices is mismatched, the output on the Python would become “value error”. \n",
        " \n"
      ],
      "metadata": {
        "id": "sIUBuvilDbYp"
      }
    },
    {
      "cell_type": "code",
      "source": [
        "X = np.array([\n",
        "    [2, -1, 0, 4],\n",
        "    [1, 2, -7, 5],\n",
        "    [0, 2, 2, 1]\n",
        "])\n",
        "Y = np.array([\n",
        "    [-1, -2, -3, 4],\n",
        "    [2, 4, 6, 5],\n",
        "    [3, 5, 7, 6]\n",
        "])\n",
        "Z = np.array([\n",
        "    [1, 2, 3, 4],\n",
        "    [-1, -2, -3, -4],\n",
        "    [2, 3, 7, 6],\n",
        "    [1, 8, -2, 3]\n",
        "])\n",
        "print(X.shape)\n",
        "print(Y.shape)\n",
        "print(Z.shape)"
      ],
      "metadata": {
        "colab": {
          "base_uri": "https://localhost:8080/"
        },
        "id": "Yl4pqUSYb54F",
        "outputId": "d1a05ad9-d9a6-4382-9884-e88f6816cae7"
      },
      "execution_count": null,
      "outputs": [
        {
          "output_type": "stream",
          "name": "stdout",
          "text": [
            "(3, 4)\n",
            "(3, 4)\n",
            "(4, 4)\n"
          ]
        }
      ]
    },
    {
      "cell_type": "code",
      "source": [
        "X @ Z"
      ],
      "metadata": {
        "colab": {
          "base_uri": "https://localhost:8080/"
        },
        "id": "uLKnaPBidbIR",
        "outputId": "0c07109e-90de-4231-dc03-2809dc059918"
      },
      "execution_count": null,
      "outputs": [
        {
          "output_type": "execute_result",
          "data": {
            "text/plain": [
              "array([[  7,  38,   1,  24],\n",
              "       [-10,  17, -62, -31],\n",
              "       [  3,  10,   6,   7]])"
            ]
          },
          "metadata": {},
          "execution_count": 9
        }
      ]
    },
    {
      "cell_type": "code",
      "source": [
        "X @ Y"
      ],
      "metadata": {
        "colab": {
          "base_uri": "https://localhost:8080/",
          "height": 189
        },
        "id": "fhFH9-OkdgRn",
        "outputId": "b1787a88-0c81-48b0-e631-0693065f3a8d"
      },
      "execution_count": null,
      "outputs": [
        {
          "output_type": "error",
          "ename": "ValueError",
          "evalue": "ignored",
          "traceback": [
            "\u001b[0;31m---------------------------------------------------------------------------\u001b[0m",
            "\u001b[0;31mValueError\u001b[0m                                Traceback (most recent call last)",
            "\u001b[0;32m<ipython-input-10-7db1014e61e3>\u001b[0m in \u001b[0;36m<module>\u001b[0;34m()\u001b[0m\n\u001b[0;32m----> 1\u001b[0;31m \u001b[0mX\u001b[0m \u001b[0;34m@\u001b[0m \u001b[0mY\u001b[0m\u001b[0;34m\u001b[0m\u001b[0;34m\u001b[0m\u001b[0m\n\u001b[0m",
            "\u001b[0;31mValueError\u001b[0m: matmul: Input operand 1 has a mismatch in its core dimension 0, with gufunc signature (n?,k),(k,m?)->(n?,m?) (size 3 is different from 4)"
          ]
        }
      ]
    },
    {
      "cell_type": "markdown",
      "source": [
        "If you would notice the shape of the dot product changed and its shape is not the same as any of the matrices we used. The shape of a dot product is actually derived from the shapes of the matrices used. So recall matrix $A$ with a shape of $(a,b)$ and matrix $B$ with a shape of $(b,c)$, $A \\cdot B$ should have a shape $(a,c)$."
      ],
      "metadata": {
        "id": "4vtbYpY7d2fw"
      }
    },
    {
      "cell_type": "code",
      "source": [
        "X @ Y.T"
      ],
      "metadata": {
        "colab": {
          "base_uri": "https://localhost:8080/"
        },
        "id": "ZulAfwyZd3_s",
        "outputId": "ebc39888-4144-4c20-a0e5-7e5c3ef86d91"
      },
      "execution_count": null,
      "outputs": [
        {
          "output_type": "execute_result",
          "data": {
            "text/plain": [
              "array([[16, 20, 25],\n",
              "       [36, -7, -6],\n",
              "       [-6, 25, 30]])"
            ]
          },
          "metadata": {},
          "execution_count": 40
        }
      ]
    },
    {
      "cell_type": "code",
      "source": [
        "L = np.array([\n",
        "    [2, 4, 6, 8]\n",
        "])\n",
        "M = np.array([\n",
        "    [1, 3, 5, 7]\n",
        "])\n",
        "print(L.shape)\n",
        "print(M.shape)"
      ],
      "metadata": {
        "colab": {
          "base_uri": "https://localhost:8080/"
        },
        "id": "W9z6he-93CBK",
        "outputId": "b423b5a7-ae32-4c7d-f06c-b7f5fc31ffed"
      },
      "execution_count": null,
      "outputs": [
        {
          "output_type": "stream",
          "name": "stdout",
          "text": [
            "(1, 4)\n",
            "(1, 4)\n"
          ]
        }
      ]
    },
    {
      "cell_type": "code",
      "source": [
        "M.T @ L"
      ],
      "metadata": {
        "colab": {
          "base_uri": "https://localhost:8080/"
        },
        "id": "BXNSw41R4pjt",
        "outputId": "5a3f424c-69c8-4a97-c7c4-73ca8d0a52b8"
      },
      "execution_count": null,
      "outputs": [
        {
          "output_type": "execute_result",
          "data": {
            "text/plain": [
              "array([[ 2,  4,  6,  8],\n",
              "       [ 6, 12, 18, 24],\n",
              "       [10, 20, 30, 40],\n",
              "       [14, 28, 42, 56]])"
            ]
          },
          "metadata": {},
          "execution_count": 5
        }
      ]
    },
    {
      "cell_type": "code",
      "source": [
        "L @ M.T"
      ],
      "metadata": {
        "colab": {
          "base_uri": "https://localhost:8080/"
        },
        "id": "MCNPtxuJ4sHT",
        "outputId": "06024212-0aa9-44e9-acc2-7519bfab3d80"
      },
      "execution_count": null,
      "outputs": [
        {
          "output_type": "execute_result",
          "data": {
            "text/plain": [
              "array([[100]])"
            ]
          },
          "metadata": {},
          "execution_count": 6
        }
      ]
    },
    {
      "cell_type": "markdown",
      "source": [
        "And you can see that when you try to multiply A and B, it returns `ValueError` pertaining to matrix shape mismatch."
      ],
      "metadata": {
        "id": "fiOsph626sAu"
      }
    },
    {
      "cell_type": "markdown",
      "source": [
        "### Rule 2: Dot Product has special properties\n",
        "\n",
        "Dot products are prevalent in matrix algebra, this implies that it has several unique properties and it should be considered when formulation solutions:\n",
        " 1. $A \\cdot B \\neq B \\cdot A$\n",
        " 2. $A \\cdot (B \\cdot C) = (A \\cdot B) \\cdot C$\n",
        " 3. $A\\cdot(B+C) = A\\cdot B + A\\cdot C$\n",
        " 4. $(B+C)\\cdot A = B\\cdot A + C\\cdot A$\n",
        " 5. $A\\cdot I = A$\n",
        " 6. $A\\cdot \\emptyset = \\emptyset$ "
      ],
      "metadata": {
        "id": "0jrVipwHeFz-"
      }
    },
    {
      "cell_type": "code",
      "source": [
        "F = np.array([\n",
        "    [5, 9, 1],\n",
        "    [2, 0, 5],\n",
        "    [1, 4, 6]\n",
        "])\n",
        "G = np.array([\n",
        "    [0, 1, 4],\n",
        "    [7, 9, -4],\n",
        "    [-3, 5, 2]\n",
        "])\n",
        "H = np.array([\n",
        "    [2, 0, 1],\n",
        "    [7, 1, 4],\n",
        "    [4, 1, 0]\n",
        "])"
      ],
      "metadata": {
        "id": "ZZkvfE8b7w2A"
      },
      "execution_count": null,
      "outputs": []
    },
    {
      "cell_type": "code",
      "source": [
        "np.eye(4)"
      ],
      "metadata": {
        "colab": {
          "base_uri": "https://localhost:8080/"
        },
        "id": "gco31lNuATNO",
        "outputId": "0df7bc80-c4dd-457b-f6fa-dd0419a311ca"
      },
      "execution_count": null,
      "outputs": [
        {
          "output_type": "execute_result",
          "data": {
            "text/plain": [
              "array([[1., 0., 0., 0.],\n",
              "       [0., 1., 0., 0.],\n",
              "       [0., 0., 1., 0.],\n",
              "       [0., 0., 0., 1.]])"
            ]
          },
          "metadata": {},
          "execution_count": 17
        }
      ]
    },
    {
      "cell_type": "code",
      "source": [
        "F.dot(np.eye(3))"
      ],
      "metadata": {
        "colab": {
          "base_uri": "https://localhost:8080/"
        },
        "id": "P16oxNMLAgrx",
        "outputId": "e107415c-09ba-4ba4-e1b5-d3845a3b8c30"
      },
      "execution_count": null,
      "outputs": [
        {
          "output_type": "execute_result",
          "data": {
            "text/plain": [
              "array([[5., 9., 1.],\n",
              "       [2., 0., 5.],\n",
              "       [1., 4., 6.]])"
            ]
          },
          "metadata": {},
          "execution_count": 18
        }
      ]
    },
    {
      "cell_type": "code",
      "source": [
        "np.array_equal(F@G, G@F)"
      ],
      "metadata": {
        "colab": {
          "base_uri": "https://localhost:8080/"
        },
        "id": "YMenEjvqPjIQ",
        "outputId": "cd94bcb5-6703-4bde-b36f-aa1d08ceca31"
      },
      "execution_count": null,
      "outputs": [
        {
          "output_type": "execute_result",
          "data": {
            "text/plain": [
              "False"
            ]
          },
          "metadata": {},
          "execution_count": 19
        }
      ]
    },
    {
      "cell_type": "code",
      "source": [
        "R = F @ (G @ H)\n",
        "R"
      ],
      "metadata": {
        "colab": {
          "base_uri": "https://localhost:8080/"
        },
        "id": "njUNq2YHP9Tr",
        "outputId": "30494468-721e-416c-f375-6dcd8ebd6d89"
      },
      "execution_count": null,
      "outputs": [
        {
          "output_type": "execute_result",
          "data": {
            "text/plain": [
              "array([[701,  77, 424],\n",
              "       [231,  45,  93],\n",
              "       [489,  67, 278]])"
            ]
          },
          "metadata": {},
          "execution_count": 21
        }
      ]
    },
    {
      "cell_type": "code",
      "source": [
        "S = (F @ G) @ H\n",
        "S"
      ],
      "metadata": {
        "colab": {
          "base_uri": "https://localhost:8080/"
        },
        "id": "XjVmAfpYRGQe",
        "outputId": "2a8227c8-f7c8-4cf8-c31b-a4539c7ad72a"
      },
      "execution_count": null,
      "outputs": [
        {
          "output_type": "execute_result",
          "data": {
            "text/plain": [
              "array([[701,  77, 424],\n",
              "       [231,  45,  93],\n",
              "       [489,  67, 278]])"
            ]
          },
          "metadata": {},
          "execution_count": 24
        }
      ]
    },
    {
      "cell_type": "code",
      "source": [
        "np.array_equal(R, L)"
      ],
      "metadata": {
        "colab": {
          "base_uri": "https://localhost:8080/"
        },
        "id": "6XizaTy1Qj0-",
        "outputId": "63bbd7a5-72f6-40b8-835b-8b6e4286ac73"
      },
      "execution_count": null,
      "outputs": [
        {
          "output_type": "execute_result",
          "data": {
            "text/plain": [
              "False"
            ]
          },
          "metadata": {},
          "execution_count": 22
        }
      ]
    },
    {
      "cell_type": "code",
      "source": [
        "np.array_equiv(R,S)"
      ],
      "metadata": {
        "colab": {
          "base_uri": "https://localhost:8080/"
        },
        "id": "W42SzzZKRB0a",
        "outputId": "d11ddd6f-860d-4dfc-88e2-4b61e4810301"
      },
      "execution_count": null,
      "outputs": [
        {
          "output_type": "execute_result",
          "data": {
            "text/plain": [
              "True"
            ]
          },
          "metadata": {},
          "execution_count": 25
        }
      ]
    },
    {
      "cell_type": "code",
      "source": [
        "np.eye(F)"
      ],
      "metadata": {
        "colab": {
          "base_uri": "https://localhost:8080/",
          "height": 316
        },
        "id": "1XqAfhT5RVAL",
        "outputId": "e8adae47-c3aa-472b-f9d1-18bf185d4b3f"
      },
      "execution_count": null,
      "outputs": [
        {
          "output_type": "error",
          "ename": "TypeError",
          "evalue": "ignored",
          "traceback": [
            "\u001b[0;31m---------------------------------------------------------------------------\u001b[0m",
            "\u001b[0;31mTypeError\u001b[0m                                 Traceback (most recent call last)",
            "\u001b[0;32m<ipython-input-26-9016dec85275>\u001b[0m in \u001b[0;36m<module>\u001b[0;34m()\u001b[0m\n\u001b[0;32m----> 1\u001b[0;31m \u001b[0mnp\u001b[0m\u001b[0;34m.\u001b[0m\u001b[0meye\u001b[0m\u001b[0;34m(\u001b[0m\u001b[0mF\u001b[0m\u001b[0;34m)\u001b[0m\u001b[0;34m\u001b[0m\u001b[0;34m\u001b[0m\u001b[0m\n\u001b[0m",
            "\u001b[0;32m/usr/local/lib/python3.7/dist-packages/numpy/lib/twodim_base.py\u001b[0m in \u001b[0;36meye\u001b[0;34m(N, M, k, dtype, order, like)\u001b[0m\n\u001b[1;32m    212\u001b[0m     \u001b[0;32mif\u001b[0m \u001b[0mM\u001b[0m \u001b[0;32mis\u001b[0m \u001b[0;32mNone\u001b[0m\u001b[0;34m:\u001b[0m\u001b[0;34m\u001b[0m\u001b[0;34m\u001b[0m\u001b[0m\n\u001b[1;32m    213\u001b[0m         \u001b[0mM\u001b[0m \u001b[0;34m=\u001b[0m \u001b[0mN\u001b[0m\u001b[0;34m\u001b[0m\u001b[0;34m\u001b[0m\u001b[0m\n\u001b[0;32m--> 214\u001b[0;31m     \u001b[0mm\u001b[0m \u001b[0;34m=\u001b[0m \u001b[0mzeros\u001b[0m\u001b[0;34m(\u001b[0m\u001b[0;34m(\u001b[0m\u001b[0mN\u001b[0m\u001b[0;34m,\u001b[0m \u001b[0mM\u001b[0m\u001b[0;34m)\u001b[0m\u001b[0;34m,\u001b[0m \u001b[0mdtype\u001b[0m\u001b[0;34m=\u001b[0m\u001b[0mdtype\u001b[0m\u001b[0;34m,\u001b[0m \u001b[0morder\u001b[0m\u001b[0;34m=\u001b[0m\u001b[0morder\u001b[0m\u001b[0;34m)\u001b[0m\u001b[0;34m\u001b[0m\u001b[0;34m\u001b[0m\u001b[0m\n\u001b[0m\u001b[1;32m    215\u001b[0m     \u001b[0;32mif\u001b[0m \u001b[0mk\u001b[0m \u001b[0;34m>=\u001b[0m \u001b[0mM\u001b[0m\u001b[0;34m:\u001b[0m\u001b[0;34m\u001b[0m\u001b[0;34m\u001b[0m\u001b[0m\n\u001b[1;32m    216\u001b[0m         \u001b[0;32mreturn\u001b[0m \u001b[0mm\u001b[0m\u001b[0;34m\u001b[0m\u001b[0;34m\u001b[0m\u001b[0m\n",
            "\u001b[0;31mTypeError\u001b[0m: only integer scalar arrays can be converted to a scalar index"
          ]
        }
      ]
    },
    {
      "cell_type": "code",
      "source": [
        "F @ R"
      ],
      "metadata": {
        "colab": {
          "base_uri": "https://localhost:8080/"
        },
        "id": "cUDBVfZHRe2B",
        "outputId": "5e7ad69c-4b79-4e69-852f-eb1bfe69d437"
      },
      "execution_count": null,
      "outputs": [
        {
          "output_type": "execute_result",
          "data": {
            "text/plain": [
              "array([[6073,  857, 3235],\n",
              "       [3847,  489, 2238],\n",
              "       [4559,  659, 2464]])"
            ]
          },
          "metadata": {},
          "execution_count": 27
        }
      ]
    },
    {
      "cell_type": "code",
      "source": [
        "z_mat = np.zeros(F.shape)\n",
        "z_mat"
      ],
      "metadata": {
        "colab": {
          "base_uri": "https://localhost:8080/"
        },
        "id": "VQ0dIInFRjRy",
        "outputId": "372511b1-2f02-4693-faee-86432de7555c"
      },
      "execution_count": null,
      "outputs": [
        {
          "output_type": "execute_result",
          "data": {
            "text/plain": [
              "array([[0., 0., 0.],\n",
              "       [0., 0., 0.],\n",
              "       [0., 0., 0.]])"
            ]
          },
          "metadata": {},
          "execution_count": 29
        }
      ]
    },
    {
      "cell_type": "code",
      "source": [
        "a_dot_z = F.dot(np.zeros(F.shape))\n",
        "a_dot_z"
      ],
      "metadata": {
        "colab": {
          "base_uri": "https://localhost:8080/"
        },
        "id": "-3wf3lWKRrVn",
        "outputId": "bad21db6-3119-4211-86d1-a36a6741b433"
      },
      "execution_count": null,
      "outputs": [
        {
          "output_type": "execute_result",
          "data": {
            "text/plain": [
              "array([[0., 0., 0.],\n",
              "       [0., 0., 0.],\n",
              "       [0., 0., 0.]])"
            ]
          },
          "metadata": {},
          "execution_count": 31
        }
      ]
    },
    {
      "cell_type": "code",
      "source": [
        "np.array_equal(a_dot_z, z_mat)"
      ],
      "metadata": {
        "colab": {
          "base_uri": "https://localhost:8080/"
        },
        "id": "voUJnnWFUa9z",
        "outputId": "8f91c696-c2fd-4d46-a258-4f8b44b9f9a7"
      },
      "execution_count": null,
      "outputs": [
        {
          "output_type": "execute_result",
          "data": {
            "text/plain": [
              "True"
            ]
          },
          "metadata": {},
          "execution_count": 32
        }
      ]
    },
    {
      "cell_type": "code",
      "source": [
        "null_mat = np.empty(F.shape, dtype=float)\n",
        "null = np.array(null_mat, dtype=float)\n",
        "print(null)\n",
        "np.allclose(a_dot_z, null)"
      ],
      "metadata": {
        "colab": {
          "base_uri": "https://localhost:8080/"
        },
        "id": "J6WyLBK-UmEZ",
        "outputId": "a34b7824-0bcc-450e-f5d6-8bfcd69bf207"
      },
      "execution_count": null,
      "outputs": [
        {
          "output_type": "stream",
          "name": "stdout",
          "text": [
            "[[0. 0. 0.]\n",
            " [0. 0. 0.]\n",
            " [0. 0. 0.]]\n"
          ]
        },
        {
          "output_type": "execute_result",
          "data": {
            "text/plain": [
              "True"
            ]
          },
          "metadata": {},
          "execution_count": 34
        }
      ]
    },
    {
      "cell_type": "markdown",
      "source": [
        "## Determinant"
      ],
      "metadata": {
        "id": "xZonpozHVzJo"
      }
    },
    {
      "cell_type": "markdown",
      "source": [
        "Determinant is a unique integer that can be computed using a matrix that should be a square or in definition, the rows and columns of the matrix should be equal. It is useful in solving systems of linear equations [4]. Through using the function np.linalg.det( ), the determinant of the matrix would be solved. For instance, the given matrix here is a 2x2 matrix. To explain how it is solved, the method would be cross multiply then subtract to each other. \n",
        "\n",
        "But you might wonder how about square matrices beyond the shape $(2,2)$? We can approach this problem by using several methods such as co-factor expansion and the minors method. This can be taught in the lecture of the laboratory but we can achieve the strenuous computation of high-dimensional matrices programmatically using Python. "
      ],
      "metadata": {
        "id": "SZfR0j86fS2B"
      }
    },
    {
      "cell_type": "code",
      "source": [
        "A = np.array([\n",
        "    [2, 1, 0],\n",
        "    [-1, 6, 4],\n",
        "    [2, 9, 6]\n",
        "])\n",
        "np.linalg.det(A)"
      ],
      "metadata": {
        "colab": {
          "base_uri": "https://localhost:8080/"
        },
        "id": "ay2Rvq0sfUtY",
        "outputId": "7247e54f-4243-4bde-b643-209eade81937"
      },
      "execution_count": null,
      "outputs": [
        {
          "output_type": "execute_result",
          "data": {
            "text/plain": [
              "13.999999999999996"
            ]
          },
          "metadata": {},
          "execution_count": 42
        }
      ]
    },
    {
      "cell_type": "code",
      "source": [
        "B = np.array([\n",
        "    [2, 1],\n",
        "    [-1, 2]\n",
        "])\n",
        "np.linalg.det(B)"
      ],
      "metadata": {
        "colab": {
          "base_uri": "https://localhost:8080/"
        },
        "id": "FG-wo9dGflA3",
        "outputId": "12798bd9-2e2c-45c6-fc8e-5e2d588aa5d3"
      },
      "execution_count": null,
      "outputs": [
        {
          "output_type": "execute_result",
          "data": {
            "text/plain": [
              "5.000000000000001"
            ]
          },
          "metadata": {},
          "execution_count": 43
        }
      ]
    },
    {
      "cell_type": "code",
      "source": [
        "## Now other mathematics classes would require you to solve this by hand, \n",
        "## and that is great for practicing your memorization and coordination skills \n",
        "## but in this class we aim for simplicity and speed so we'll use programming\n",
        "## but it's completely fine if you want to try to solve this one by hand.\n",
        "B = np.array([\n",
        "    [2,2,4,4],\n",
        "    [0,1,2,3],\n",
        "    [3,6,9,2],\n",
        "    [4,2,6,8]\n",
        "])\n",
        "np.linalg.det(B)"
      ],
      "metadata": {
        "colab": {
          "base_uri": "https://localhost:8080/"
        },
        "id": "BGigeKg2f4mB",
        "outputId": "2043cc23-c2e7-4b65-8d99-c42f9fe6ce8e"
      },
      "execution_count": null,
      "outputs": [
        {
          "output_type": "execute_result",
          "data": {
            "text/plain": [
              "15.999999999999998"
            ]
          },
          "metadata": {},
          "execution_count": 44
        }
      ]
    },
    {
      "cell_type": "markdown",
      "source": [
        "##Inverse"
      ],
      "metadata": {
        "id": "wAOSKrYUg_9G"
      }
    },
    {
      "cell_type": "markdown",
      "source": [
        "In order to obtain the solution to linear equations, the inverse of the matrix is used. Through this, we can determine a matrix's solvability and characteristic as a system of linear equations. For example, we have matrix A, its inverse is denoted by $A^{-1}$. When the determinant of a matrix is non-zero and it is a square matrix, it could be solved by the method called invertible matrix. To compute the inverse of the matrix in Python, the function np.linalg.inv() is used."
      ],
      "metadata": {
        "id": "nlPu6cnFeixL"
      }
    },
    {
      "cell_type": "code",
      "source": [
        "K = np.array([\n",
        "    [2, 4, 6],\n",
        "    [1, 3, 5],\n",
        "    [2, 0, 2]\n",
        "])\n",
        "\n",
        "np.array(K @np.linalg.inv(K), dtype=int)"
      ],
      "metadata": {
        "colab": {
          "base_uri": "https://localhost:8080/"
        },
        "id": "mlUGJ8ukeuQI",
        "outputId": "28eea5c8-ad59-458c-b3fa-6216b8bf06f9"
      },
      "execution_count": null,
      "outputs": [
        {
          "output_type": "execute_result",
          "data": {
            "text/plain": [
              "array([[1, 0, 0],\n",
              "       [0, 1, 0],\n",
              "       [0, 0, 1]])"
            ]
          },
          "metadata": {},
          "execution_count": 36
        }
      ]
    },
    {
      "cell_type": "code",
      "source": [
        "L = np.array([\n",
        "              [2, 5, 9, 0],\n",
        "              [1, 9, 2, 9],\n",
        "              [2, 4, 5, 9],\n",
        "              [1, 1, 0, 0]\n",
        "])\n",
        "M = np.linalg.inv(L)\n",
        "M"
      ],
      "metadata": {
        "colab": {
          "base_uri": "https://localhost:8080/"
        },
        "id": "eXgc60UbhBOJ",
        "outputId": "b2ec2e07-338f-4daf-ad6c-741d241178d2"
      },
      "execution_count": null,
      "outputs": [
        {
          "output_type": "execute_result",
          "data": {
            "text/plain": [
              "array([[-0.04761905, -0.14285714,  0.14285714,  0.95238095],\n",
              "       [ 0.04761905,  0.14285714, -0.14285714,  0.04761905],\n",
              "       [ 0.0952381 , -0.04761905,  0.04761905, -0.23809524],\n",
              "       [-0.06349206, -0.00529101,  0.11640212, -0.1005291 ]])"
            ]
          },
          "metadata": {},
          "execution_count": 45
        }
      ]
    },
    {
      "cell_type": "code",
      "source": [
        "L @ M"
      ],
      "metadata": {
        "colab": {
          "base_uri": "https://localhost:8080/"
        },
        "id": "t93qJwBcheYU",
        "outputId": "77e7d263-d800-4373-c01a-3cb0b13845f7"
      },
      "execution_count": null,
      "outputs": [
        {
          "output_type": "execute_result",
          "data": {
            "text/plain": [
              "array([[ 1.00000000e+00, -6.93889390e-17,  6.93889390e-17,\n",
              "         0.00000000e+00],\n",
              "       [ 1.24900090e-16,  1.00000000e+00,  1.38777878e-17,\n",
              "         1.38777878e-16],\n",
              "       [ 1.24900090e-16, -6.07153217e-17,  1.00000000e+00,\n",
              "         1.38777878e-16],\n",
              "       [-7.63278329e-17,  0.00000000e+00,  0.00000000e+00,\n",
              "         1.00000000e+00]])"
            ]
          },
          "metadata": {},
          "execution_count": 46
        }
      ]
    },
    {
      "cell_type": "code",
      "source": [
        "## And now let's test your skills in solving a matrix with high dimensions:\n",
        "J = np.array([\n",
        "    [12,3,8,-2,0,9],\n",
        "    [9,4,1,63,1,4],\n",
        "    [4,14,94,-2,20,12],\n",
        "    [75,42,98,2,78,4],\n",
        "    [5,32,14,90,15,4],\n",
        "    [23,18,-5,0,11,6]\n",
        "])\n",
        "J_inv = np.linalg.inv(J)\n",
        "np.array(J @ J_inv,dtype=int)"
      ],
      "metadata": {
        "colab": {
          "base_uri": "https://localhost:8080/"
        },
        "id": "mK5q6Voug7Z4",
        "outputId": "045dc489-30cf-4b4f-8514-3c8720232f9b"
      },
      "execution_count": null,
      "outputs": [
        {
          "output_type": "execute_result",
          "data": {
            "text/plain": [
              "array([[0, 0, 0, 0, 0, 0],\n",
              "       [0, 1, 0, 0, 0, 0],\n",
              "       [0, 0, 1, 0, 0, 0],\n",
              "       [0, 0, 0, 1, 0, 0],\n",
              "       [0, 0, 0, 0, 0, 0],\n",
              "       [0, 0, 0, 0, 0, 0]])"
            ]
          },
          "metadata": {},
          "execution_count": 38
        }
      ]
    },
    {
      "cell_type": "markdown",
      "source": [
        "To validate the wether if the matric that you have solved is really the inverse, we follow this dot product property for a matrix $M$:\n",
        "$$M\\cdot M^{-1} = I$$"
      ],
      "metadata": {
        "id": "Gd7tEsLNiPYQ"
      }
    },
    {
      "cell_type": "code",
      "source": [
        "squad = np.array([\n",
        "    [2.5, 1.75],\n",
        "    [1.0, 3.0]\n",
        "])\n",
        "weights = np.array([\n",
        "    [0.3, 0.7]\n",
        "])\n",
        "k_grade = squad @ weights.T\n",
        "k_grade\n"
      ],
      "metadata": {
        "colab": {
          "base_uri": "https://localhost:8080/"
        },
        "id": "EfZn1wyoiR9D",
        "outputId": "9b4f29de-3471-4fd5-9e97-e192110d8a16"
      },
      "execution_count": null,
      "outputs": [
        {
          "output_type": "execute_result",
          "data": {
            "text/plain": [
              "array([[1.975],\n",
              "       [2.4  ]])"
            ]
          },
          "metadata": {},
          "execution_count": 39
        }
      ]
    },
    {
      "cell_type": "markdown",
      "source": [
        "### Task 1"
      ],
      "metadata": {
        "id": "-N4zp1Qwi0Pn"
      }
    },
    {
      "cell_type": "markdown",
      "source": [
        "Prove and implement the remaining 6 matrix multiplication properties. You may create your own matrices in which their shapes should not be lower than $(3,3)$.\n",
        "In your methodology, create individual flowcharts for each property and discuss the property you would then present your proofs or validity of your implementation in the results section by comparing your result to present functions from NumPy."
      ],
      "metadata": {
        "id": "mLS8TsQMi4kH"
      }
    },
    {
      "cell_type": "code",
      "source": [
        "E = np.array([\n",
        "    [1, 0, -1, 3],\n",
        "    [2, 0, -5, 5],\n",
        "    [9, 8, 3, 5],\n",
        "    [-6, -1, 0, 4]\n",
        "])\n",
        "F = np.array([\n",
        "    [2, 0, 4, 1],\n",
        "    [8, 3, -1, -7],\n",
        "    [8, 5, -3, 4],\n",
        "    [6, -1, 6, 3]\n",
        "])\n",
        "\n",
        "print('Matrix E:')\n",
        "print(E)\n",
        "print('Matrix F:')\n",
        "print(F)"
      ],
      "metadata": {
        "colab": {
          "base_uri": "https://localhost:8080/"
        },
        "id": "r5fJx_y8m6ll",
        "outputId": "00ab7d01-a2a1-4a3e-95cd-19f039c72de9"
      },
      "execution_count": null,
      "outputs": [
        {
          "output_type": "stream",
          "name": "stdout",
          "text": [
            "Matrix E:\n",
            "[[ 1  0 -1  3]\n",
            " [ 2  0 -5  5]\n",
            " [ 9  8  3  5]\n",
            " [-6 -1  0  4]]\n",
            "Matrix F:\n",
            "[[ 2  0  4  1]\n",
            " [ 8  3 -1 -7]\n",
            " [ 8  5 -3  4]\n",
            " [ 6 -1  6  3]]\n"
          ]
        }
      ]
    },
    {
      "cell_type": "markdown",
      "source": [
        " $A \\cdot B \\neq B \\cdot A$"
      ],
      "metadata": {
        "id": "qvoKSZxdo2AZ"
      }
    },
    {
      "cell_type": "code",
      "source": [
        "print('Matrix product EF:')\n",
        "EF = np.matmul(E,F)\n",
        "EF"
      ],
      "metadata": {
        "colab": {
          "base_uri": "https://localhost:8080/"
        },
        "id": "4-oaKHqko3bt",
        "outputId": "9b257e49-b92b-4712-affb-2fb3a350fd9f"
      },
      "execution_count": 7,
      "outputs": [
        {
          "output_type": "stream",
          "name": "stdout",
          "text": [
            "Matrix product EF:\n"
          ]
        },
        {
          "output_type": "execute_result",
          "data": {
            "text/plain": [
              "array([[ 12,  -8,  25,   6],\n",
              "       [ -6, -30,  53,  -3],\n",
              "       [136,  34,  49, -20],\n",
              "       [  4,  -7,   1,  13]])"
            ]
          },
          "metadata": {},
          "execution_count": 7
        }
      ]
    },
    {
      "cell_type": "code",
      "source": [
        "print('Matrix product FE:')\n",
        "FE = np.matmul(F,E)\n",
        "FE"
      ],
      "metadata": {
        "colab": {
          "base_uri": "https://localhost:8080/"
        },
        "id": "4vtKCUuNi2Xm",
        "outputId": "ea369e73-757d-41b8-d8e6-fdd06bb98942"
      },
      "execution_count": 8,
      "outputs": [
        {
          "output_type": "stream",
          "name": "stdout",
          "text": [
            "Matrix product FE:\n"
          ]
        },
        {
          "output_type": "execute_result",
          "data": {
            "text/plain": [
              "array([[ 32,  31,  10,  30],\n",
              "       [ 47,  -1, -26,   6],\n",
              "       [-33, -28, -42,  50],\n",
              "       [ 40,  45,  17,  55]])"
            ]
          },
          "metadata": {},
          "execution_count": 8
        }
      ]
    },
    {
      "cell_type": "code",
      "source": [
        "np.array_equal(EF, FE)"
      ],
      "metadata": {
        "colab": {
          "base_uri": "https://localhost:8080/"
        },
        "id": "-zaZKaxJi48R",
        "outputId": "386863ee-1277-4453-cb7f-87f4c953bc86"
      },
      "execution_count": 9,
      "outputs": [
        {
          "output_type": "execute_result",
          "data": {
            "text/plain": [
              "False"
            ]
          },
          "metadata": {},
          "execution_count": 9
        }
      ]
    },
    {
      "cell_type": "code",
      "source": [
        "G = np.array([\n",
        "    [2, 3, -4, 9],\n",
        "    [2, 2, -2, -2],\n",
        "    [0, 1, 6, 3],\n",
        "    [-2, -9, 1, 8]\n",
        "])\n",
        "H = np.array([\n",
        "    [1, 9, 3],\n",
        "    [2, 3, 2],\n",
        "    [3, 9, 4],\n",
        "    [1, 6, 2]\n",
        "])\n",
        "I = np.array([\n",
        "    [2, 4, 6],\n",
        "    [9, 0, 1],\n",
        "    [2, 6, 9]\n",
        "])\n",
        "GH = np.matmul(G,H)\n",
        "HI = np.matmul(H,I)\n",
        "\n",
        "print('Matrix G:')\n",
        "print(G)\n",
        "print('Matrix H:')\n",
        "print(H)\n",
        "print('Matrix I:')\n",
        "print(I)"
      ],
      "metadata": {
        "colab": {
          "base_uri": "https://localhost:8080/"
        },
        "id": "d3q3qcc3psb2",
        "outputId": "8324f0b4-9450-4d1c-8bd5-54d70628a0de"
      },
      "execution_count": 11,
      "outputs": [
        {
          "output_type": "stream",
          "name": "stdout",
          "text": [
            "Matrix G:\n",
            "[[ 2  3 -4  9]\n",
            " [ 2  2 -2 -2]\n",
            " [ 0  1  6  3]\n",
            " [-2 -9  1  8]]\n",
            "Matrix H:\n",
            "[[1 9 3]\n",
            " [2 3 2]\n",
            " [3 9 4]\n",
            " [1 6 2]]\n",
            "Matrix I:\n",
            "[[2 4 6]\n",
            " [9 0 1]\n",
            " [2 6 9]]\n"
          ]
        }
      ]
    },
    {
      "cell_type": "markdown",
      "source": [
        "$A \\cdot (B \\cdot C) = (A \\cdot B) \\cdot C$"
      ],
      "metadata": {
        "id": "1MjqBz1WqedC"
      }
    },
    {
      "cell_type": "code",
      "source": [
        "print('Matrix Product (GH)I:')\n",
        "L = np.matmul(GH,I)\n",
        "L"
      ],
      "metadata": {
        "colab": {
          "base_uri": "https://localhost:8080/"
        },
        "id": "9uJopuYcqliN",
        "outputId": "bc9c3023-3ff1-4e66-d011-2149cfeb3421"
      },
      "execution_count": 12,
      "outputs": [
        {
          "output_type": "stream",
          "name": "stdout",
          "text": [
            "Matrix Product (GH)I:\n"
          ]
        },
        {
          "output_type": "execute_result",
          "data": {
            "text/plain": [
              "array([[443, 104, 201],\n",
              "       [-62, -20, -36],\n",
              "       [785, 284, 501],\n",
              "       [ 82, -60, -78]])"
            ]
          },
          "metadata": {},
          "execution_count": 12
        }
      ]
    },
    {
      "cell_type": "code",
      "source": [
        "print('Matrix Product G(HI)')\n",
        "R = np.matmul(G,HI)\n",
        "R"
      ],
      "metadata": {
        "colab": {
          "base_uri": "https://localhost:8080/"
        },
        "id": "QzfADoMKjEyo",
        "outputId": "ecd2a2ca-3f7b-4d67-8837-ed942a3acd67"
      },
      "execution_count": 13,
      "outputs": [
        {
          "output_type": "stream",
          "name": "stdout",
          "text": [
            "Matrix Product G(HI)\n"
          ]
        },
        {
          "output_type": "execute_result",
          "data": {
            "text/plain": [
              "array([[443, 104, 201],\n",
              "       [-62, -20, -36],\n",
              "       [785, 284, 501],\n",
              "       [ 82, -60, -78]])"
            ]
          },
          "metadata": {},
          "execution_count": 13
        }
      ]
    },
    {
      "cell_type": "code",
      "source": [
        "np.array_equal(L, R)"
      ],
      "metadata": {
        "colab": {
          "base_uri": "https://localhost:8080/"
        },
        "id": "1lQSRfJajbWt",
        "outputId": "892ec642-9c93-4b60-8d66-3fff9961cd44"
      },
      "execution_count": 14,
      "outputs": [
        {
          "output_type": "execute_result",
          "data": {
            "text/plain": [
              "True"
            ]
          },
          "metadata": {},
          "execution_count": 14
        }
      ]
    },
    {
      "cell_type": "code",
      "source": [
        "J = np.array([-1,3,2])\n",
        "K = np.array([\n",
        "    [0, 2, 3],\n",
        "    [5, 6, 8],\n",
        "    [2, 3, 1]\n",
        "    ])\n",
        "L = np.array([\n",
        "    [1, 4, 9],\n",
        "    [8, -1, 0],\n",
        "    [5, 2, 1]\n",
        "    ])\n",
        "JK = np.matmul(J,K)\n",
        "KL = np.matmul(K,L)\n",
        "JL = np.matmul(J,L)\n",
        "\n",
        "print('Matrix J')\n",
        "print(J)\n",
        "print('Matrix K:')\n",
        "print(K)\n",
        "print('Matrix L:')\n",
        "print(L) "
      ],
      "metadata": {
        "colab": {
          "base_uri": "https://localhost:8080/"
        },
        "id": "vzqLPpZXss_V",
        "outputId": "11c1b5b6-681c-4429-eb0c-10d6e6c858bf"
      },
      "execution_count": 28,
      "outputs": [
        {
          "output_type": "stream",
          "name": "stdout",
          "text": [
            "Matrix J\n",
            "[-1  3  2]\n",
            "Matrix K:\n",
            "[[0 2 3]\n",
            " [5 6 8]\n",
            " [2 3 1]]\n",
            "Matrix L:\n",
            "[[ 1  4  9]\n",
            " [ 8 -1  0]\n",
            " [ 5  2  1]]\n"
          ]
        }
      ]
    },
    {
      "cell_type": "markdown",
      "source": [
        "$A\\cdot(B+C) = A\\cdot B + A\\cdot C$"
      ],
      "metadata": {
        "id": "XDIp0yrPu4a7"
      }
    },
    {
      "cell_type": "code",
      "source": [
        "print('\\n')\n",
        "print('Distributing left multiplication')\n",
        "print('Matrix Product J*(K + L):')\n",
        "print(np.matmul(J,K+L))\n",
        "print('Matrix Product (JK + JL):')\n",
        "DL = JK+JL\n",
        "DL\n"
      ],
      "metadata": {
        "colab": {
          "base_uri": "https://localhost:8080/"
        },
        "id": "j_hBp2mwu80z",
        "outputId": "39e14da4-ee52-4ec7-9d09-5246b5177999"
      },
      "execution_count": 19,
      "outputs": [
        {
          "output_type": "stream",
          "name": "stdout",
          "text": [
            "\n",
            "\n",
            "Distributing left multiplication\n",
            "Matrix Product J*(K + L):\n",
            "[52 19 16]\n",
            "Matrix Product (JK + JL):\n"
          ]
        },
        {
          "output_type": "execute_result",
          "data": {
            "text/plain": [
              "array([52, 19, 16])"
            ]
          },
          "metadata": {},
          "execution_count": 19
        }
      ]
    },
    {
      "cell_type": "code",
      "source": [
        "D = J @ (K+L)\n",
        "D"
      ],
      "metadata": {
        "colab": {
          "base_uri": "https://localhost:8080/"
        },
        "id": "cxpaKabiqHlP",
        "outputId": "9cd52fc6-e363-4ea1-eca5-cf60d49bb3b0"
      },
      "execution_count": 20,
      "outputs": [
        {
          "output_type": "execute_result",
          "data": {
            "text/plain": [
              "array([52, 19, 16])"
            ]
          },
          "metadata": {},
          "execution_count": 20
        }
      ]
    },
    {
      "cell_type": "code",
      "source": [
        "np.array_equal(DL, D)"
      ],
      "metadata": {
        "colab": {
          "base_uri": "https://localhost:8080/"
        },
        "id": "7nBvn_P2qVc5",
        "outputId": "f5645622-ef8c-4ca7-d365-ed4a8147cab9"
      },
      "execution_count": 21,
      "outputs": [
        {
          "output_type": "execute_result",
          "data": {
            "text/plain": [
              "True"
            ]
          },
          "metadata": {},
          "execution_count": 21
        }
      ]
    },
    {
      "cell_type": "markdown",
      "source": [
        "$(A+B)\\cdot C = A\\cdot C + B\\cdot C$"
      ],
      "metadata": {
        "id": "w36MOZHmyDsj"
      }
    },
    {
      "cell_type": "code",
      "source": [
        "print('Distributing right multiplication')\n",
        "print('Matrix Product (J + K)*L:')\n",
        "print(np.matmul(J+K,L))\n",
        "print('Matrix Product (JL + KL):')\n",
        "DR = JL + KL\n",
        "DR"
      ],
      "metadata": {
        "colab": {
          "base_uri": "https://localhost:8080/"
        },
        "id": "q6Lj7cpgyRKX",
        "outputId": "eba8e784-ed71-4f8f-98c5-112935ba47bd"
      },
      "execution_count": 31,
      "outputs": [
        {
          "output_type": "stream",
          "name": "stdout",
          "text": [
            "Distributing right multiplication\n",
            "Matrix Product (J + K)*L:\n",
            "[[ 64   1  -4]\n",
            " [126  27  46]\n",
            " [ 64   4  12]]\n",
            "Matrix Product (JL + KL):\n"
          ]
        },
        {
          "output_type": "execute_result",
          "data": {
            "text/plain": [
              "array([[ 64,   1,  -4],\n",
              "       [126,  27,  46],\n",
              "       [ 64,   4,  12]])"
            ]
          },
          "metadata": {},
          "execution_count": 31
        }
      ]
    },
    {
      "cell_type": "code",
      "source": [
        "E = (J+K) @L\n",
        "E"
      ],
      "metadata": {
        "colab": {
          "base_uri": "https://localhost:8080/"
        },
        "id": "ybIqYiofqfYw",
        "outputId": "4c6c250e-8e3d-46dc-e41b-b78f0a24c9e3"
      },
      "execution_count": 30,
      "outputs": [
        {
          "output_type": "execute_result",
          "data": {
            "text/plain": [
              "array([[ 64,   1,  -4],\n",
              "       [126,  27,  46],\n",
              "       [ 64,   4,  12]])"
            ]
          },
          "metadata": {},
          "execution_count": 30
        }
      ]
    },
    {
      "cell_type": "code",
      "source": [
        "np.array_equal(DR, E)"
      ],
      "metadata": {
        "colab": {
          "base_uri": "https://localhost:8080/"
        },
        "id": "HzojXde8umdt",
        "outputId": "488289f6-e938-4c30-ddc3-f8ffc6dd7687"
      },
      "execution_count": 32,
      "outputs": [
        {
          "output_type": "execute_result",
          "data": {
            "text/plain": [
              "True"
            ]
          },
          "metadata": {},
          "execution_count": 32
        }
      ]
    },
    {
      "cell_type": "code",
      "source": [
        "N = np.array([\n",
        "      [-1,-2,-3],\n",
        "      [1, 2, -2],\n",
        "      [0, 1, 2]\n",
        "      ])\n",
        "N"
      ],
      "metadata": {
        "colab": {
          "base_uri": "https://localhost:8080/"
        },
        "id": "v5jCc2zP3Nij",
        "outputId": "fc22491e-1f2a-48b1-e591-3612cb2741dc"
      },
      "execution_count": 40,
      "outputs": [
        {
          "output_type": "execute_result",
          "data": {
            "text/plain": [
              "array([[-1, -2, -3],\n",
              "       [ 1,  2, -2],\n",
              "       [ 0,  1,  2]])"
            ]
          },
          "metadata": {},
          "execution_count": 40
        }
      ]
    },
    {
      "cell_type": "markdown",
      "source": [
        "$A\\cdot I = A$"
      ],
      "metadata": {
        "id": "H2g-1ymg3HPq"
      }
    },
    {
      "cell_type": "code",
      "source": [
        "NI = np.identity(3)\n",
        "NI\n",
        "O =N@NI\n",
        "O"
      ],
      "metadata": {
        "colab": {
          "base_uri": "https://localhost:8080/"
        },
        "id": "k01F_WAy33UY",
        "outputId": "63bd3dd7-ad45-4b9c-8fb6-d23b2c354933"
      },
      "execution_count": 41,
      "outputs": [
        {
          "output_type": "execute_result",
          "data": {
            "text/plain": [
              "array([[-1., -2., -3.],\n",
              "       [ 1.,  2., -2.],\n",
              "       [ 0.,  1.,  2.]])"
            ]
          },
          "metadata": {},
          "execution_count": 41
        }
      ]
    },
    {
      "cell_type": "markdown",
      "source": [
        " $A\\cdot \\emptyset = \\emptyset$ "
      ],
      "metadata": {
        "id": "i6YwEYJpzlDz"
      }
    },
    {
      "cell_type": "code",
      "source": [
        "NZ = N.dot(np.zeros(N.shape))\n",
        "NZ\n"
      ],
      "metadata": {
        "colab": {
          "base_uri": "https://localhost:8080/"
        },
        "id": "XcNTvpnRzkLi",
        "outputId": "71d23a84-17ba-4cab-e82d-48d464780d19"
      },
      "execution_count": 42,
      "outputs": [
        {
          "output_type": "execute_result",
          "data": {
            "text/plain": [
              "array([[0., 0., 0.],\n",
              "       [0., 0., 0.],\n",
              "       [0., 0., 0.]])"
            ]
          },
          "metadata": {},
          "execution_count": 42
        }
      ]
    },
    {
      "cell_type": "code",
      "source": [
        "P = N@NZ\n",
        "P"
      ],
      "metadata": {
        "colab": {
          "base_uri": "https://localhost:8080/"
        },
        "id": "9gG5j4nrz_nG",
        "outputId": "6be0481e-6f37-403b-8e6f-0044c8d34525"
      },
      "execution_count": 44,
      "outputs": [
        {
          "output_type": "execute_result",
          "data": {
            "text/plain": [
              "array([[0., 0., 0.],\n",
              "       [0., 0., 0.],\n",
              "       [0., 0., 0.]])"
            ]
          },
          "metadata": {},
          "execution_count": 44
        }
      ]
    },
    {
      "cell_type": "code",
      "source": [
        "np.array_equal(NZ,P)"
      ],
      "metadata": {
        "colab": {
          "base_uri": "https://localhost:8080/"
        },
        "id": "hrVVJbVd1F4l",
        "outputId": "ef43fd63-2865-4433-f514-e316c1e92c8b"
      },
      "execution_count": 45,
      "outputs": [
        {
          "output_type": "execute_result",
          "data": {
            "text/plain": [
              "True"
            ]
          },
          "metadata": {},
          "execution_count": 45
        }
      ]
    },
    {
      "cell_type": "markdown",
      "source": [
        "## Conclusion"
      ],
      "metadata": {
        "id": "RJ0XfPz0jX3f"
      }
    },
    {
      "cell_type": "markdown",
      "source": [
        "Through this laboratory activity, it proved that it is easier to solve multiplication of matrices through Google Collab than manually solving it. With inputting codes to our matrices, the program itself will automatically solve it  by clicking “Run”. Nonetheless, codes are a bit sensitive when inputted – not to mention some might be the same but will have a different outcome – one will find it convenient to learn and apply the codes every time they encounter matrix problems. Also, the rules and properties for matrix multiplication were guides for encoding as well so that one will not be confused on what codes are appropriate to apply. Learning through Google Colab requires patience yet it is interacting and interesting in some ways – like if one was to apply future calculations related to matrix multiplications such as inverse, determinants, dot product, and many more. "
      ],
      "metadata": {
        "id": "NF9z5i1SjYqG"
      }
    }
  ]
}