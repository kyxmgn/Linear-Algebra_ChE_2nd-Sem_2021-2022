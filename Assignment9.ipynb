{
  "nbformat": 4,
  "nbformat_minor": 0,
  "metadata": {
    "kernelspec": {
      "display_name": "Python 3",
      "language": "python",
      "name": "python3"
    },
    "language_info": {
      "codemirror_mode": {
        "name": "ipython",
        "version": 3
      },
      "file_extension": ".py",
      "mimetype": "text/x-python",
      "name": "python",
      "nbconvert_exporter": "python",
      "pygments_lexer": "ipython3",
      "version": "3.8.3"
    },
    "colab": {
      "name": "LinAlg Lab 2-checkpoint.ipynb",
      "provenance": [],
      "collapsed_sections": [],
      "include_colab_link": true
    }
  },
  "cells": [
    {
      "cell_type": "markdown",
      "metadata": {
        "id": "view-in-github",
        "colab_type": "text"
      },
      "source": [
        "<a href=\"https://colab.research.google.com/github/kyxmgn/Linear-Algebra_ChE_2nd-Sem_2021-2022/blob/main/Assignment9.ipynb\" target=\"_parent\"><img src=\"https://colab.research.google.com/assets/colab-badge.svg\" alt=\"Open In Colab\"/></a>"
      ]
    },
    {
      "cell_type": "markdown",
      "metadata": {
        "id": "SLUubLCzHs4V"
      },
      "source": [
        "# Lab 2 - Plotting Vector using NumPy and MatPlotLib"
      ]
    },
    {
      "cell_type": "markdown",
      "metadata": {
        "id": "QSDFae7hHs4Z"
      },
      "source": [
        "In this laboratory we will be discussing the basics of numerical and scientific programming by working with Vectors using NumPy and MatPlotLib."
      ]
    },
    {
      "cell_type": "markdown",
      "metadata": {
        "id": "Wg4cezD8Hs4b"
      },
      "source": [
        "### Objectives\n",
        "At the end of this activity you will be able to:\n",
        "1. Be familiar with the libraries in Python for numerical and scientific programming.\n",
        "2. Visualize vectors through Python programming.\n",
        "3. Perform simple vector operations through code."
      ]
    },
    {
      "cell_type": "markdown",
      "metadata": {
        "id": "UQD7DoC2Hs4b"
      },
      "source": [
        "## Discussion"
      ]
    },
    {
      "cell_type": "markdown",
      "metadata": {
        "id": "A6grbAIbHs4c"
      },
      "source": [
        "### NumPy"
      ]
    },
    {
      "cell_type": "markdown",
      "metadata": {
        "id": "xY4puSv4Hs4d"
      },
      "source": [
        "NumPy or Numerical Python, is mainly used for matrix and vector operations. It is capable of declaring computing and representing matrices. Most Python scientific programming libraries uses NumPy as the basic code."
      ]
    },
    {
      "cell_type": "markdown",
      "metadata": {
        "id": "Psf8tzmWH4b6"
      },
      "source": [
        "Scalars \\\\\n",
        "Represent magnitude or a single value\n",
        "\n",
        "Vectors \\\\\n",
        "Represent magnitude with directors"
      ]
    },
    {
      "cell_type": "markdown",
      "metadata": {
        "id": "OXixP-e6Hs4d"
      },
      "source": [
        "#### Representing Vectors"
      ]
    },
    {
      "cell_type": "markdown",
      "metadata": {
        "id": "y-nXPTTuHs4e"
      },
      "source": [
        "Now that you know how to represent vectors using their component and matrix form we can now hard-code them in Python. Let's say that you have the vectors:"
      ]
    },
    {
      "cell_type": "markdown",
      "metadata": {
        "id": "LlEfOzbtHs4e"
      },
      "source": [
        "$$ A = 4\\hat{x} + 3\\hat{y} \\\\\n",
        "B = 2\\hat{x} - 5\\hat{y}\\\\\n",
        "C = 4ax + 3ay - 2az \\\\\n",
        "D = 2\\hat{i} - 2\\hat{j} + 3\\hat{k}$$"
      ]
    },
    {
      "cell_type": "markdown",
      "metadata": {
        "id": "l6LHUvnRHs4f"
      },
      "source": [
        "In which it's matrix equivalent is:"
      ]
    },
    {
      "cell_type": "markdown",
      "metadata": {
        "id": "YKAjjPnYHs4g"
      },
      "source": [
        "$$ A = \\begin{bmatrix} 4 \\\\ 3\\end{bmatrix} , B = \\begin{bmatrix} 2 \\\\ -5\\end{bmatrix} , C = \\begin{bmatrix} 4 \\\\ 3 \\\\  -2 \\end{bmatrix}, D = \\begin{bmatrix} 2 \\\\ -2 \\\\ 3\\end{bmatrix}\n",
        "$$\n",
        "$$ A = \\begin{bmatrix} 4 & 3\\end{bmatrix} , B = \\begin{bmatrix} 2 & -5\\end{bmatrix} , C = \\begin{bmatrix} 4 & 3 & -2\\end{bmatrix} , D = \\begin{bmatrix} 2 & -2 & 3\\end{bmatrix} \n",
        "$$"
      ]
    },
    {
      "cell_type": "markdown",
      "metadata": {
        "id": "lkrX9lHBHs4g"
      },
      "source": [
        "We can then start doing numpy code with this by:"
      ]
    },
    {
      "cell_type": "code",
      "metadata": {
        "id": "Vi6yz53gHs4h"
      },
      "source": [
        "## Importing necessary libraries\n",
        "import numpy as np ## 'np' here is short-hand name of the library (numpy) or a nickname."
      ],
      "execution_count": null,
      "outputs": []
    },
    {
      "cell_type": "code",
      "metadata": {
        "colab": {
          "base_uri": "https://localhost:8080/"
        },
        "id": "KGr4fBg0Hs4j",
        "outputId": "d01b2c4b-9a5c-4156-f54c-bbd9681330a0"
      },
      "source": [
        "A = np.array([4, 3])\n",
        "B = np.array([2, -5])\n",
        "C = np.array([\n",
        "              [4],\n",
        "              [3],\n",
        "              [-2]\n",
        "])\n",
        "D = np.array ([[2],\n",
        "              [-2],\n",
        "              [3]])\n",
        "print('Vector A is ', A)\n",
        "print('Vector B is ', B)\n",
        "print('Vector C is ', C)\n",
        "print('Vector D is ', D)"
      ],
      "execution_count": null,
      "outputs": [
        {
          "output_type": "stream",
          "name": "stdout",
          "text": [
            "Vector A is  [4 3]\n",
            "Vector B is  [ 2 -5]\n",
            "Vector C is  [[ 4]\n",
            " [ 3]\n",
            " [-2]]\n",
            "Vector D is  [[ 2]\n",
            " [-2]\n",
            " [ 3]]\n"
          ]
        }
      ]
    },
    {
      "cell_type": "markdown",
      "metadata": {
        "id": "DQhfqdq_Hs4l"
      },
      "source": [
        "#### Describing vectors in NumPy"
      ]
    },
    {
      "cell_type": "markdown",
      "metadata": {
        "id": "fzU-jDHoHs4m"
      },
      "source": [
        "Describing vectors is very important if we want to perform basic to advanced operations with them. The fundamental ways in describing vectors are knowing their shape, size and dimensions."
      ]
    },
    {
      "cell_type": "code",
      "metadata": {
        "colab": {
          "base_uri": "https://localhost:8080/"
        },
        "id": "HRz2gx6JHs4n",
        "outputId": "00a839e1-6f9c-429d-eee2-30e76ca2827e"
      },
      "source": [
        "### Checking shapes\n",
        "### Shapes tells us how many elements are there on each row and column\n",
        "\n",
        "A.shape\n",
        "H = np.array([1, 0, 2, 5, -0.2, 0])\n",
        "H.shape\n",
        "C.shape"
      ],
      "execution_count": null,
      "outputs": [
        {
          "output_type": "execute_result",
          "data": {
            "text/plain": [
              "(3, 1)"
            ]
          },
          "metadata": {},
          "execution_count": 15
        }
      ]
    },
    {
      "cell_type": "code",
      "metadata": {
        "colab": {
          "base_uri": "https://localhost:8080/"
        },
        "id": "dlDEokrAHs4o",
        "outputId": "06d656cf-009e-45be-be10-dbdf2e64f969"
      },
      "source": [
        "### Checking size\n",
        "### Array/Vector sizes tells us many total number of elements are there in the vector\n",
        "\n",
        "D.size"
      ],
      "execution_count": null,
      "outputs": [
        {
          "output_type": "execute_result",
          "data": {
            "text/plain": [
              "3"
            ]
          },
          "metadata": {},
          "execution_count": 16
        }
      ]
    },
    {
      "cell_type": "code",
      "metadata": {
        "colab": {
          "base_uri": "https://localhost:8080/"
        },
        "id": "lwAQGA_JHs4p",
        "outputId": "1933fe84-3d9e-44c0-d414-91e2b7fb7f8c"
      },
      "source": [
        "### Checking dimensions\n",
        "### The dimensions or rank of a vector tells us how many dimensions are there for the vector.\n",
        "\n",
        "D.ndim"
      ],
      "execution_count": null,
      "outputs": [
        {
          "output_type": "execute_result",
          "data": {
            "text/plain": [
              "2"
            ]
          },
          "metadata": {},
          "execution_count": 19
        }
      ]
    },
    {
      "cell_type": "markdown",
      "metadata": {
        "id": "MReB86duHs4q"
      },
      "source": [
        "Great! Now let's try to explore in performing operations with these vectors."
      ]
    },
    {
      "cell_type": "markdown",
      "metadata": {
        "id": "tMdCFWyUHs4r"
      },
      "source": [
        "#### Addition"
      ]
    },
    {
      "cell_type": "markdown",
      "metadata": {
        "id": "OjVFwq6iHs4r"
      },
      "source": [
        "The addition rule is simple, the we just need to add the elements of the matrices according to their index. So in this case if we add vector $A$ and vector $B$ we will have a resulting vector:"
      ]
    },
    {
      "cell_type": "markdown",
      "metadata": {
        "id": "9zUtJ7oEHs4s"
      },
      "source": [
        "$$R = 6\\hat{x}-2\\hat{y} \\\\ \\\\or \\\\ \\\\ R = \\begin{bmatrix} 6 \\\\ -2\\end{bmatrix} $$"
      ]
    },
    {
      "cell_type": "markdown",
      "metadata": {
        "id": "gVg-6JwyHs4s"
      },
      "source": [
        "So let's try to do that in NumPy in several number of ways:"
      ]
    },
    {
      "cell_type": "code",
      "metadata": {
        "id": "X1D_izU4Hs4t"
      },
      "source": [
        "R = np.add(A, B) ## this is the functional method usisng the numpy library\n",
        "P = np.add(C, D)\n"
      ],
      "execution_count": null,
      "outputs": []
    },
    {
      "cell_type": "code",
      "metadata": {
        "colab": {
          "base_uri": "https://localhost:8080/"
        },
        "id": "jzH3b6dtHs4t",
        "outputId": "29ed5427-63af-4978-a77a-2fd2bdf38975"
      },
      "source": [
        "R = A + B   ## this is the explicit method, since Python does a value-reference so it can \n",
        "            ## know that these variables would need to do array operations.\n",
        "R"
      ],
      "execution_count": null,
      "outputs": [
        {
          "output_type": "execute_result",
          "data": {
            "text/plain": [
              "array([ 6, -2])"
            ]
          },
          "metadata": {},
          "execution_count": 24
        }
      ]
    },
    {
      "cell_type": "code",
      "metadata": {
        "colab": {
          "base_uri": "https://localhost:8080/"
        },
        "id": "lFpzDkUbVE-s",
        "outputId": "711eec11-a669-4a43-e94d-bac429ab6bf4"
      },
      "source": [
        "pos1 = np.array([0,0,0])\n",
        "pos2 = np.array([0,1,3])\n",
        "pos3 = np.array([1,5,-2])\n",
        "pos4 = np.array([5,-3,3])\n",
        "#R = pos1 + pos2 + pos3 + pos4\n",
        "#R = np.multiply(pos3, pos4)\n",
        "R = pos3 / pos4\n",
        "R"
      ],
      "execution_count": null,
      "outputs": [
        {
          "output_type": "execute_result",
          "data": {
            "text/plain": [
              "array([ 0.2       , -1.66666667, -0.66666667])"
            ]
          },
          "metadata": {},
          "execution_count": 31
        }
      ]
    },
    {
      "cell_type": "markdown",
      "metadata": {
        "id": "CuAeF55ZHs4u"
      },
      "source": [
        "##### Try for yourself!"
      ]
    },
    {
      "cell_type": "markdown",
      "metadata": {
        "id": "oeSxmIS8Hs4v"
      },
      "source": [
        "Try to implement subtraction, multiplication, and division with vectors $A$ and $B$!"
      ]
    },
    {
      "cell_type": "code",
      "metadata": {
        "id": "g4-WGjUvHs4v"
      },
      "source": [
        "### Try out you code here! \n",
        "\n"
      ],
      "execution_count": null,
      "outputs": []
    },
    {
      "cell_type": "markdown",
      "metadata": {
        "id": "3otcBr7tHs4w"
      },
      "source": [
        "### Scaling"
      ]
    },
    {
      "cell_type": "markdown",
      "metadata": {
        "id": "FVwvCklOHs4x"
      },
      "source": [
        "Scaling or scalar multiplication takes a scalar value and performs multiplication with a vector. Let's take the example below:"
      ]
    },
    {
      "cell_type": "markdown",
      "metadata": {
        "id": "8el8_cMUHs4x"
      },
      "source": [
        "$$S = 5 \\cdot A$$"
      ]
    },
    {
      "cell_type": "markdown",
      "metadata": {
        "id": "Oh9sk6lKHs4y"
      },
      "source": [
        "We can do this in numpy through:"
      ]
    },
    {
      "cell_type": "code",
      "metadata": {
        "colab": {
          "base_uri": "https://localhost:8080/"
        },
        "id": "QNruUX1pHs4y",
        "outputId": "da2b2092-a515-459a-891c-5a0287dcb1f3"
      },
      "source": [
        "#S = 5 * A\n",
        "S = np.multiply(5,A)\n",
        "S"
      ],
      "execution_count": null,
      "outputs": [
        {
          "output_type": "execute_result",
          "data": {
            "text/plain": [
              "array([20, 15])"
            ]
          },
          "metadata": {},
          "execution_count": 33
        }
      ]
    },
    {
      "cell_type": "markdown",
      "metadata": {
        "id": "owN3j6rMWr-3"
      },
      "source": [
        "Try to implement scaling with two vectors."
      ]
    },
    {
      "cell_type": "code",
      "metadata": {
        "id": "EU0zkP_tWwWe"
      },
      "source": [
        ""
      ],
      "execution_count": null,
      "outputs": []
    },
    {
      "cell_type": "markdown",
      "metadata": {
        "id": "j04WSo4YHs4z"
      },
      "source": [
        "### MatPlotLib"
      ]
    },
    {
      "cell_type": "markdown",
      "metadata": {
        "id": "CP_9s8r-Hs4z"
      },
      "source": [
        "MatPlotLib or MATLab Plotting library is Python's take on MATLabs plotting feature. MatPlotLib can be used vastly from graping values to visualizing several dimensions of data."
      ]
    },
    {
      "cell_type": "markdown",
      "metadata": {
        "id": "ZM6_LZWWHs42"
      },
      "source": [
        "#### Visualizing Data"
      ]
    },
    {
      "cell_type": "markdown",
      "metadata": {
        "id": "ziwIKGPHHs43"
      },
      "source": [
        "It's not enough just solving these vectors so might need to visualize them. So we'll use MatPlotLib for that. We'll need to import it first."
      ]
    },
    {
      "cell_type": "code",
      "metadata": {
        "id": "B2U78WnhHs43"
      },
      "source": [
        "import matplotlib.pyplot as plt\n",
        "import matplotlib\n",
        "%matplotlib inline"
      ],
      "execution_count": null,
      "outputs": []
    },
    {
      "cell_type": "code",
      "metadata": {
        "colab": {
          "base_uri": "https://localhost:8080/",
          "height": 265
        },
        "id": "38rzjx3jXkK_",
        "outputId": "9e453a47-ddff-4930-f40a-3ee6e7780301"
      },
      "source": [
        "A = [1, -1]\n",
        "B = [5, -1]\n",
        "plt.scatter(A[0], A[1], label='A', c='green')\n",
        "plt.scatter(B[0], B[1], label='B', c='magenta')\n",
        "plt.grid()\n",
        "plt.legend()\n",
        "plt.show()"
      ],
      "execution_count": null,
      "outputs": [
        {
          "output_type": "display_data",
          "data": {
            "image/png": "[encoded data removed]",
            "text/plain": [
              "<Figure size 432x288 with 1 Axes>"
            ]
          },
          "metadata": {
            "needs_background": "light"
          }
        }
      ]
    },
    {
      "cell_type": "code",
      "metadata": {
        "colab": {
          "base_uri": "https://localhost:8080/",
          "height": 365
        },
        "id": "KZgiMGCEZpJn",
        "outputId": "d8146b5a-3b3e-4d2f-89b6-e128b64d0e47"
      },
      "source": [
        "A = np.array([1, -1])\n",
        "B = np.array([1, 5])\n",
        "plt.title(\"Resultant Vector\\nMagnitude:{}\" .format(Magnitude))\n",
        "plt.xlim(-5, 5)\n",
        "plt.ylim(-5, 5)\n",
        "plt.quiver(0, 0, A[0], A[1], angles='xy', scale_units='xy', scale=1, color='red')\n",
        "plt.quiver(A[0], A[1], B[0], B[1], angles='xy', scale_units='xy', scale=1, color='green')\n",
        "R = A + B\n",
        "plt.quiver(0, 0, R[0], R[1], angles='xy', scale_units='xy', scale=1, color='black')\n",
        "plt.grid()\n",
        "plt.show()\n",
        "print(R)\n",
        "Magnitude = np.sqrt(np.sum(R**2))\n",
        "print(Magnitude)\n",
        "Slope = R[1]/R[0]\n",
        "print(Slope)\n",
        "Angle = (np.arctan(Slope))*(180/np.pi)\n",
        "print(Angle)"
      ],
      "execution_count": null,
      "outputs": [
        {
          "output_type": "display_data",
          "data": {
            "image/png": "[encoded data removed]",
            "text/plain": [
              "<Figure size 432x288 with 1 Axes>"
            ]
          },
          "metadata": {
            "needs_background": "light"
          }
        },
        {
          "output_type": "stream",
          "name": "stdout",
          "text": [
            "[2 4]\n",
            "4.47213595499958\n",
            "2.0\n",
            "63.43494882292201\n"
          ]
        }
      ]
    },
    {
      "cell_type": "code",
      "metadata": {
        "id": "0NZnAZckHs44",
        "outputId": "15c6412b-97bd-4a4f-a3f1-69dd6d91872d"
      },
      "source": [
        "n = A.shape[0]\n",
        "plt.xlim(-10, 10)\n",
        "plt.ylim(-10, 10)\n",
        "plt.quiver(0,0, A[0], A[1], angles='xy', scale_units='xy',scale=1)\n",
        "plt.quiver(A[0],A[1], B[0], B[1], angles='xy', scale_units='xy',scale=1)\n",
        "plt.quiver(0,0, R[0], R[1], angles='xy', scale_units='xy',scale=1)\n",
        "plt.show()"
      ],
      "execution_count": null,
      "outputs": [
        {
          "data": {
            "image/png": "[encoded data removed]",
            "text/plain": [
              "<Figure size 432x288 with 1 Axes>"
            ]
          },
          "metadata": {
            "needs_background": "light"
          },
          "output_type": "display_data"
        }
      ]
    },
    {
      "cell_type": "markdown",
      "metadata": {
        "id": "yWijJqoggcva"
      },
      "source": [
        "Try plotting Three Vectors and show the Resultant Vector as a result.\n",
        "Use Head to Tail Method."
      ]
    },
    {
      "cell_type": "code",
      "metadata": {
        "id": "XCCdqCYngwxx"
      },
      "source": [
        ""
      ],
      "execution_count": null,
      "outputs": []
    }
  ]
}