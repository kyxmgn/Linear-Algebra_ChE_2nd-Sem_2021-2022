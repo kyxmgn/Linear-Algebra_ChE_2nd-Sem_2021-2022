{
  "nbformat": 4,
  "nbformat_minor": 0,
  "metadata": {
    "colab": {
      "name": "Assignment 4",
      "provenance": [],
      "authorship_tag": "ABX9TyOONvODklKrJ+ujUYTFXCVq",
      "include_colab_link": true
    },
    "kernelspec": {
      "name": "python3",
      "display_name": "Python 3"
    },
    "language_info": {
      "name": "python"
    }
  },
  "cells": [
    {
      "cell_type": "markdown",
      "metadata": {
        "id": "view-in-github",
        "colab_type": "text"
      },
      "source": [
        "<a href=\"https://colab.research.google.com/github/kyxmgn/Linear-Algebra_ChE_2nd-Sem_2021-2022/blob/main/Assignment_4.ipynb\" target=\"_parent\"><img src=\"https://colab.research.google.com/assets/colab-badge.svg\" alt=\"Open In Colab\"/></a>"
      ]
    },
    {
      "cell_type": "markdown",
      "source": [
        "## Discussion"
      ],
      "metadata": {
        "id": "9e-vHOrTS-WJ"
      }
    },
    {
      "cell_type": "code",
      "source": [
        "import numpy as np\n",
        "import matplotlib.pyplot as plt\n",
        "%matplotlib inline"
      ],
      "metadata": {
        "id": "Mdz6N5wFTDub"
      },
      "execution_count": null,
      "outputs": []
    },
    {
      "cell_type": "markdown",
      "source": [
        "## Transposition"
      ],
      "metadata": {
        "id": "O8tX7czkTXtz"
      }
    },
    {
      "cell_type": "markdown",
      "source": [
        "One of the "
      ],
      "metadata": {
        "id": "It8eOM9cTZ0W"
      }
    },
    {
      "cell_type": "markdown",
      "source": [
        "$$A = \\begin{bmatrix} 3 & 1 & 7\\\\4 & -8 &0 \\\\ 1 & 0 & 8\\end{bmatrix} $$\n"
      ],
      "metadata": {
        "id": "EJ9bGPUlT8bm"
      }
    },
    {
      "cell_type": "markdown",
      "source": [
        "$$A^T = \\begin{bmatrix} 3 & 4 & 1\\\\1 & -8 &0 \\\\ 7 & 0 & 8\\end{bmatrix} $$"
      ],
      "metadata": {
        "id": "zFtyox72UaOn"
      }
    },
    {
      "cell_type": "markdown",
      "source": [
        "This can now be achieved"
      ],
      "metadata": {
        "id": "KL3wi_s3VFqx"
      }
    },
    {
      "cell_type": "code",
      "source": [
        "A = np.array ([\n",
        "    [2 , 4, 7],\n",
        "    [0 , -2, 8],\n",
        "    [9, 1, -2]\n",
        "])"
      ],
      "metadata": {
        "id": "7NdUlBYYTcep"
      },
      "execution_count": null,
      "outputs": []
    },
    {
      "cell_type": "code",
      "source": [
        "AT1 = np.transpose(A)\n",
        "AT1"
      ],
      "metadata": {
        "colab": {
          "base_uri": "https://localhost:8080/"
        },
        "id": "wYSQizL3VcLQ",
        "outputId": "bc3b3bc9-cc29-468a-cc6e-c2672ec3a4ce"
      },
      "execution_count": null,
      "outputs": [
        {
          "output_type": "execute_result",
          "data": {
            "text/plain": [
              "array([[ 2,  0,  9],\n",
              "       [ 4, -2,  1],\n",
              "       [ 7,  8, -2]])"
            ]
          },
          "metadata": {},
          "execution_count": 4
        }
      ]
    },
    {
      "cell_type": "code",
      "source": [
        "AT2 = A.T\n",
        "AT2"
      ],
      "metadata": {
        "colab": {
          "base_uri": "https://localhost:8080/"
        },
        "id": "QlpF9ptgWAyK",
        "outputId": "7251048a-f2d5-41de-bc38-cb8f4ba61cc4"
      },
      "execution_count": null,
      "outputs": [
        {
          "output_type": "execute_result",
          "data": {
            "text/plain": [
              "array([[ 2,  0,  9],\n",
              "       [ 4, -2,  1],\n",
              "       [ 7,  8, -2]])"
            ]
          },
          "metadata": {},
          "execution_count": 6
        }
      ]
    },
    {
      "cell_type": "code",
      "source": [
        "np.array_equiv(AT1, AT2)"
      ],
      "metadata": {
        "colab": {
          "base_uri": "https://localhost:8080/"
        },
        "id": "Ecv0zBTtWK49",
        "outputId": "d49f423a-0033-4ad8-f86c-bb3f21a68d32"
      },
      "execution_count": null,
      "outputs": [
        {
          "output_type": "execute_result",
          "data": {
            "text/plain": [
              "True"
            ]
          },
          "metadata": {},
          "execution_count": 7
        }
      ]
    },
    {
      "cell_type": "code",
      "source": [
        "B = np.array([\n",
        "    [2, 9, 1, 0],\n",
        "    [-1, 0, 2, 8],\n",
        "    [3, 2, 6, -6]\n",
        "])\n",
        "B.shape"
      ],
      "metadata": {
        "colab": {
          "base_uri": "https://localhost:8080/"
        },
        "id": "sJUHVKM9YLO4",
        "outputId": "51e50865-f370-4372-ed39-052715c68293"
      },
      "execution_count": null,
      "outputs": [
        {
          "output_type": "execute_result",
          "data": {
            "text/plain": [
              "(3, 4)"
            ]
          },
          "metadata": {},
          "execution_count": 9
        }
      ]
    },
    {
      "cell_type": "code",
      "source": [
        "np.transpose(B).shape"
      ],
      "metadata": {
        "colab": {
          "base_uri": "https://localhost:8080/"
        },
        "id": "MAoa5gK6Yg7s",
        "outputId": "a26ef673-9533-4d68-b122-242b7a0b3d5a"
      },
      "execution_count": null,
      "outputs": [
        {
          "output_type": "execute_result",
          "data": {
            "text/plain": [
              "(4, 3)"
            ]
          },
          "metadata": {},
          "execution_count": 10
        }
      ]
    },
    {
      "cell_type": "code",
      "source": [
        "B.T.shape\n"
      ],
      "metadata": {
        "colab": {
          "base_uri": "https://localhost:8080/"
        },
        "id": "tGgvtXp4YlFK",
        "outputId": "0751e919-5098-4adb-815c-7d00a17eda5a"
      },
      "execution_count": null,
      "outputs": [
        {
          "output_type": "execute_result",
          "data": {
            "text/plain": [
              "(4, 3)"
            ]
          },
          "metadata": {},
          "execution_count": 11
        }
      ]
    },
    {
      "cell_type": "markdown",
      "source": [
        "Try to create "
      ],
      "metadata": {
        "id": "mH4-1AEkYzjs"
      }
    },
    {
      "cell_type": "code",
      "source": [
        "K = np.array([\n",
        "    [-1, 0, 2, 0],\n",
        "    [2, 8, 6, 5],\n",
        "    [0, 7, 1, 3]\n",
        "])\n",
        "M = np.array([\n",
        "    [1, 2, 2],\n",
        "    [9, 0, 1],\n",
        "    [-1, 6, 0],\n",
        "    [-7, 8, 9]\n",
        "])"
      ],
      "metadata": {
        "id": "VQp3JkbvZK6h"
      },
      "execution_count": null,
      "outputs": []
    },
    {
      "cell_type": "code",
      "source": [
        "np.array_equiv(K, M)"
      ],
      "metadata": {
        "colab": {
          "base_uri": "https://localhost:8080/"
        },
        "id": "4ITB-ihHZ0Mz",
        "outputId": "13b0929e-71e8-4fe2-95ca-f60b31f0399b"
      },
      "execution_count": null,
      "outputs": [
        {
          "output_type": "execute_result",
          "data": {
            "text/plain": [
              "False"
            ]
          },
          "metadata": {},
          "execution_count": 27
        }
      ]
    },
    {
      "cell_type": "code",
      "source": [
        "np.dot(K, M)"
      ],
      "metadata": {
        "colab": {
          "base_uri": "https://localhost:8080/"
        },
        "id": "Jn34e8C3aAiu",
        "outputId": "f9f90f09-953a-406a-fa5d-2ff28817b9f7"
      },
      "execution_count": null,
      "outputs": [
        {
          "output_type": "execute_result",
          "data": {
            "text/plain": [
              "array([[-3, 10, -2],\n",
              "       [33, 80, 57],\n",
              "       [41, 30, 34]])"
            ]
          },
          "metadata": {},
          "execution_count": 28
        }
      ]
    },
    {
      "cell_type": "code",
      "source": [
        "X.dot(M)"
      ],
      "metadata": {
        "colab": {
          "base_uri": "https://localhost:8080/"
        },
        "id": "cNK2zG2qav0m",
        "outputId": "49dd692b-bd35-4080-ec5b-3ef42a24fd22"
      },
      "execution_count": null,
      "outputs": [
        {
          "output_type": "execute_result",
          "data": {
            "text/plain": [
              "array([[-3, 10, -2],\n",
              "       [33, 80, 57],\n",
              "       [41, 30, 34]])"
            ]
          },
          "metadata": {},
          "execution_count": 30
        }
      ]
    },
    {
      "cell_type": "code",
      "source": [
        "K @ M"
      ],
      "metadata": {
        "colab": {
          "base_uri": "https://localhost:8080/"
        },
        "id": "twG0ujnWa3OP",
        "outputId": "1e73a667-d6be-41b8-ae29-7a0ab7019564"
      },
      "execution_count": null,
      "outputs": [
        {
          "output_type": "execute_result",
          "data": {
            "text/plain": [
              "array([[-3, 10, -2],\n",
              "       [33, 80, 57],\n",
              "       [41, 30, 34]])"
            ]
          },
          "metadata": {},
          "execution_count": 32
        }
      ]
    },
    {
      "cell_type": "code",
      "source": [
        "np.matmul(K,M)"
      ],
      "metadata": {
        "colab": {
          "base_uri": "https://localhost:8080/"
        },
        "id": "fL2ioDTzbj4B",
        "outputId": "09904f89-5f23-4ba5-846e-4491ea497eb6"
      },
      "execution_count": null,
      "outputs": [
        {
          "output_type": "execute_result",
          "data": {
            "text/plain": [
              "array([[-3, 10, -2],\n",
              "       [33, 80, 57],\n",
              "       [41, 30, 34]])"
            ]
          },
          "metadata": {},
          "execution_count": 33
        }
      ]
    },
    {
      "cell_type": "markdown",
      "source": [
        "In matrix dot"
      ],
      "metadata": {
        "id": "zRke4HJ4bqDn"
      }
    },
    {
      "cell_type": "code",
      "source": [
        "X = np.array([\n",
        "    [2, -1, 0, 4],\n",
        "    [1, 2, -7, 5],\n",
        "    [0, 2, 2, 1]\n",
        "])\n",
        "Y = np.array([\n",
        "    [-1, -2, -3, 4],\n",
        "    [2, 4, 6, 5],\n",
        "    [3, 5, 7, 6]\n",
        "])\n",
        "Z = np.array([\n",
        "    [1, 2, 3, 4],\n",
        "    [-1, -2, -3, -4],\n",
        "    [2, 3, 7, 6],\n",
        "    [1, 8, -2, 3]\n",
        "])\n",
        "print(X.shape)\n",
        "print(Y.shape)\n",
        "print(Z.shape)"
      ],
      "metadata": {
        "colab": {
          "base_uri": "https://localhost:8080/"
        },
        "id": "Yl4pqUSYb54F",
        "outputId": "385d2123-53c7-434c-e7e8-d15bf1a0f997"
      },
      "execution_count": null,
      "outputs": [
        {
          "output_type": "stream",
          "name": "stdout",
          "text": [
            "(3, 4)\n",
            "(3, 4)\n",
            "(4, 4)\n"
          ]
        }
      ]
    },
    {
      "cell_type": "code",
      "source": [
        "X @ Z"
      ],
      "metadata": {
        "colab": {
          "base_uri": "https://localhost:8080/"
        },
        "id": "uLKnaPBidbIR",
        "outputId": "45dfddbb-f301-4070-83d4-57509bd8f9a6"
      },
      "execution_count": null,
      "outputs": [
        {
          "output_type": "execute_result",
          "data": {
            "text/plain": [
              "array([[  7,  38,   1,  24],\n",
              "       [-10,  17, -62, -31],\n",
              "       [  3,  10,   6,   7]])"
            ]
          },
          "metadata": {},
          "execution_count": 38
        }
      ]
    },
    {
      "cell_type": "code",
      "source": [
        "X @ Y"
      ],
      "metadata": {
        "colab": {
          "base_uri": "https://localhost:8080/",
          "height": 189
        },
        "id": "fhFH9-OkdgRn",
        "outputId": "a14cfd9e-92c9-4d33-bdd1-7b2bfff70ce3"
      },
      "execution_count": null,
      "outputs": [
        {
          "output_type": "error",
          "ename": "ValueError",
          "evalue": "ignored",
          "traceback": [
            "\u001b[0;31m---------------------------------------------------------------------------\u001b[0m",
            "\u001b[0;31mValueError\u001b[0m                                Traceback (most recent call last)",
            "\u001b[0;32m<ipython-input-39-7db1014e61e3>\u001b[0m in \u001b[0;36m<module>\u001b[0;34m()\u001b[0m\n\u001b[0;32m----> 1\u001b[0;31m \u001b[0mX\u001b[0m \u001b[0;34m@\u001b[0m \u001b[0mY\u001b[0m\u001b[0;34m\u001b[0m\u001b[0;34m\u001b[0m\u001b[0m\n\u001b[0m",
            "\u001b[0;31mValueError\u001b[0m: matmul: Input operand 1 has a mismatch in its core dimension 0, with gufunc signature (n?,k),(k,m?)->(n?,m?) (size 3 is different from 4)"
          ]
        }
      ]
    },
    {
      "cell_type": "markdown",
      "source": [
        "If you would"
      ],
      "metadata": {
        "id": "4vtbYpY7d2fw"
      }
    },
    {
      "cell_type": "code",
      "source": [
        "X @ Y.T"
      ],
      "metadata": {
        "colab": {
          "base_uri": "https://localhost:8080/"
        },
        "id": "ZulAfwyZd3_s",
        "outputId": "ebc39888-4144-4c20-a0e5-7e5c3ef86d91"
      },
      "execution_count": null,
      "outputs": [
        {
          "output_type": "execute_result",
          "data": {
            "text/plain": [
              "array([[16, 20, 25],\n",
              "       [36, -7, -6],\n",
              "       [-6, 25, 30]])"
            ]
          },
          "metadata": {},
          "execution_count": 40
        }
      ]
    },
    {
      "cell_type": "markdown",
      "source": [
        "Rule 2:"
      ],
      "metadata": {
        "id": "0jrVipwHeFz-"
      }
    },
    {
      "cell_type": "markdown",
      "source": [
        "LinAlg"
      ],
      "metadata": {
        "id": "SZfR0j86fS2B"
      }
    },
    {
      "cell_type": "code",
      "source": [
        "A = np.array([\n",
        "    [2, 1, 0],\n",
        "    [-1, 6, 4],\n",
        "    [2, 9, 6]\n",
        "])\n",
        "np.linalg.det(A)"
      ],
      "metadata": {
        "colab": {
          "base_uri": "https://localhost:8080/"
        },
        "id": "ay2Rvq0sfUtY",
        "outputId": "7247e54f-4243-4bde-b643-209eade81937"
      },
      "execution_count": null,
      "outputs": [
        {
          "output_type": "execute_result",
          "data": {
            "text/plain": [
              "13.999999999999996"
            ]
          },
          "metadata": {},
          "execution_count": 42
        }
      ]
    },
    {
      "cell_type": "code",
      "source": [
        "B = np.array([\n",
        "    [2, 1],\n",
        "    [-1, 2]\n",
        "])\n",
        "np.linalg.det(B)"
      ],
      "metadata": {
        "colab": {
          "base_uri": "https://localhost:8080/"
        },
        "id": "FG-wo9dGflA3",
        "outputId": "12798bd9-2e2c-45c6-fc8e-5e2d588aa5d3"
      },
      "execution_count": null,
      "outputs": [
        {
          "output_type": "execute_result",
          "data": {
            "text/plain": [
              "5.000000000000001"
            ]
          },
          "metadata": {},
          "execution_count": 43
        }
      ]
    },
    {
      "cell_type": "code",
      "source": [
        "## Now other mathematics classes would require you to solve this by hand, \n",
        "## and that is great for practicing your memorization and coordination skills \n",
        "## but in this class we aim for simplicity and speed so we'll use programming\n",
        "## but it's completely fine if you want to try to solve this one by hand.\n",
        "B = np.array([\n",
        "    [2,2,4,4],\n",
        "    [0,1,2,3],\n",
        "    [3,6,9,2],\n",
        "    [4,2,6,8]\n",
        "])\n",
        "np.linalg.det(B)"
      ],
      "metadata": {
        "colab": {
          "base_uri": "https://localhost:8080/"
        },
        "id": "BGigeKg2f4mB",
        "outputId": "2043cc23-c2e7-4b65-8d99-c42f9fe6ce8e"
      },
      "execution_count": null,
      "outputs": [
        {
          "output_type": "execute_result",
          "data": {
            "text/plain": [
              "15.999999999999998"
            ]
          },
          "metadata": {},
          "execution_count": 44
        }
      ]
    },
    {
      "cell_type": "markdown",
      "source": [
        "Inverse"
      ],
      "metadata": {
        "id": "wAOSKrYUg_9G"
      }
    },
    {
      "cell_type": "code",
      "source": [
        "L = np.array([\n",
        "              [2, 5, 9, 0],\n",
        "              [1, 9, 2, 9],\n",
        "              [2, 4, 5, 9],\n",
        "              [1, 1, 0, 0]\n",
        "])\n",
        "M = np.linalg.inv(L)\n",
        "M"
      ],
      "metadata": {
        "colab": {
          "base_uri": "https://localhost:8080/"
        },
        "id": "eXgc60UbhBOJ",
        "outputId": "b2ec2e07-338f-4daf-ad6c-741d241178d2"
      },
      "execution_count": null,
      "outputs": [
        {
          "output_type": "execute_result",
          "data": {
            "text/plain": [
              "array([[-0.04761905, -0.14285714,  0.14285714,  0.95238095],\n",
              "       [ 0.04761905,  0.14285714, -0.14285714,  0.04761905],\n",
              "       [ 0.0952381 , -0.04761905,  0.04761905, -0.23809524],\n",
              "       [-0.06349206, -0.00529101,  0.11640212, -0.1005291 ]])"
            ]
          },
          "metadata": {},
          "execution_count": 45
        }
      ]
    },
    {
      "cell_type": "code",
      "source": [
        "L @ M"
      ],
      "metadata": {
        "colab": {
          "base_uri": "https://localhost:8080/"
        },
        "id": "t93qJwBcheYU",
        "outputId": "77e7d263-d800-4373-c01a-3cb0b13845f7"
      },
      "execution_count": null,
      "outputs": [
        {
          "output_type": "execute_result",
          "data": {
            "text/plain": [
              "array([[ 1.00000000e+00, -6.93889390e-17,  6.93889390e-17,\n",
              "         0.00000000e+00],\n",
              "       [ 1.24900090e-16,  1.00000000e+00,  1.38777878e-17,\n",
              "         1.38777878e-16],\n",
              "       [ 1.24900090e-16, -6.07153217e-17,  1.00000000e+00,\n",
              "         1.38777878e-16],\n",
              "       [-7.63278329e-17,  0.00000000e+00,  0.00000000e+00,\n",
              "         1.00000000e+00]])"
            ]
          },
          "metadata": {},
          "execution_count": 46
        }
      ]
    }
  ]
}