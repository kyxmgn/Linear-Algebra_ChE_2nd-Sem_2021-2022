{
  "nbformat": 4,
  "nbformat_minor": 0,
  "metadata": {
    "colab": {
      "name": "Prelims",
      "provenance": [],
      "authorship_tag": "ABX9TyMpMT+2fSjpcImvp7gQuyHc",
      "include_colab_link": true
    },
    "kernelspec": {
      "name": "python3",
      "display_name": "Python 3"
    },
    "language_info": {
      "name": "python"
    }
  },
  "cells": [
    {
      "cell_type": "markdown",
      "metadata": {
        "id": "view-in-github",
        "colab_type": "text"
      },
      "source": [
        "<a href=\"https://colab.research.google.com/github/kyxmgn/Linear-Algebra_ChE_2nd-Sem_2021-2022/blob/main/Prelims.ipynb\" target=\"_parent\"><img src=\"https://colab.research.google.com/assets/colab-badge.svg\" alt=\"Open In Colab\"/></a>"
      ]
    },
    {
      "cell_type": "markdown",
      "source": [
        "\n",
        "$$\n",
        "\n",
        "B = \\left\\{\n",
        "\n",
        "    \\begin{array}\\\n",
        "\n",
        "        x+y+z \\\\ \n",
        "\n",
        "        3x -2y -z \\\\\n",
        "\n",
        "        -x + 4y +2z\n",
        "\n",
        "    \\end{array}\n",
        "\n",
        "\\right. \n",
        "$$"
      ],
      "metadata": {
        "id": "2-yxn60WHXJy"
      }
    },
    {
      "cell_type": "markdown",
      "source": [
        "\n",
        "$$\n",
        "\n",
        "B = \\left\\{\n",
        "\n",
        "    \\begin{matrix}\\\n",
        "\n",
        "        x+y+z \\\\ \n",
        "\n",
        "        3x -2y -z \\\\\n",
        "\n",
        "        -x + 4y +2z\n",
        "\n",
        "    \\end{matrix}\n",
        "\n",
        "\\right.\n",
        "$$"
      ],
      "metadata": {
        "id": "BDnNqEOoHaT1"
      }
    },
    {
      "cell_type": "code",
      "source": [
        "import numpy as np\n",
        "a = np.array([1,2,3,5,8])\n",
        "b = np.array([0,3,4,2,1])\n",
        "c = a + b\n",
        "c"
      ],
      "metadata": {
        "colab": {
          "base_uri": "https://localhost:8080/"
        },
        "id": "YB88ZbOVHjDD",
        "outputId": "a2b532dc-41ad-4788-adc1-814c468c49db"
      },
      "execution_count": 1,
      "outputs": [
        {
          "output_type": "execute_result",
          "data": {
            "text/plain": [
              "array([1, 5, 7, 7, 9])"
            ]
          },
          "metadata": {},
          "execution_count": 1
        }
      ]
    },
    {
      "cell_type": "code",
      "source": [
        "d = {0,1,2}\n",
        "for x in d:\n",
        "    print(x)"
      ],
      "metadata": {
        "colab": {
          "base_uri": "https://localhost:8080/"
        },
        "id": "Ds1nv0oHH0fx",
        "outputId": "800b76db-8492-4e44-d1f9-3dfbdcb866f1"
      },
      "execution_count": 3,
      "outputs": [
        {
          "output_type": "stream",
          "name": "stdout",
          "text": [
            "0\n",
            "1\n",
            "2\n"
          ]
        }
      ]
    },
    {
      "cell_type": "code",
      "source": [
        "x = 1\n",
        "while True:\n",
        "    if x % 5 == 0:\n",
        "        break\n",
        "    print(x)\n",
        "    x + = 1"
      ],
      "metadata": {
        "colab": {
          "base_uri": "https://localhost:8080/",
          "height": 130
        },
        "id": "4Flm8T49H9kI",
        "outputId": "e1935a47-bccb-4681-85bc-791b7ac98647"
      },
      "execution_count": 4,
      "outputs": [
        {
          "output_type": "error",
          "ename": "SyntaxError",
          "evalue": "ignored",
          "traceback": [
            "\u001b[0;36m  File \u001b[0;32m\"<ipython-input-4-69216f0e0c59>\"\u001b[0;36m, line \u001b[0;32m6\u001b[0m\n\u001b[0;31m    x + = 1\u001b[0m\n\u001b[0m        ^\u001b[0m\n\u001b[0;31mSyntaxError\u001b[0m\u001b[0;31m:\u001b[0m invalid syntax\n"
          ]
        }
      ]
    },
    {
      "cell_type": "code",
      "source": [
        "import numpy as np\n",
        "X = np.array([\n",
        "    [5,0,4],\n",
        "    [4,-1,5],\n",
        "    [3,-1,-6]\n",
        "])\n",
        "Y = np.triu(X)\n",
        "Y"
      ],
      "metadata": {
        "colab": {
          "base_uri": "https://localhost:8080/"
        },
        "id": "FRrqu_H-ILNT",
        "outputId": "873115eb-df08-4928-c9f4-3cfb7376ac29"
      },
      "execution_count": 5,
      "outputs": [
        {
          "output_type": "execute_result",
          "data": {
            "text/plain": [
              "array([[ 5,  0,  4],\n",
              "       [ 0, -1,  5],\n",
              "       [ 0,  0, -6]])"
            ]
          },
          "metadata": {},
          "execution_count": 5
        }
      ]
    },
    {
      "cell_type": "code",
      "source": [
        "def create_user (userid):\n",
        "    print (\"Successfully created user: {}\" .format(userid))\n",
        "\n",
        "userid = 2021_100001\n",
        "create_user(2021-100100)"
      ],
      "metadata": {
        "colab": {
          "base_uri": "https://localhost:8080/"
        },
        "id": "QDR9UFkoJ2FF",
        "outputId": "a8bdd114-63c8-466d-d6d7-04d4c8acde0e"
      },
      "execution_count": 7,
      "outputs": [
        {
          "output_type": "stream",
          "name": "stdout",
          "text": [
            "Successfully created user: -98079\n"
          ]
        }
      ]
    },
    {
      "cell_type": "code",
      "source": [
        "import numpy as np\n",
        "a = np.array([[1,2,3],[0,1,4]])\n",
        "print (a.shape)"
      ],
      "metadata": {
        "colab": {
          "base_uri": "https://localhost:8080/"
        },
        "id": "75d3CbWjKVMR",
        "outputId": "ca0742fe-0a55-4f58-ba45-ad56713c0feb"
      },
      "execution_count": 8,
      "outputs": [
        {
          "output_type": "stream",
          "name": "stdout",
          "text": [
            "(2, 3)\n"
          ]
        }
      ]
    },
    {
      "cell_type": "code",
      "source": [
        "x, y, z = 2, 4.0 , '3'\n",
        "type (z)"
      ],
      "metadata": {
        "colab": {
          "base_uri": "https://localhost:8080/"
        },
        "id": "V1L4Q1ZJKh-9",
        "outputId": "16d278a0-6bff-4459-96b9-71e1dc73f7fd"
      },
      "execution_count": 9,
      "outputs": [
        {
          "output_type": "execute_result",
          "data": {
            "text/plain": [
              "str"
            ]
          },
          "metadata": {},
          "execution_count": 9
        }
      ]
    },
    {
      "cell_type": "code",
      "source": [
        "i = 0\n",
        "while i < 5:\n",
        "    print(i)\n",
        "    i +=1\n",
        "    if i==3:\n",
        "        break\n",
        "else:\n",
        "    print(0)"
      ],
      "metadata": {
        "colab": {
          "base_uri": "https://localhost:8080/"
        },
        "id": "xCcnO5b7LcKf",
        "outputId": "aa48d3ab-67d6-426b-8cae-e47468e4c3d4"
      },
      "execution_count": 10,
      "outputs": [
        {
          "output_type": "stream",
          "name": "stdout",
          "text": [
            "0\n",
            "1\n",
            "2\n"
          ]
        }
      ]
    },
    {
      "cell_type": "code",
      "source": [
        "int1 = 10\n",
        "int2 = 6\n",
        "if int1 != int2:\n",
        "    int2 = ++ int2\n",
        "    print(int1 - int2)"
      ],
      "metadata": {
        "colab": {
          "base_uri": "https://localhost:8080/"
        },
        "id": "ALim_YBzLwaG",
        "outputId": "9127d5f2-5f48-4721-e614-ec127a89e221"
      },
      "execution_count": 11,
      "outputs": [
        {
          "output_type": "stream",
          "name": "stdout",
          "text": [
            "4\n"
          ]
        }
      ]
    },
    {
      "cell_type": "code",
      "source": [
        "P = np.array([\n",
        "    [5,7,2],\n",
        "    [2,3,3],\n",
        "    [4,1,0]\n",
        "])\n",
        "Q = np.array([\n",
        "    [2,2,-3],\n",
        "    [0,0,1],\n",
        "    [1,1,-3]\n",
        "])\n",
        "P + 2*Q"
      ],
      "metadata": {
        "colab": {
          "base_uri": "https://localhost:8080/"
        },
        "id": "n53AtEy5MMtV",
        "outputId": "0b930607-d8b2-4168-a037-6619404390e4"
      },
      "execution_count": 13,
      "outputs": [
        {
          "output_type": "execute_result",
          "data": {
            "text/plain": [
              "array([[ 9, 11, -4],\n",
              "       [ 2,  3,  5],\n",
              "       [ 6,  3, -6]])"
            ]
          },
          "metadata": {},
          "execution_count": 13
        }
      ]
    }
  ]
}