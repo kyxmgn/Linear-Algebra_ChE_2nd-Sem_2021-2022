{
  "nbformat": 4,
  "nbformat_minor": 0,
  "metadata": {
    "colab": {
      "name": "Assignment 10 - Magno, Kassandra",
      "provenance": [],
      "include_colab_link": true
    },
    "kernelspec": {
      "name": "python3",
      "display_name": "Python 3"
    },
    "language_info": {
      "name": "python"
    }
  },
  "cells": [
    {
      "cell_type": "markdown",
      "metadata": {
        "id": "view-in-github",
        "colab_type": "text"
      },
      "source": [
        "<a href=\"https://colab.research.google.com/github/kyxmgn/Linear-Algebra_ChE_2nd-Sem_2021-2022/blob/main/Assignment_10_Magno%2C_Kassandra.ipynb\" target=\"_parent\"><img src=\"https://colab.research.google.com/assets/colab-badge.svg\" alt=\"Open In Colab\"/></a>"
      ]
    },
    {
      "cell_type": "markdown",
      "source": [
        "# Linear Algebra for ECE\n",
        "## Laboratory 10 : Linear Combination and Vector Spaces"
      ],
      "metadata": {
        "id": "0d4nWVJegPNy"
      }
    },
    {
      "cell_type": "markdown",
      "source": [
        "Now that you have a fundamental knowledge about linear combination, we'll try to visualize it using scientific programming."
      ],
      "metadata": {
        "id": "JH5y8hUdgUk8"
      }
    },
    {
      "cell_type": "markdown",
      "source": [
        "### Objectives\n",
        "At the end of this activity you will be able to:\n",
        "1. Be familiar with representing linear combinations in the 2-dimensional plane.\n",
        "2. Visualize spans using vector fields in Python.\n",
        "3. Perform vector fields operations using scientific programming."
      ],
      "metadata": {
        "id": "8ol6kZp7gW9_"
      }
    },
    {
      "cell_type": "markdown",
      "source": [
        "## Discussion"
      ],
      "metadata": {
        "id": "dCjZvQ2WgYJB"
      }
    },
    {
      "cell_type": "code",
      "source": [
        "import numpy as np\n",
        "import matplotlib.pyplot as plt\n",
        "%matplotlib inline"
      ],
      "metadata": {
        "id": "Xq5IBhJegcoR"
      },
      "execution_count": null,
      "outputs": []
    },
    {
      "cell_type": "markdown",
      "source": [
        "## Linear Combination"
      ],
      "metadata": {
        "id": "AXsmwwLEggAu"
      }
    },
    {
      "cell_type": "markdown",
      "source": [
        "This is a vector formed by multiplying scalar values by two or more vectors with distinct directions."
      ],
      "metadata": {
        "id": "j5JYRiXXhj_R"
      }
    },
    {
      "cell_type": "markdown",
      "source": [
        "We will try to visualize the vectors and their linear combinations by plotting a sample of real number values for the scalars for the vectors. Let's first try the vectors below:"
      ],
      "metadata": {
        "id": "HRQcB8XYhlhn"
      }
    },
    {
      "cell_type": "markdown",
      "source": [
        "$$X = \\begin{bmatrix} 2\\\\5 \\\\\\end{bmatrix} , Y = \\begin{bmatrix} 7\\\\9 \\\\\\end{bmatrix} $$"
      ],
      "metadata": {
        "id": "ktsfnC3ghq-T"
      }
    },
    {
      "cell_type": "code",
      "source": [
        "vectX =  np.array([2,5])\n",
        "vectX"
      ],
      "metadata": {
        "id": "clPw3pPwhsik",
        "colab": {
          "base_uri": "https://localhost:8080/"
        },
        "outputId": "1618fa34-b4d3-46f5-8710-ab8e5bc6a18b"
      },
      "execution_count": null,
      "outputs": [
        {
          "output_type": "execute_result",
          "data": {
            "text/plain": [
              "array([2, 5])"
            ]
          },
          "metadata": {},
          "execution_count": 4
        }
      ]
    },
    {
      "cell_type": "code",
      "source": [
        "vectY = np.array([7,9])\n",
        "vectY"
      ],
      "metadata": {
        "colab": {
          "base_uri": "https://localhost:8080/"
        },
        "id": "esz-z42NFCOB",
        "outputId": "1ec1a8df-e339-45b3-e4d3-fd5559f41b68"
      },
      "execution_count": null,
      "outputs": [
        {
          "output_type": "execute_result",
          "data": {
            "text/plain": [
              "array([7, 9])"
            ]
          },
          "metadata": {},
          "execution_count": 5
        }
      ]
    },
    {
      "cell_type": "markdown",
      "source": [
        "## Span of single vectors"
      ],
      "metadata": {
        "id": "nlwTAC88hvLN"
      }
    },
    {
      "cell_type": "markdown",
      "source": [
        "The set of all linear combinations of a set of vectors is called its span. A line span can represent the length of individual vectors. Here, the function np.arange() is used, this is one of the numerical range-based array generation techniques. It returns the reference to an instance of ndarray that has evenly spaced values.\n",
        "Let's take vector $X$ as an example."
      ],
      "metadata": {
        "id": "l-a3RPmfh0nh"
      }
    },
    {
      "cell_type": "markdown",
      "source": [
        "$$X = c\\cdot \\begin{bmatrix} 2\\\\5 \\\\\\end{bmatrix} $$"
      ],
      "metadata": {
        "id": "zCG56oG4h3QA"
      }
    },
    {
      "cell_type": "code",
      "source": [
        "c = np.arange(-10,10,0.125)\n",
        "\n",
        "plt.scatter(c*vectX[0],c*vectX[1])\n",
        "\n",
        "plt.xlim(-10,10)\n",
        "plt.ylim(-10,10)\n",
        "plt.axhline(y=0, color='k')\n",
        "plt.axvline(x=0, color='k')\n",
        "plt.grid()\n",
        "plt.show()"
      ],
      "metadata": {
        "colab": {
          "base_uri": "https://localhost:8080/",
          "height": 269
        },
        "id": "qhrRZmL1h5z1",
        "outputId": "fea3b410-140b-4187-c10c-83433f00800e"
      },
      "execution_count": null,
      "outputs": [
        {
          "output_type": "display_data",
          "data": {
            "text/plain": [
              "<Figure size 432x288 with 1 Axes>"
            ],
            "image/png": "[encoded data removed]"
          },
          "metadata": {
            "needs_background": "light"
          }
        }
      ]
    },
    {
      "cell_type": "markdown",
      "source": [
        "$$Y = c\\cdot \\begin{bmatrix} 7\\\\9 \\\\\\end{bmatrix} $$"
      ],
      "metadata": {
        "id": "dOxRq-64iLJu"
      }
    },
    {
      "cell_type": "code",
      "source": [
        "c = np.arange(-15,15,0.5)\n",
        "\n",
        "plt.scatter(c*vectY[0],c*vectY[1])\n",
        "\n",
        "plt.xlim(-20,20)\n",
        "plt.ylim(-20,20)\n",
        "plt.axhline(y=0, color='k')\n",
        "plt.axvline(x=0, color='k')\n",
        "plt.grid()\n",
        "plt.show()"
      ],
      "metadata": {
        "colab": {
          "base_uri": "https://localhost:8080/",
          "height": 269
        },
        "id": "NaIA5C_piKVr",
        "outputId": "bc842182-b908-437f-dbcb-087370913d09"
      },
      "execution_count": null,
      "outputs": [
        {
          "output_type": "display_data",
          "data": {
            "text/plain": [
              "<Figure size 432x288 with 1 Axes>"
            ],
            "image/png": "[encoded data removed]"
          },
          "metadata": {
            "needs_background": "light"
          }
        }
      ]
    },
    {
      "cell_type": "markdown",
      "source": [
        "## Span of a linear combination of vectors"
      ],
      "metadata": {
        "id": "VJJeu_r-iRO7"
      }
    },
    {
      "cell_type": "markdown",
      "source": [
        "It's crucial to understand whether a linear combination can fill a plane or space. For instance, if two vectors are not independent, there is only one vector which can draw a line. If three vectors aren't independent, they're merely two vectors, one of which is redundant, and they can only fill a 2D plane rather than a 3D space. So what if we are to plot the span of a linear combination of vectors? We can visualize as a plane on the 2-dimensional coordinate system. Let's take the span of the linear combination below:"
      ],
      "metadata": {
        "id": "5xjwHD6SiXuK"
      }
    },
    {
      "cell_type": "markdown",
      "source": [
        "$$S = \\begin{Bmatrix} c_1 \\cdot\\begin{bmatrix} 1\\\\0 \\\\\\end{bmatrix}, \n",
        "c_2 \\cdot \\begin{bmatrix} 1\\\\-1 \\\\\\end{bmatrix}\\end{Bmatrix} $$"
      ],
      "metadata": {
        "id": "JRqW07gQiZ5R"
      }
    },
    {
      "cell_type": "code",
      "source": [
        "vectA = np.array([1,0])\n",
        "vectB = np.array([1,-1])\n",
        "\n",
        "R = np.arange(-10,10,1)\n",
        "\n",
        "c1, c2 = np.meshgrid(R,R)\n",
        "\n",
        "vectR = vectA + vectB\n",
        "spanRx = c1*vectA[0] + c2*vectB[0]\n",
        "spanRy = c1*vectA[1] + c2*vectB[1]\n",
        "##plt.scatter(R*vectA[0],R*vectA[1])\n",
        "##plt.scatter(R*vectB[0],R*vectB[1])\n",
        "plt.scatter(spanRx,spanRy, s=5, alpha=0.75)\n",
        "\n",
        "plt.axhline(y=0, color='k')\n",
        "plt.axvline(x=0, color='k')\n",
        "plt.grid()\n",
        "plt.show()"
      ],
      "metadata": {
        "colab": {
          "base_uri": "https://localhost:8080/",
          "height": 265
        },
        "id": "lynnYThdibh1",
        "outputId": "53651686-374d-4d76-bfc7-2b052447b6be"
      },
      "execution_count": null,
      "outputs": [
        {
          "output_type": "display_data",
          "data": {
            "text/plain": [
              "<Figure size 432x288 with 1 Axes>"
            ],
            "image/png": "[encoded data removed]"
          },
          "metadata": {
            "needs_background": "light"
          }
        }
      ]
    },
    {
      "cell_type": "code",
      "source": [
        "vectP = np.array([2,1])\n",
        "vectQ = np.array([4,3])\n",
        "\n",
        "R = np.arange(-10,10,1)\n",
        "\n",
        "c1, c2 = np.meshgrid(R,R)\n",
        "\n",
        "vectR = vectP + vectQ\n",
        "spanRx = c1*vectP[0] + c2*vectQ[0]\n",
        "spanRy = c1*vectP[1] + c2*vectQ[1]\n",
        "##plt.scatter(R*vectA[0],R*vectA[1])\n",
        "##plt.scatter(R*vectB[0],R*vectB[1])\n",
        "plt.scatter(spanRx,spanRy, s=5, alpha=0.75)\n",
        "\n",
        "plt.axhline(y=0, color='k')\n",
        "plt.axvline(x=0, color='k')\n",
        "plt.grid()\n",
        "plt.show()"
      ],
      "metadata": {
        "colab": {
          "base_uri": "https://localhost:8080/",
          "height": 265
        },
        "id": "SQNtY2GFifOt",
        "outputId": "f1ab061f-1fcb-4f95-a80d-913ed765fad9"
      },
      "execution_count": null,
      "outputs": [
        {
          "output_type": "display_data",
          "data": {
            "text/plain": [
              "<Figure size 432x288 with 1 Axes>"
            ],
            "image/png": "[encoded data removed]"
          },
          "metadata": {
            "needs_background": "light"
          }
        }
      ]
    },
    {
      "cell_type": "markdown",
      "source": [
        "Take note that if vectors are seen to be as a 2-dimensional span we can say it has a Rank of 2 or $\\mathbb{R}^2$. But if the span of the linear combination of vectors are seen to be like a line, they are said to be <b> linearly dependent </b> and they have a rank of 1 or $\\mathbb{R}^1$."
      ],
      "metadata": {
        "id": "UUaukUIpiiZG"
      }
    },
    {
      "cell_type": "markdown",
      "source": [
        "# Activity"
      ],
      "metadata": {
        "id": "rFHFeaRrinB8"
      }
    },
    {
      "cell_type": "markdown",
      "source": [
        "## Task 1"
      ],
      "metadata": {
        "id": "ewl15dK7ipBa"
      }
    },
    {
      "cell_type": "markdown",
      "source": [
        "Try different linear combinations using different scalar values. In your methodology discuss the different functions that you have used, the  linear equation and vector form of the linear combination, and the flowchart for declaring and displaying linear combinations. Please make sure that your flowchart has only few words and not putting the entire code as it is bad practice. In your results, display and discuss the linear combination visualization you made. You should use the cells below for displaying the equation markdows using LaTeX and your code."
      ],
      "metadata": {
        "id": "7SKdn4J5jIqO"
      }
    },
    {
      "cell_type": "markdown",
      "source": [
        "$$ A = 17\\hat{x} - 18\\hat{y} \\\\\n",
        "B = -8\\hat{x} + 4\\hat{y}$$"
      ],
      "metadata": {
        "id": "YR3uoeHDjMBn"
      }
    },
    {
      "cell_type": "markdown",
      "source": [
        "$$A = \\begin{bmatrix} 17\\\\-18 \\\\\\end{bmatrix} , B = \\begin{bmatrix} -8\\\\4 \\\\\\end{bmatrix} $$\n",
        "\n",
        "$$A = c\\cdot \\begin{bmatrix} 17\\\\-18 \\\\\\end{bmatrix} , B = c\\cdot \\begin{bmatrix} -8\\\\4 \\\\\\end{bmatrix} $$"
      ],
      "metadata": {
        "id": "iNzUX4annJ30"
      }
    },
    {
      "cell_type": "code",
      "source": [
        "### TYPE YOU CODE FOR TASK 1 HERE\n",
        "vectA =  np.array([17,-18])\n",
        "vectB =  np.array([-8,4])"
      ],
      "metadata": {
        "id": "BaekCYJPnbfk"
      },
      "execution_count": null,
      "outputs": []
    },
    {
      "cell_type": "code",
      "source": [
        "c = np.arange(-50,30,0.5)\n",
        "\n",
        "plt.scatter(c*vectA[0],c*vectA[1])\n",
        "\n",
        "plt.xlim(-60,60)\n",
        "plt.ylim(-60,60)\n",
        "plt.axhline(y=0, color='blue')\n",
        "plt.axvline(x=0, color='green')\n",
        "plt.grid()\n",
        "plt.show()"
      ],
      "metadata": {
        "colab": {
          "base_uri": "https://localhost:8080/",
          "height": 269
        },
        "id": "qXe0m7twN6b0",
        "outputId": "61117b69-a619-4b65-bfc0-6ac1a7527065"
      },
      "execution_count": null,
      "outputs": [
        {
          "output_type": "display_data",
          "data": {
            "text/plain": [
              "<Figure size 432x288 with 1 Axes>"
            ],
            "image/png": "[encoded data removed]"
          },
          "metadata": {
            "needs_background": "light"
          }
        }
      ]
    },
    {
      "cell_type": "code",
      "source": [
        "c = np.arange(0,10,0.4)\n",
        "\n",
        "plt.scatter(c*vectB[0],c*vectB[1])\n",
        "\n",
        "plt.xlim(-20,20)\n",
        "plt.ylim(-20,20)\n",
        "plt.axhline(y=0, color='red')\n",
        "plt.axvline(x=0, color='pink')\n",
        "plt.grid()\n",
        "plt.show()"
      ],
      "metadata": {
        "colab": {
          "base_uri": "https://localhost:8080/",
          "height": 269
        },
        "id": "jQPkvV_QhuWS",
        "outputId": "701274a8-6f1e-4932-f885-6b783c8af774"
      },
      "execution_count": null,
      "outputs": [
        {
          "output_type": "display_data",
          "data": {
            "text/plain": [
              "<Figure size 432x288 with 1 Axes>"
            ],
            "image/png": "[encoded data removed]"
          },
          "metadata": {
            "needs_background": "light"
          }
        }
      ]
    },
    {
      "cell_type": "markdown",
      "source": [
        "$$ C = 4\\hat{x} - 17\\hat{y} \\\\\n",
        "D = -5\\hat{x} + 10\\hat{y}$$\n",
        "\n",
        "$$S = \\begin{Bmatrix} c_1 \\cdot\\begin{bmatrix} 4\\\\-17 \\\\\\end{bmatrix}, \n",
        "c_2 \\cdot \\begin{bmatrix} -5\\\\10 \\\\\\end{bmatrix}\\end{Bmatrix} $$"
      ],
      "metadata": {
        "id": "lriRlK9oMwIA"
      }
    },
    {
      "cell_type": "code",
      "source": [
        "vectC = np.array([4,-17])\n",
        "vectD = np.array([-5,10])"
      ],
      "metadata": {
        "id": "W7g7EtUMi6Kt"
      },
      "execution_count": null,
      "outputs": []
    },
    {
      "cell_type": "code",
      "source": [
        "R = np.arange(-10,10,0.5)\n",
        "\n",
        "c1, c2 = np.meshgrid(R,R)\n",
        "\n",
        "vectR = vectC + vectD\n",
        "spanRx = c1*vectC[0] + c2*vectD[0]\n",
        "spanRy = c1*vectC[1] + c2*vectD[1]\n",
        "plt.scatter(spanRx,spanRy, s=5, alpha=0.5)\n",
        "\n",
        "plt.axhline(y=0, color='brown')\n",
        "plt.axvline(x=0, color='orange')\n",
        "plt.grid()"
      ],
      "metadata": {
        "colab": {
          "base_uri": "https://localhost:8080/",
          "height": 265
        },
        "id": "x2HQGYFVi_mU",
        "outputId": "c60ce5b2-dcea-41f8-9bc0-62bf3ac87a43"
      },
      "execution_count": null,
      "outputs": [
        {
          "output_type": "display_data",
          "data": {
            "text/plain": [
              "<Figure size 432x288 with 1 Axes>"
            ],
            "image/png": "[encoded data removed]"
          },
          "metadata": {
            "needs_background": "light"
          }
        }
      ]
    },
    {
      "cell_type": "markdown",
      "source": [
        "## Conclusion"
      ],
      "metadata": {
        "id": "3za-lccJF8z5"
      }
    },
    {
      "cell_type": "markdown",
      "source": [
        "Through this laboratory activity, it proved that it is easier to plot vectors through Google Colab than manually doing. With inputting codes with corresponding vector details, the program itself will automatically reveal a plane with the vector plots  by clicking “Run”. Keep in mind that codes are sensitive when inputted – some might be the same but will have a different outcome – yet  it is convenient to apply the codes if they were learned properly every time we can plot it with vectors. In applying the concept of linear combinations in real-life or engineering situations, one example of linear equations is illustrated in finding the time it takes for two cars moving toward each other at different speeds to reach the same point. Another example can be like finding which company offers the best pay –  if one company offers 450 dollard per week and the other offers 10 dollars per hour, while both ask you to work 40 hours per week, the linear equation can help you figure it out by expressing the first company's offer as 450 = 40x and the second company's offer as y = 10(40). After comparing the two offers, the equations tell you that the first company is offering a better rate of pay at $11.25 per hour.\n"
      ],
      "metadata": {
        "id": "kXoc_4fFF-Rt"
      }
    }
  ]
}