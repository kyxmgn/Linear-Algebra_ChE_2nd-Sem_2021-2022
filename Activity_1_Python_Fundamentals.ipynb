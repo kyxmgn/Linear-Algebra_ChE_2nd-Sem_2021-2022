{
  "nbformat": 4,
  "nbformat_minor": 0,
  "metadata": {
    "colab": {
      "name": "Activity 1 - Python Fundamentals",
      "provenance": [],
      "collapsed_sections": [],
      "authorship_tag": "ABX9TyMrJi7XKKvCT5AJx+kQP1B6",
      "include_colab_link": true
    },
    "kernelspec": {
      "name": "python3",
      "display_name": "Python 3"
    },
    "language_info": {
      "name": "python"
    }
  },
  "cells": [
    {
      "cell_type": "markdown",
      "metadata": {
        "id": "view-in-github",
        "colab_type": "text"
      },
      "source": [
        "<a href=\"https://colab.research.google.com/github/kyxmgn/Linear-Algebra_ChE_2nd-Sem_2021-2022/blob/main/Activity_1_Python_Fundamentals.ipynb\" target=\"_parent\"><img src=\"https://colab.research.google.com/assets/colab-badge.svg\" alt=\"Open In Colab\"/></a>"
      ]
    },
    {
      "cell_type": "code",
      "execution_count": null,
      "metadata": {
        "id": "LjIT45ra99ug"
      },
      "outputs": [],
      "source": [
        ""
      ]
    },
    {
      "cell_type": "markdown",
      "source": [
        "# Welcome to Python Fundamentals\n",
        "In this module, we are going to establish or review our skills in Python programming. In this notebook we are going to cover:\n",
        "* Variables and Data Types \n",
        "* Operations\n",
        "* Input and Output Operations\n",
        "* Logic Control\n",
        "* Iterables\n",
        "* Functions"
      ],
      "metadata": {
        "id": "Gkb_QGj2_ub8"
      }
    },
    {
      "cell_type": "markdown",
      "source": [
        "## Variable and Data Types"
      ],
      "metadata": {
        "id": "f1eEhRFAAGFm"
      }
    },
    {
      "cell_type": "markdown",
      "source": [
        "In programming, variable is defined as the symbolic name that represents an unknown quantity that is being used at any time, it is the noun of a programming language which is changing for every execution depending on the information stored in it. Meanwhile, data types specify a variable on what information it contains and what type of operation it will use such as mathematical, logical, or relational."
      ],
      "metadata": {
        "id": "vfB8ENM88UOj"
      }
    },
    {
      "cell_type": "code",
      "source": [
        "k = 1\n",
        "a,b = 0, -1\n",
        "a"
      ],
      "metadata": {
        "colab": {
          "base_uri": "https://localhost:8080/"
        },
        "id": "DKz6vu_zARUb",
        "outputId": "1aa7c569-90be-4ed4-dfc8-044a8e0c5d72"
      },
      "execution_count": 56,
      "outputs": [
        {
          "output_type": "execute_result",
          "data": {
            "text/plain": [
              "0"
            ]
          },
          "metadata": {},
          "execution_count": 56
        }
      ]
    },
    {
      "cell_type": "code",
      "source": [
        "type(b)"
      ],
      "metadata": {
        "colab": {
          "base_uri": "https://localhost:8080/"
        },
        "id": "LsDsRvgVA9-v",
        "outputId": "bb9f2880-13da-440f-f972-1834624a2de3"
      },
      "execution_count": 57,
      "outputs": [
        {
          "output_type": "execute_result",
          "data": {
            "text/plain": [
              "int"
            ]
          },
          "metadata": {},
          "execution_count": 57
        }
      ]
    },
    {
      "cell_type": "code",
      "source": [
        "y = 1.5\n",
        "type(y)"
      ],
      "metadata": {
        "colab": {
          "base_uri": "https://localhost:8080/"
        },
        "id": "tv4p_uEbBnhH",
        "outputId": "5f96149b-5249-4468-d227-fa4495d7e833"
      },
      "execution_count": 58,
      "outputs": [
        {
          "output_type": "execute_result",
          "data": {
            "text/plain": [
              "float"
            ]
          },
          "metadata": {},
          "execution_count": 58
        }
      ]
    },
    {
      "cell_type": "code",
      "source": [
        "k = float (k)\n",
        "type (k)"
      ],
      "metadata": {
        "colab": {
          "base_uri": "https://localhost:8080/"
        },
        "id": "Uh9tHgdzByy5",
        "outputId": "da002838-a009-412f-b0b5-1de0a5e27885"
      },
      "execution_count": 59,
      "outputs": [
        {
          "output_type": "execute_result",
          "data": {
            "text/plain": [
              "float"
            ]
          },
          "metadata": {},
          "execution_count": 59
        }
      ]
    },
    {
      "cell_type": "code",
      "source": [
        "a,b,c = \"0\", '1', 'one'\n",
        "type (c)"
      ],
      "metadata": {
        "colab": {
          "base_uri": "https://localhost:8080/"
        },
        "id": "GOcndvY2CAcx",
        "outputId": "7ea442b3-79d6-4f42-f890-fa3f61094333"
      },
      "execution_count": 60,
      "outputs": [
        {
          "output_type": "execute_result",
          "data": {
            "text/plain": [
              "str"
            ]
          },
          "metadata": {},
          "execution_count": 60
        }
      ]
    },
    {
      "cell_type": "code",
      "source": [
        "a_int = int(a)\n",
        "a_int"
      ],
      "metadata": {
        "colab": {
          "base_uri": "https://localhost:8080/"
        },
        "id": "2AOVC7yqCTOj",
        "outputId": "2ed727a2-50cc-4e21-d46c-7b23cd52912c"
      },
      "execution_count": 61,
      "outputs": [
        {
          "output_type": "execute_result",
          "data": {
            "text/plain": [
              "0"
            ]
          },
          "metadata": {},
          "execution_count": 61
        }
      ]
    },
    {
      "cell_type": "markdown",
      "source": [
        "##Operations"
      ],
      "metadata": {
        "id": "7os7LEHLC2Mb"
      }
    },
    {
      "cell_type": "markdown",
      "source": [
        "Operations are known as an action that is done to achieve a certain task. This method uses an operator which is a symbol to accomplish computations, the types of operators are the following: arithmetic, assignment, comparison, logical, and input-output operators.This method uses an operator which is a symbol to accomplish computations, the types of operators are the following: arithmetic, assignment, comparison, logical, and input-output operators."
      ],
      "metadata": {
        "id": "RxF4cYpUAjpx"
      }
    },
    {
      "cell_type": "markdown",
      "source": [
        "###Arithmetic"
      ],
      "metadata": {
        "id": "m7xvfjM9C6tp"
      }
    },
    {
      "cell_type": "code",
      "source": [
        "k,a,y,e = 2.0, -0.5, 0, -32"
      ],
      "metadata": {
        "id": "Qq-cq1fbC_vd"
      },
      "execution_count": 62,
      "outputs": []
    },
    {
      "cell_type": "code",
      "source": [
        "### Addition\n",
        "s = k+a\n",
        "s"
      ],
      "metadata": {
        "colab": {
          "base_uri": "https://localhost:8080/"
        },
        "id": "n90iuPupDODt",
        "outputId": "95b252a3-f0a1-4924-aae6-73c30eb75253"
      },
      "execution_count": 63,
      "outputs": [
        {
          "output_type": "execute_result",
          "data": {
            "text/plain": [
              "1.5"
            ]
          },
          "metadata": {},
          "execution_count": 63
        }
      ]
    },
    {
      "cell_type": "code",
      "source": [
        "### Subtraction\n",
        "d = a-e\n",
        "d"
      ],
      "metadata": {
        "colab": {
          "base_uri": "https://localhost:8080/"
        },
        "id": "G_omEvCsEgEB",
        "outputId": "424587b7-f201-4465-8c31-3f19e1a56103"
      },
      "execution_count": 64,
      "outputs": [
        {
          "output_type": "execute_result",
          "data": {
            "text/plain": [
              "31.5"
            ]
          },
          "metadata": {},
          "execution_count": 64
        }
      ]
    },
    {
      "cell_type": "code",
      "source": [
        "### Multiplication\n",
        "p = a*y\n",
        "p"
      ],
      "metadata": {
        "colab": {
          "base_uri": "https://localhost:8080/"
        },
        "id": "FH0ezJi5amXB",
        "outputId": "ed9c16db-2318-4cb0-dd04-6e4645ecba87"
      },
      "execution_count": 65,
      "outputs": [
        {
          "output_type": "execute_result",
          "data": {
            "text/plain": [
              "-0.0"
            ]
          },
          "metadata": {},
          "execution_count": 65
        }
      ]
    },
    {
      "cell_type": "code",
      "source": [
        "### Division\n",
        "q = k/a\n",
        "q"
      ],
      "metadata": {
        "colab": {
          "base_uri": "https://localhost:8080/"
        },
        "id": "LRiW8EllcaTe",
        "outputId": "f910f881-3e7d-4b10-c1fd-7b0dff744ac3"
      },
      "execution_count": 66,
      "outputs": [
        {
          "output_type": "execute_result",
          "data": {
            "text/plain": [
              "-4.0"
            ]
          },
          "metadata": {},
          "execution_count": 66
        }
      ]
    },
    {
      "cell_type": "code",
      "source": [
        "### Floor Division\n",
        "f = e//a\n",
        "f"
      ],
      "metadata": {
        "colab": {
          "base_uri": "https://localhost:8080/"
        },
        "id": "HQsULFpycmWb",
        "outputId": "8bf61364-b0e8-4d84-d676-90de4f9bb5a8"
      },
      "execution_count": 67,
      "outputs": [
        {
          "output_type": "execute_result",
          "data": {
            "text/plain": [
              "64.0"
            ]
          },
          "metadata": {},
          "execution_count": 67
        }
      ]
    },
    {
      "cell_type": "code",
      "source": [
        "### Exponentiation\n",
        "e = e**k\n",
        "e"
      ],
      "metadata": {
        "colab": {
          "base_uri": "https://localhost:8080/"
        },
        "id": "UdFSCxwKc1m2",
        "outputId": "92f03f81-f0a6-4d6c-bb84-87e763f69a0c"
      },
      "execution_count": 68,
      "outputs": [
        {
          "output_type": "execute_result",
          "data": {
            "text/plain": [
              "1024.0"
            ]
          },
          "metadata": {},
          "execution_count": 68
        }
      ]
    },
    {
      "cell_type": "code",
      "source": [
        "### Modulo\n",
        "m = k%a\n",
        "m"
      ],
      "metadata": {
        "colab": {
          "base_uri": "https://localhost:8080/"
        },
        "id": "U9jzo71lc-Xe",
        "outputId": "f3e4c93e-6fd1-41f8-810f-0537cfbc38ca"
      },
      "execution_count": 69,
      "outputs": [
        {
          "output_type": "execute_result",
          "data": {
            "text/plain": [
              "-0.0"
            ]
          },
          "metadata": {},
          "execution_count": 69
        }
      ]
    },
    {
      "cell_type": "markdown",
      "source": [
        "### Assignment Operations"
      ],
      "metadata": {
        "id": "S_Vyc8uZJmPI"
      }
    },
    {
      "cell_type": "code",
      "source": [
        "W, X, Y, Z = 0, 100, 5, 32"
      ],
      "metadata": {
        "id": "iUYDmr19JrLS"
      },
      "execution_count": 70,
      "outputs": []
    },
    {
      "cell_type": "code",
      "source": [
        "W += k\n",
        "W"
      ],
      "metadata": {
        "colab": {
          "base_uri": "https://localhost:8080/"
        },
        "id": "Nilaepv0J8xb",
        "outputId": "6d63c07f-a3d2-4c7b-b58a-cdc946ca3e02"
      },
      "execution_count": 71,
      "outputs": [
        {
          "output_type": "execute_result",
          "data": {
            "text/plain": [
              "2.0"
            ]
          },
          "metadata": {},
          "execution_count": 71
        }
      ]
    },
    {
      "cell_type": "code",
      "source": [
        "X -= e\n",
        "X"
      ],
      "metadata": {
        "colab": {
          "base_uri": "https://localhost:8080/"
        },
        "id": "0P8Rv6gXKaJ-",
        "outputId": "bffa3856-aa41-4596-a4b5-f94aaf599930"
      },
      "execution_count": 73,
      "outputs": [
        {
          "output_type": "execute_result",
          "data": {
            "text/plain": [
              "-1948.0"
            ]
          },
          "metadata": {},
          "execution_count": 73
        }
      ]
    },
    {
      "cell_type": "code",
      "source": [
        "Y *= 2\n",
        "2"
      ],
      "metadata": {
        "colab": {
          "base_uri": "https://localhost:8080/"
        },
        "id": "zTeIi9TwdMD5",
        "outputId": "c0865fb2-2227-408a-e918-9e6f67a1e7fc"
      },
      "execution_count": 74,
      "outputs": [
        {
          "output_type": "execute_result",
          "data": {
            "text/plain": [
              "2"
            ]
          },
          "metadata": {},
          "execution_count": 74
        }
      ]
    },
    {
      "cell_type": "code",
      "source": [
        "Z **= 3\n",
        "Z"
      ],
      "metadata": {
        "colab": {
          "base_uri": "https://localhost:8080/"
        },
        "id": "diCnrvtJdjLN",
        "outputId": "baba7b1a-24a6-4e0f-baed-564967b5fef9"
      },
      "execution_count": 75,
      "outputs": [
        {
          "output_type": "execute_result",
          "data": {
            "text/plain": [
              "32768"
            ]
          },
          "metadata": {},
          "execution_count": 75
        }
      ]
    },
    {
      "cell_type": "markdown",
      "source": [
        "### Comparators"
      ],
      "metadata": {
        "id": "6d5FUj-MLX9o"
      }
    },
    {
      "cell_type": "code",
      "source": [
        "res_1, res_2, res_3 = 1, 2.0, \"1\"\n",
        "true_val = 1.0"
      ],
      "metadata": {
        "id": "TMhW1opid0Cm"
      },
      "execution_count": 76,
      "outputs": []
    },
    {
      "cell_type": "code",
      "source": [
        "## Equality\n",
        "res_1 == true_val"
      ],
      "metadata": {
        "colab": {
          "base_uri": "https://localhost:8080/"
        },
        "id": "OKbWK769d9_l",
        "outputId": "ca1e7f39-2a07-42cb-f765-14ed5d338244"
      },
      "execution_count": 77,
      "outputs": [
        {
          "output_type": "execute_result",
          "data": {
            "text/plain": [
              "True"
            ]
          },
          "metadata": {},
          "execution_count": 77
        }
      ]
    },
    {
      "cell_type": "code",
      "source": [
        "## Non-equality\n",
        "res_2 != true_val "
      ],
      "metadata": {
        "colab": {
          "base_uri": "https://localhost:8080/"
        },
        "id": "GRs_jM4teDgn",
        "outputId": "38ef29db-a341-4115-be9a-32ca0f8396df"
      },
      "execution_count": 78,
      "outputs": [
        {
          "output_type": "execute_result",
          "data": {
            "text/plain": [
              "True"
            ]
          },
          "metadata": {},
          "execution_count": 78
        }
      ]
    },
    {
      "cell_type": "code",
      "source": [
        "## Inequality\n",
        "t1 = res_1 > res_2\n",
        "t2 = res_1 < res_2/2\n",
        "t3 = res_1 >= res_2/2\n",
        "t4 = res_1 <= res_2\n",
        "t2"
      ],
      "metadata": {
        "colab": {
          "base_uri": "https://localhost:8080/"
        },
        "id": "_QAAeLPgeO3u",
        "outputId": "0f8768ac-acdc-4ad1-da0a-f9b856443bf4"
      },
      "execution_count": 79,
      "outputs": [
        {
          "output_type": "execute_result",
          "data": {
            "text/plain": [
              "False"
            ]
          },
          "metadata": {},
          "execution_count": 79
        }
      ]
    },
    {
      "cell_type": "markdown",
      "source": [
        "### Logical"
      ],
      "metadata": {
        "id": "FOsuHTMBerq3"
      }
    },
    {
      "cell_type": "code",
      "source": [
        "res_1 == true_val"
      ],
      "metadata": {
        "colab": {
          "base_uri": "https://localhost:8080/"
        },
        "id": "slD61hRreuxS",
        "outputId": "d63f21b1-b0a7-4a71-c23a-99c6901a0994"
      },
      "execution_count": 80,
      "outputs": [
        {
          "output_type": "execute_result",
          "data": {
            "text/plain": [
              "True"
            ]
          },
          "metadata": {},
          "execution_count": 80
        }
      ]
    },
    {
      "cell_type": "code",
      "source": [
        "res_1 is true_val"
      ],
      "metadata": {
        "colab": {
          "base_uri": "https://localhost:8080/"
        },
        "id": "EPTEew92ex1Z",
        "outputId": "f69c3437-782b-44be-aada-1bd29c8a5f2e"
      },
      "execution_count": 81,
      "outputs": [
        {
          "output_type": "execute_result",
          "data": {
            "text/plain": [
              "False"
            ]
          },
          "metadata": {},
          "execution_count": 81
        }
      ]
    },
    {
      "cell_type": "code",
      "source": [
        "res_1 is not true_val"
      ],
      "metadata": {
        "colab": {
          "base_uri": "https://localhost:8080/"
        },
        "id": "xEHCrukZe1ir",
        "outputId": "db44fc18-88f4-4436-a20a-44b6e988e555"
      },
      "execution_count": 82,
      "outputs": [
        {
          "output_type": "execute_result",
          "data": {
            "text/plain": [
              "True"
            ]
          },
          "metadata": {},
          "execution_count": 82
        }
      ]
    },
    {
      "cell_type": "code",
      "source": [
        "s, t = True, False\n",
        "conj = s and t\n",
        "conj"
      ],
      "metadata": {
        "colab": {
          "base_uri": "https://localhost:8080/"
        },
        "id": "uiJtR9WLe5fw",
        "outputId": "b30f19e8-dbde-4b68-efe1-092166ee2aee"
      },
      "execution_count": 83,
      "outputs": [
        {
          "output_type": "execute_result",
          "data": {
            "text/plain": [
              "False"
            ]
          },
          "metadata": {},
          "execution_count": 83
        }
      ]
    },
    {
      "cell_type": "code",
      "source": [
        "s, t = True, False\n",
        "disj = s or t\n",
        "disj"
      ],
      "metadata": {
        "colab": {
          "base_uri": "https://localhost:8080/"
        },
        "id": "yacTny76fHA_",
        "outputId": "b44e9975-16c3-4a3e-b304-3a2edb5414f2"
      },
      "execution_count": 84,
      "outputs": [
        {
          "output_type": "execute_result",
          "data": {
            "text/plain": [
              "True"
            ]
          },
          "metadata": {},
          "execution_count": 84
        }
      ]
    },
    {
      "cell_type": "code",
      "source": [
        "s, t = True, False\n",
        "nond = not(s and t)\n",
        "nond"
      ],
      "metadata": {
        "colab": {
          "base_uri": "https://localhost:8080/"
        },
        "id": "p8brQY3ZfNx6",
        "outputId": "9dab44d6-70fa-4634-d4fd-4da52438f331"
      },
      "execution_count": 85,
      "outputs": [
        {
          "output_type": "execute_result",
          "data": {
            "text/plain": [
              "True"
            ]
          },
          "metadata": {},
          "execution_count": 85
        }
      ]
    },
    {
      "cell_type": "code",
      "source": [
        "s, t = True, False\n",
        "naan = (not s and t) or (s and not t)\n",
        "naan"
      ],
      "metadata": {
        "colab": {
          "base_uri": "https://localhost:8080/"
        },
        "id": "JX106Ug5fWWU",
        "outputId": "a6bfd808-6544-46b0-916d-dd75754a8ae9"
      },
      "execution_count": 86,
      "outputs": [
        {
          "output_type": "execute_result",
          "data": {
            "text/plain": [
              "True"
            ]
          },
          "metadata": {},
          "execution_count": 86
        }
      ]
    },
    {
      "cell_type": "markdown",
      "source": [
        "### I/O"
      ],
      "metadata": {
        "id": "6LxIMUB6PAb9"
      }
    },
    {
      "cell_type": "code",
      "source": [
        "print(\"auq na\")"
      ],
      "metadata": {
        "colab": {
          "base_uri": "https://localhost:8080/"
        },
        "id": "KTEAh3R1PC5t",
        "outputId": "0a1c0880-da1c-4730-ddc1-eb5025e33ff7"
      },
      "execution_count": 87,
      "outputs": [
        {
          "output_type": "stream",
          "name": "stdout",
          "text": [
            "auq na\n"
          ]
        }
      ]
    },
    {
      "cell_type": "code",
      "source": [
        "cnt = 1"
      ],
      "metadata": {
        "id": "n0UZsJ8pPMa_"
      },
      "execution_count": 88,
      "outputs": []
    },
    {
      "cell_type": "code",
      "source": [
        "string = \"auq na\"\n",
        "print(string, \", Current run count is:\", cnt)\n",
        "cnt +=1"
      ],
      "metadata": {
        "colab": {
          "base_uri": "https://localhost:8080/"
        },
        "id": "YtY2fFxFPZMG",
        "outputId": "3cdb484f-402a-4dd7-be48-1f2e34ac826d"
      },
      "execution_count": 89,
      "outputs": [
        {
          "output_type": "stream",
          "name": "stdout",
          "text": [
            "auq na , Current run count is: 1\n"
          ]
        }
      ]
    },
    {
      "cell_type": "code",
      "source": [
        "print(f\"{string}, Current count is:{cnt}\")"
      ],
      "metadata": {
        "id": "Sb3dTAOZPsQJ",
        "colab": {
          "base_uri": "https://localhost:8080/"
        },
        "outputId": "d1c41560-2a99-47a3-b0d1-4786c741dfae"
      },
      "execution_count": 90,
      "outputs": [
        {
          "output_type": "stream",
          "name": "stdout",
          "text": [
            "auq na, Current count is:2\n"
          ]
        }
      ]
    },
    {
      "cell_type": "code",
      "source": [
        "sem_grade = 3.0\n",
        "name = \"Mikasa\"\n",
        "print(\"auq na, {}. your semestral grade is: {}\".format(name,sem_grade))"
      ],
      "metadata": {
        "colab": {
          "base_uri": "https://localhost:8080/"
        },
        "id": "NGdjqEDwgQJl",
        "outputId": "336ea685-10da-4957-9444-16b7da1f93c6"
      },
      "execution_count": 91,
      "outputs": [
        {
          "output_type": "stream",
          "name": "stdout",
          "text": [
            "auq na, Mikasa. your semestral grade is: 3.0\n"
          ]
        }
      ]
    },
    {
      "cell_type": "code",
      "source": [
        "w_pg, w_mg, w_fg = 0.3, 0.3, 0.4\n",
        "print(\"The weights of your semestral grades are:\\\n",
        "\\n\\t{:.2%} for Prelims\\\n",
        "\\n\\t{:.2%} for Midterms, and\\\n",
        "\\n\\t{:.2%} for Finals.\" .format(w_pg, w_mg, w_fg))"
      ],
      "metadata": {
        "colab": {
          "base_uri": "https://localhost:8080/"
        },
        "id": "d8emycQ4_Pl2",
        "outputId": "a32133f3-9acd-4d3c-f7b0-b319bb7a3987"
      },
      "execution_count": 92,
      "outputs": [
        {
          "output_type": "stream",
          "name": "stdout",
          "text": [
            "The weights of your semestral grades are:\n",
            "\t30.00% for Prelims\n",
            "\t30.00% for Midterms, and\n",
            "\t40.00% for Finals.\n"
          ]
        }
      ]
    },
    {
      "cell_type": "code",
      "source": [
        "x = input(\"enter a number:\")\n",
        "x"
      ],
      "metadata": {
        "colab": {
          "base_uri": "https://localhost:8080/",
          "height": 53
        },
        "id": "U5G4etONC7VH",
        "outputId": "94a9e14c-ff77-4684-8f03-781a5cff0095"
      },
      "execution_count": 93,
      "outputs": [
        {
          "name": "stdout",
          "output_type": "stream",
          "text": [
            "enter a number:9\n"
          ]
        },
        {
          "output_type": "execute_result",
          "data": {
            "application/vnd.google.colaboratory.intrinsic+json": {
              "type": "string"
            },
            "text/plain": [
              "'9'"
            ]
          },
          "metadata": {},
          "execution_count": 93
        }
      ]
    },
    {
      "cell_type": "code",
      "source": [
        "name = input(\"Your name:\")\n",
        "pg = input(\"Enter prelim grade:\")\n",
        "mg = input(\"Enter midterm grade:\")\n",
        "fg = input(\"Enter finals grade:\")\n",
        "sem_grade = 99\n",
        "print(\"Hello {}, your semestral grade is: {}\".format(name, sem_grade))"
      ],
      "metadata": {
        "colab": {
          "base_uri": "https://localhost:8080/"
        },
        "id": "2qG4aQnuDXxO",
        "outputId": "45c24d89-3317-4c6e-b12e-9bf9058706a0"
      },
      "execution_count": 94,
      "outputs": [
        {
          "output_type": "stream",
          "name": "stdout",
          "text": [
            "Your name:k\n",
            "Enter prelim grade:90\n",
            "Enter midterm grade:89\n",
            "Enter finals grade:91\n",
            "Hello k, your semestral grade is: 99\n"
          ]
        }
      ]
    },
    {
      "cell_type": "markdown",
      "source": [
        "# Looping Statements"
      ],
      "metadata": {
        "id": "0b71GgcQFEYF"
      }
    },
    {
      "cell_type": "markdown",
      "source": [
        "Loop is a sequence of instructions that are used for repeatable execution until the assigned condition is satisfied. The students used two different types of loops which are for and while."
      ],
      "metadata": {
        "id": "pgA7XwIynOZm"
      }
    },
    {
      "cell_type": "markdown",
      "source": [
        "## While"
      ],
      "metadata": {
        "id": "XrfwBOeiFKK1"
      }
    },
    {
      "cell_type": "code",
      "source": [
        "## while loops\n",
        "i, j = 0, 10\n",
        "while(i<=j):\n",
        "  print(f\"{i}\\t|\\t{j}\")\n",
        "  i+=1"
      ],
      "metadata": {
        "colab": {
          "base_uri": "https://localhost:8080/"
        },
        "id": "ykLp_gKOFNWe",
        "outputId": "0fed2285-d4b9-42bd-edf7-630c5ef85ce5"
      },
      "execution_count": 95,
      "outputs": [
        {
          "output_type": "stream",
          "name": "stdout",
          "text": [
            "0\t|\t10\n",
            "1\t|\t10\n",
            "2\t|\t10\n",
            "3\t|\t10\n",
            "4\t|\t10\n",
            "5\t|\t10\n",
            "6\t|\t10\n",
            "7\t|\t10\n",
            "8\t|\t10\n",
            "9\t|\t10\n",
            "10\t|\t10\n"
          ]
        }
      ]
    },
    {
      "cell_type": "markdown",
      "source": [
        "## For"
      ],
      "metadata": {
        "id": "MW3hpRKdFsIX"
      }
    },
    {
      "cell_type": "code",
      "source": [
        "# for(int i=0; i<10; i++){\n",
        "# printf(i)\n",
        "# }\n",
        "\n",
        "i=0\n",
        "for i in range(11):\n",
        "      print(i)"
      ],
      "metadata": {
        "colab": {
          "base_uri": "https://localhost:8080/"
        },
        "id": "BTfsaZuQFuv9",
        "outputId": "33a48da4-b7c5-4a4c-d98b-be06b3f92f5c"
      },
      "execution_count": 96,
      "outputs": [
        {
          "output_type": "stream",
          "name": "stdout",
          "text": [
            "0\n",
            "1\n",
            "2\n",
            "3\n",
            "4\n",
            "5\n",
            "6\n",
            "7\n",
            "8\n",
            "9\n",
            "10\n"
          ]
        }
      ]
    },
    {
      "cell_type": "code",
      "source": [
        "playlist = [\"Bakit nga ba mahal kita\", \"Let me be the one\"]\n",
        "print('Now Playing:\\n')\n",
        "for song in playlist:\n",
        "    print(song)"
      ],
      "metadata": {
        "colab": {
          "base_uri": "https://localhost:8080/"
        },
        "id": "hok1VbcKHgqS",
        "outputId": "d6b3e974-6bbd-4b79-ac8f-54a2db4971d1"
      },
      "execution_count": 97,
      "outputs": [
        {
          "output_type": "stream",
          "name": "stdout",
          "text": [
            "Now Playing:\n",
            "\n",
            "Bakit nga ba mahal kita\n",
            "Let me be the one\n"
          ]
        }
      ]
    },
    {
      "cell_type": "markdown",
      "source": [
        "# Flow Control"
      ],
      "metadata": {
        "id": "LMWSa0dFILs6"
      }
    },
    {
      "cell_type": "markdown",
      "source": [
        "Flow Control is defined as the sequence in which statements in a script are executed by the computer and this is directed with conditional statements, loops, and function calls."
      ],
      "metadata": {
        "id": "Im9qB4MQnafy"
      }
    },
    {
      "cell_type": "markdown",
      "source": [
        "## Condition Statements"
      ],
      "metadata": {
        "id": "zlbiMQvnIQun"
      }
    },
    {
      "cell_type": "code",
      "source": [
        "numeral1, numeral2 = 13, 14\n",
        "if(numeral1 == numeral2):\n",
        "    print(\"Ahh ge\")\n",
        "elif(numeral1>numeral2):\n",
        "    print(\"Nays\")\n",
        "else:\n",
        "    print(\"Loh\")"
      ],
      "metadata": {
        "colab": {
          "base_uri": "https://localhost:8080/"
        },
        "id": "aZ8l5vsHIZ9W",
        "outputId": "84c1962a-ee5a-469c-d569-2aab85d56dc3"
      },
      "execution_count": 98,
      "outputs": [
        {
          "output_type": "stream",
          "name": "stdout",
          "text": [
            "Loh\n"
          ]
        }
      ]
    },
    {
      "cell_type": "markdown",
      "source": [
        "## Functions"
      ],
      "metadata": {
        "id": "tnbiZJsrJH7Y"
      }
    },
    {
      "cell_type": "code",
      "source": [
        "# void DeleteUser (int userid){\n",
        "#     delete(userid);\n",
        "# }\n",
        "\n",
        "def delete_user (userid):\n",
        "    print(\"Successfully deleted user: {}\" .format(userid))\n",
        "\n",
        "def delete_all_users ():\n",
        "    print(\"Successfully deleted all users\")"
      ],
      "metadata": {
        "id": "IYxD-Y59JKvu"
      },
      "execution_count": 99,
      "outputs": []
    },
    {
      "cell_type": "code",
      "source": [
        "userid = 201912333\n",
        "delete_user(201912333)\n",
        "delete_all_users()"
      ],
      "metadata": {
        "colab": {
          "base_uri": "https://localhost:8080/"
        },
        "id": "p96rrp7dKZ8N",
        "outputId": "ab7af3ad-99b9-4240-c049-3e0cb5655c9f"
      },
      "execution_count": 100,
      "outputs": [
        {
          "output_type": "stream",
          "name": "stdout",
          "text": [
            "Successfully deleted user: 201912333\n",
            "Successfully deleted all users\n"
          ]
        }
      ]
    },
    {
      "cell_type": "code",
      "source": [
        "def add(addend1, addend2):\n",
        "    print(\"Kaya ko wag ka desisyon\")\n",
        "    return addend1 + addend2\n",
        "\n",
        "def power_of_base2(exponent):\n",
        "    return 2**exponent\n",
        "\n",
        "addend1 = 6\n",
        "addend2 = 4\n",
        "\n",
        "exponent = 6\n",
        "\n",
        "add(addend1, addend2)\n",
        "power_of_base2(exponent)"
      ],
      "metadata": {
        "colab": {
          "base_uri": "https://localhost:8080/"
        },
        "id": "jpNTNYXrKirh",
        "outputId": "ffd9b76a-190f-47df-994f-65feefe31d5b"
      },
      "execution_count": 101,
      "outputs": [
        {
          "output_type": "stream",
          "name": "stdout",
          "text": [
            "Kaya ko wag ka desisyon\n"
          ]
        },
        {
          "output_type": "execute_result",
          "data": {
            "text/plain": [
              "64"
            ]
          },
          "metadata": {},
          "execution_count": 101
        }
      ]
    },
    {
      "cell_type": "code",
      "source": [
        "add(addend1, addend2)"
      ],
      "metadata": {
        "colab": {
          "base_uri": "https://localhost:8080/"
        },
        "id": "ovGlf7CpNqwo",
        "outputId": "450df703-b03e-45a9-82de-085c6d0c1682"
      },
      "execution_count": 102,
      "outputs": [
        {
          "output_type": "stream",
          "name": "stdout",
          "text": [
            "Kaya ko wag ka desisyon\n"
          ]
        },
        {
          "output_type": "execute_result",
          "data": {
            "text/plain": [
              "10"
            ]
          },
          "metadata": {},
          "execution_count": 102
        }
      ]
    },
    {
      "cell_type": "markdown",
      "source": [
        "### Lambda Functions"
      ],
      "metadata": {
        "id": "QcJMfEuUhgGY"
      }
    },
    {
      "cell_type": "code",
      "source": [
        "d = 5"
      ],
      "metadata": {
        "id": "qBvBgtlXhj1p"
      },
      "execution_count": 103,
      "outputs": []
    },
    {
      "cell_type": "code",
      "source": [
        "def f(d):\n",
        "  return 2*(d*d)-1\n",
        "f(d)"
      ],
      "metadata": {
        "colab": {
          "base_uri": "https://localhost:8080/"
        },
        "id": "PAF6rZxDhmwV",
        "outputId": "338628ed-8511-4350-e662-32f67d2ce4ce"
      },
      "execution_count": 104,
      "outputs": [
        {
          "output_type": "execute_result",
          "data": {
            "text/plain": [
              "49"
            ]
          },
          "metadata": {},
          "execution_count": 104
        }
      ]
    },
    {
      "cell_type": "code",
      "source": [
        "v = lambda d: 2*(d*d)-1\n",
        "print(v(d))"
      ],
      "metadata": {
        "colab": {
          "base_uri": "https://localhost:8080/"
        },
        "id": "hjKJAiwKh5R4",
        "outputId": "112d1bfc-8fb9-4309-bfb6-9ae77bcad783"
      },
      "execution_count": 105,
      "outputs": [
        {
          "output_type": "stream",
          "name": "stdout",
          "text": [
            "49\n"
          ]
        }
      ]
    },
    {
      "cell_type": "markdown",
      "source": [
        "# Calculator"
      ],
      "metadata": {
        "id": "qJ4LULYYiZc4"
      }
    },
    {
      "cell_type": "markdown",
      "source": [
        "This program is created for calculating the semestral grade of a student wherein different methods were utilized in the codes; the name, course, and grades for preliminary, midterm, and final terms were being input. Then as a result or output, the semestral grade is calculated following the emoji assigned to that certain grade bracket.\n"
      ],
      "metadata": {
        "id": "E8hbt0TVic3F"
      }
    },
    {
      "cell_type": "code",
      "source": [
        "print()\n",
        "name = input('\\tonis ka?: ');\n",
        "course = input('\\tnu course mo bhie?: ');\n",
        "prelim = float(input('\\tPrelim grade: '));\n",
        "midterm = float(input('\\tMidterm grade: '));\n",
        "final = float(input('\\tFinal grade: '));\n",
        "sem_grade = (prelim*0.30) + (midterm*0.30) + (final*0.40);\n",
        "\n",
        "sem_grade = \"{:.2f}\".format(sem_grade)\n",
        "print();\n",
        "print(\"\\tCHARAAAN!\");\n",
        "print();\n",
        "print(\"\\tName:\", name, \"\\tCourse:\", course);\n",
        "if float(sem_grade) > 70.00:\n",
        "  print(\"\\tGrade: \", sem_grade, \"\\U0001F600\");\n",
        "elif float(sem_grade) == 70:\n",
        "  print(\"\\tGrade: \", sem_grade, \"\\U0001F606\");\n",
        "elif float(sem_grade) < 70:\n",
        "  print(\"\\tGrade: \", sem_grade, \"\\U0001F62D\");\n",
        "  print();\n"
      ],
      "metadata": {
        "colab": {
          "base_uri": "https://localhost:8080/"
        },
        "id": "lhDxp8fSigxC",
        "outputId": "3106d892-df12-4b37-d6a1-7d9d2f31528d"
      },
      "execution_count": 55,
      "outputs": [
        {
          "output_type": "stream",
          "name": "stdout",
          "text": [
            "\n",
            "\tonis ka?: k\n",
            "\tnu course mo bhie?: ChE\n",
            "\tPrelim grade: 78\n",
            "\tMidterm grade: 85\n",
            "\tFinal grade: 90\n",
            "\n",
            "\tCHARAAAN!\n",
            "\n",
            "\tName: k \tCourse: ChE\n",
            "\tGrade:  84.90 😀\n"
          ]
        }
      ]
    }
  ]
}