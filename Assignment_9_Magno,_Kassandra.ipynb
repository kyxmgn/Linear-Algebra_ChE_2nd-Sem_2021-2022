{
  "nbformat": 4,
  "nbformat_minor": 0,
  "metadata": {
    "colab": {
      "name": "Assignment 9 - Magno, Kassandra",
      "provenance": [],
      "include_colab_link": true
    },
    "kernelspec": {
      "name": "python3",
      "display_name": "Python 3"
    },
    "language_info": {
      "name": "python"
    }
  },
  "cells": [
    {
      "cell_type": "markdown",
      "metadata": {
        "id": "view-in-github",
        "colab_type": "text"
      },
      "source": [
        "<a href=\"https://colab.research.google.com/github/kyxmgn/Linear-Algebra_ChE_2nd-Sem_2021-2022/blob/main/Assignment_9_Magno%2C_Kassandra.ipynb\" target=\"_parent\"><img src=\"https://colab.research.google.com/assets/colab-badge.svg\" alt=\"Open In Colab\"/></a>"
      ]
    },
    {
      "cell_type": "markdown",
      "source": [
        "# Lab 2 - Plotting Vector using NumPy and MatPlotLib"
      ],
      "metadata": {
        "id": "SFS_CVoQkX40"
      }
    },
    {
      "cell_type": "markdown",
      "source": [
        "In this laboratory we will be discussing the basics of numerical and scientific programming by working with Vectors using NumPy and MatPlotLib."
      ],
      "metadata": {
        "id": "5vnHBUknkVjK"
      }
    },
    {
      "cell_type": "markdown",
      "source": [
        "At the end of this activity you will be able to:\n",
        "1. Be familiar with the libraries in Python for numerical and scientific programming.\n",
        "2. Visualize vectors through Python programming.\n",
        "3. Perform simple vector operations through code."
      ],
      "metadata": {
        "id": "JFLZn71skdxv"
      }
    },
    {
      "cell_type": "markdown",
      "source": [
        "## Discussion"
      ],
      "metadata": {
        "id": "NAL5Oyg5m67Q"
      }
    },
    {
      "cell_type": "markdown",
      "source": [
        "### Numpy or Numerical Python"
      ],
      "metadata": {
        "id": "C7i_IqQ5nnNu"
      }
    },
    {
      "cell_type": "markdown",
      "source": [
        "It is a library that contains multidimensional array objects and algorithms for processing those arrays. NumPy allows you to conduct mathematical and logical operations on arrays. Also, it intends to deliver a 50-fold quicker array object than ordinary Python lists. This is usually applied on matrix and vector operations. \n",
        "\n",
        "There are measurable quantities that are specified into two categories, the scalar and vector quantities. Scalar quantity is known as a physical quantity whose magnitude completely describes it whereas vector quantity has both magnitude and direction."
      ],
      "metadata": {
        "id": "shtDDJY4no8z"
      }
    },
    {
      "cell_type": "markdown",
      "source": [
        "### Representing Vectors"
      ],
      "metadata": {
        "id": "u4PqRn00pby7"
      }
    },
    {
      "cell_type": "markdown",
      "source": [
        "Now that you know how to represent vectors using their component and matrix form we can now hard-code them in Python. Let's say that you have the vectors:"
      ],
      "metadata": {
        "id": "j4q7w-4cpfq_"
      }
    },
    {
      "cell_type": "markdown",
      "source": [
        "$$ A = 3\\hat{x} + 2\\hat{y} \\\\\n",
        "B = 7\\hat{x} - 4\\hat{y}\\\\\n",
        "C = 6ax + 8ay - 2az \\\\\n",
        "D = 4\\hat{i} - 4\\hat{j} + 9\\hat{k}$$"
      ],
      "metadata": {
        "id": "EioneFaNqSYL"
      }
    },
    {
      "cell_type": "markdown",
      "source": [
        "In which its matrix equivalent is:"
      ],
      "metadata": {
        "id": "WEmZGDmZqXm6"
      }
    },
    {
      "cell_type": "markdown",
      "source": [
        "$$ A = \\begin{bmatrix} 3 \\\\ 2\\end{bmatrix} , B = \\begin{bmatrix} 7 \\\\ -4\\end{bmatrix} , C = \\begin{bmatrix} 6 \\\\ 8 \\\\  -2 \\end{bmatrix}, D = \\begin{bmatrix} 4 \\\\ -4 \\\\ 9\\end{bmatrix}\n",
        "$$\n",
        "$$ A = \\begin{bmatrix} 3 & 2\\end{bmatrix} , B = \\begin{bmatrix} 7 & -4\\end{bmatrix} , C = \\begin{bmatrix} 6 & 8 & -2\\end{bmatrix} , D = \\begin{bmatrix} 4 & -4 & 9\\end{bmatrix} \n",
        "$$"
      ],
      "metadata": {
        "id": "2fS0_xUWqrfz"
      }
    },
    {
      "cell_type": "markdown",
      "source": [
        "We can then start doing numpy code with this by:"
      ],
      "metadata": {
        "id": "O0XRaRgnsaSF"
      }
    },
    {
      "cell_type": "code",
      "source": [
        "## Importing necessary libraries\n",
        "import numpy as np ## 'np' here is short-hand name of the library (numpy) or a nickname."
      ],
      "metadata": {
        "id": "QLplMJ5Osihb"
      },
      "execution_count": null,
      "outputs": []
    },
    {
      "cell_type": "code",
      "source": [
        "A = np.array([3, 2])\n",
        "B = np.array([7, 4])\n",
        "C = np.array([\n",
        "              [6],\n",
        "              [8],\n",
        "              [-2]\n",
        "])\n",
        "D = np.array ([[4],\n",
        "              [-4],\n",
        "              [9]])\n",
        "print('Vector A: ', A)\n",
        "print('Vector B: ', B)\n",
        "print('Vector C: ', C)\n",
        "print('Vector D: ', D)"
      ],
      "metadata": {
        "colab": {
          "base_uri": "https://localhost:8080/"
        },
        "id": "T_e1gvqys2E1",
        "outputId": "0c421670-c31f-4419-b60a-4e7e98a2bd1a"
      },
      "execution_count": null,
      "outputs": [
        {
          "output_type": "stream",
          "name": "stdout",
          "text": [
            "Vector A:  [3 2]\n",
            "Vector B:  [7 4]\n",
            "Vector C:  [[ 6]\n",
            " [ 8]\n",
            " [-2]]\n",
            "Vector D:  [[ 4]\n",
            " [-4]\n",
            " [ 9]]\n"
          ]
        }
      ]
    },
    {
      "cell_type": "markdown",
      "source": [
        "### Describing vectors in Numpy"
      ],
      "metadata": {
        "id": "gx4qjVeztlBP"
      }
    },
    {
      "cell_type": "markdown",
      "source": [
        "If we wish to execute basic to complex operations using vectors, we must first define them. Knowing the shape, size, and dimensions of vectors are the most basic ways to describe them."
      ],
      "metadata": {
        "id": "lnwc93B5toIk"
      }
    },
    {
      "cell_type": "code",
      "source": [
        "### Checking shapes\n",
        "### Shapes tells us how many elements are there on each row and column\n",
        "\n",
        "A.shape\n"
      ],
      "metadata": {
        "colab": {
          "base_uri": "https://localhost:8080/"
        },
        "id": "nhASonsSt1SZ",
        "outputId": "a19ea749-05c2-4575-a4f8-32aad7445aff"
      },
      "execution_count": null,
      "outputs": [
        {
          "output_type": "execute_result",
          "data": {
            "text/plain": [
              "(2,)"
            ]
          },
          "metadata": {},
          "execution_count": 4
        }
      ]
    },
    {
      "cell_type": "code",
      "source": [
        "H = np.array([3, 5, 1, 8, -0.8, 0])\n",
        "H.shape\n"
      ],
      "metadata": {
        "colab": {
          "base_uri": "https://localhost:8080/"
        },
        "id": "_yO24B0BYF1j",
        "outputId": "35afaeaa-a249-4733-cae1-707b43c49310"
      },
      "execution_count": null,
      "outputs": [
        {
          "output_type": "execute_result",
          "data": {
            "text/plain": [
              "(6,)"
            ]
          },
          "metadata": {},
          "execution_count": 5
        }
      ]
    },
    {
      "cell_type": "code",
      "source": [
        "C.shape"
      ],
      "metadata": {
        "colab": {
          "base_uri": "https://localhost:8080/"
        },
        "id": "eiYVhHCxYHWD",
        "outputId": "c783fad3-6fbd-473d-f583-db3ebdb8e47a"
      },
      "execution_count": null,
      "outputs": [
        {
          "output_type": "execute_result",
          "data": {
            "text/plain": [
              "(3, 1)"
            ]
          },
          "metadata": {},
          "execution_count": 6
        }
      ]
    },
    {
      "cell_type": "code",
      "source": [
        "### Checking size\n",
        "### Array/Vector sizes tells us many total number of elements are there in the vector\n",
        "\n",
        "D.size"
      ],
      "metadata": {
        "colab": {
          "base_uri": "https://localhost:8080/"
        },
        "id": "xECWrFWguBS9",
        "outputId": "d61f7ea0-1bc3-4f06-904b-dba3539efee9"
      },
      "execution_count": null,
      "outputs": [
        {
          "output_type": "execute_result",
          "data": {
            "text/plain": [
              "3"
            ]
          },
          "metadata": {},
          "execution_count": 7
        }
      ]
    },
    {
      "cell_type": "code",
      "source": [
        "### Checking dimensions\n",
        "### The dimensions or rank of a vector tells us how many dimensions are there for the vector.\n",
        "\n",
        "D.ndim"
      ],
      "metadata": {
        "colab": {
          "base_uri": "https://localhost:8080/"
        },
        "id": "aOEkhsSBuETA",
        "outputId": "fba9d816-7531-4f0a-8674-781657eea0c4"
      },
      "execution_count": null,
      "outputs": [
        {
          "output_type": "execute_result",
          "data": {
            "text/plain": [
              "2"
            ]
          },
          "metadata": {},
          "execution_count": 8
        }
      ]
    },
    {
      "cell_type": "markdown",
      "source": [
        "Great! Now let's try to explore in performing operations with these vectors."
      ],
      "metadata": {
        "id": "6wlmWFUNvMQq"
      }
    },
    {
      "cell_type": "markdown",
      "source": [
        "### Addition"
      ],
      "metadata": {
        "id": "rFAhfDxbvR_0"
      }
    },
    {
      "cell_type": "markdown",
      "source": [
        "The addition rule is simple, the we just need to add the elements of the matrices according to their index. So in this case if we add vector $A$ and vector $B$ we will have a resulting vector:"
      ],
      "metadata": {
        "id": "EFx7Ajw5vT7t"
      }
    },
    {
      "cell_type": "markdown",
      "source": [
        "$$R = 3\\hat{x}-9\\hat{y} \\\\ \\\\or \\\\ \\\\ R = \\begin{bmatrix} 3 \\\\ -9\\end{bmatrix} $$"
      ],
      "metadata": {
        "id": "H2fn7riGvYzI"
      }
    },
    {
      "cell_type": "markdown",
      "source": [
        "So let's try to do that in NumPy in several number of ways:"
      ],
      "metadata": {
        "id": "B0I6aaKzvgnR"
      }
    },
    {
      "cell_type": "code",
      "source": [
        "R = np.add(A, B) ## this is the functional method usisng the numpy library\n",
        "P = np.add(C, D)\n"
      ],
      "metadata": {
        "id": "TWJEtx3YvjFK"
      },
      "execution_count": null,
      "outputs": []
    },
    {
      "cell_type": "code",
      "source": [
        "R = A + B   ## this is the explicit method, since Python does a value-reference so it can \n",
        "            ## know that these variables would need to do array operations.\n",
        "R"
      ],
      "metadata": {
        "colab": {
          "base_uri": "https://localhost:8080/"
        },
        "id": "T483Iuc4vn8q",
        "outputId": "ecdfa0fc-8192-4463-bd36-76f64686fdcf"
      },
      "execution_count": null,
      "outputs": [
        {
          "output_type": "execute_result",
          "data": {
            "text/plain": [
              "array([10,  6])"
            ]
          },
          "metadata": {},
          "execution_count": 8
        }
      ]
    },
    {
      "cell_type": "code",
      "source": [
        "S = np.add(A, B)\n",
        "S"
      ],
      "metadata": {
        "colab": {
          "base_uri": "https://localhost:8080/"
        },
        "id": "eGIogMz4f_Zt",
        "outputId": "3b9afa82-f558-4ae9-a069-80d063021355"
      },
      "execution_count": null,
      "outputs": [
        {
          "output_type": "execute_result",
          "data": {
            "text/plain": [
              "array([10,  6])"
            ]
          },
          "metadata": {},
          "execution_count": 12
        }
      ]
    },
    {
      "cell_type": "code",
      "source": [
        "pos1 = np.array([0,0,0])\n",
        "pos2 = np.array([0,1,2])\n",
        "pos3 = np.array([2,4,6])\n",
        "pos4 = np.array([8,-6,6])\n",
        "P = pos1+ pos2+ pos3+ pos4\n",
        "P"
      ],
      "metadata": {
        "colab": {
          "base_uri": "https://localhost:8080/"
        },
        "id": "WoKGDwL1vt9t",
        "outputId": "99aa8fac-51c4-4473-9b6b-df8cb984ded8"
      },
      "execution_count": null,
      "outputs": [
        {
          "output_type": "execute_result",
          "data": {
            "text/plain": [
              "array([10, -1, 14])"
            ]
          },
          "metadata": {},
          "execution_count": 13
        }
      ]
    },
    {
      "cell_type": "code",
      "source": [
        "R = pos3 / pos4\n",
        "R"
      ],
      "metadata": {
        "colab": {
          "base_uri": "https://localhost:8080/"
        },
        "id": "HOTIuN55e8Wg",
        "outputId": "4b1306f2-f0b4-4459-df42-e9c599288c64"
      },
      "execution_count": null,
      "outputs": [
        {
          "output_type": "execute_result",
          "data": {
            "text/plain": [
              "array([ 0.25      , -0.66666667,  1.        ])"
            ]
          },
          "metadata": {},
          "execution_count": 14
        }
      ]
    },
    {
      "cell_type": "code",
      "source": [
        "Q = np.multiply(pos3, pos4)\n",
        "Q"
      ],
      "metadata": {
        "colab": {
          "base_uri": "https://localhost:8080/"
        },
        "id": "Ued8ef3qfHBz",
        "outputId": "f14aeecf-b621-4f44-d19a-0b400c460bc2"
      },
      "execution_count": null,
      "outputs": [
        {
          "output_type": "execute_result",
          "data": {
            "text/plain": [
              "array([ 16, -24,  36])"
            ]
          },
          "metadata": {},
          "execution_count": 11
        }
      ]
    },
    {
      "cell_type": "markdown",
      "source": [
        "Try for yourself!"
      ],
      "metadata": {
        "id": "aGl3kDxJzzIa"
      }
    },
    {
      "cell_type": "markdown",
      "source": [
        "Try to implement subtraction, multiplication, and division with vectors $A$ and $B$!"
      ],
      "metadata": {
        "id": "auVV75HM0IQ3"
      }
    },
    {
      "cell_type": "code",
      "source": [
        "### Try your code here!"
      ],
      "metadata": {
        "id": "7SWW8i110n1V"
      },
      "execution_count": null,
      "outputs": []
    },
    {
      "cell_type": "code",
      "source": [
        "Q = np.subtract(A,B)\n",
        "Q = B-A\n",
        "Q"
      ],
      "metadata": {
        "colab": {
          "base_uri": "https://localhost:8080/"
        },
        "id": "avsl9PWE1FFl",
        "outputId": "54ff74d6-f7ff-4e7f-98ba-cda7dabd1f76"
      },
      "execution_count": null,
      "outputs": [
        {
          "output_type": "execute_result",
          "data": {
            "text/plain": [
              "array([4, 2])"
            ]
          },
          "metadata": {},
          "execution_count": 15
        }
      ]
    },
    {
      "cell_type": "code",
      "source": [
        "T = np.multiply (A,B)\n",
        "T"
      ],
      "metadata": {
        "colab": {
          "base_uri": "https://localhost:8080/"
        },
        "id": "C579JVqO3gUQ",
        "outputId": "5de72d5a-421b-4eb0-c3c0-798af3a5b9d7"
      },
      "execution_count": null,
      "outputs": [
        {
          "output_type": "execute_result",
          "data": {
            "text/plain": [
              "array([21,  8])"
            ]
          },
          "metadata": {},
          "execution_count": 16
        }
      ]
    },
    {
      "cell_type": "code",
      "source": [
        "W = B*A\n",
        "W"
      ],
      "metadata": {
        "colab": {
          "base_uri": "https://localhost:8080/"
        },
        "id": "hg4j-maAiO__",
        "outputId": "3ea689a8-112e-4c5c-f2ab-99271b64df18"
      },
      "execution_count": null,
      "outputs": [
        {
          "output_type": "execute_result",
          "data": {
            "text/plain": [
              "array([21,  8])"
            ]
          },
          "metadata": {},
          "execution_count": 17
        }
      ]
    },
    {
      "cell_type": "code",
      "source": [
        "V = np.divide(A,B)\n",
        "V = B/A\n",
        "V"
      ],
      "metadata": {
        "colab": {
          "base_uri": "https://localhost:8080/"
        },
        "id": "vWYAGrbE3u6R",
        "outputId": "c1285c56-27a7-4f0b-e10f-3b0976e162cb"
      },
      "execution_count": null,
      "outputs": [
        {
          "output_type": "execute_result",
          "data": {
            "text/plain": [
              "array([2.33333333, 2.        ])"
            ]
          },
          "metadata": {},
          "execution_count": 14
        }
      ]
    },
    {
      "cell_type": "markdown",
      "source": [
        "### Scaling"
      ],
      "metadata": {
        "id": "1A2jz7ep7mej"
      }
    },
    {
      "cell_type": "markdown",
      "source": [
        "A scalar multiplied to a vector is called scaling or scalar multiplication. There should be a scalar multiplied to each element of the vector. However, when a scalar is multiplied to a vector, the result is still called a vector."
      ],
      "metadata": {
        "id": "A8kilHSo7oTg"
      }
    },
    {
      "cell_type": "markdown",
      "source": [
        "$$S = 5 \\cdot A$$"
      ],
      "metadata": {
        "id": "H7-12jKo7qSl"
      }
    },
    {
      "cell_type": "markdown",
      "source": [
        "We can do this in numpy through:"
      ],
      "metadata": {
        "id": "GmscyTpa7xuw"
      }
    },
    {
      "cell_type": "code",
      "source": [
        "#S = 5 * A\n",
        "S = np.multiply(5,A)\n",
        "S"
      ],
      "metadata": {
        "colab": {
          "base_uri": "https://localhost:8080/"
        },
        "id": "4m3QpGCt71ce",
        "outputId": "c628cf8c-fdce-40bb-a0d7-ef8a6bf396d9"
      },
      "execution_count": null,
      "outputs": [
        {
          "output_type": "execute_result",
          "data": {
            "text/plain": [
              "array([15, 10])"
            ]
          },
          "metadata": {},
          "execution_count": 15
        }
      ]
    },
    {
      "cell_type": "markdown",
      "source": [
        "Try to implement scaling with two vectors."
      ],
      "metadata": {
        "id": "FtlzeXo178Uk"
      }
    },
    {
      "cell_type": "code",
      "source": [
        "W = np.multiply(4,B)\n",
        "W"
      ],
      "metadata": {
        "colab": {
          "base_uri": "https://localhost:8080/"
        },
        "id": "gMnewmvH786r",
        "outputId": "ccbba2ce-3d09-45bf-a8a9-73479956b4c2"
      },
      "execution_count": null,
      "outputs": [
        {
          "output_type": "execute_result",
          "data": {
            "text/plain": [
              "array([28, 16])"
            ]
          },
          "metadata": {},
          "execution_count": 21
        }
      ]
    },
    {
      "cell_type": "code",
      "source": [
        "G = 10*A\n",
        "G"
      ],
      "metadata": {
        "colab": {
          "base_uri": "https://localhost:8080/"
        },
        "id": "IgdG-BsO8Gbu",
        "outputId": "4db3096a-4fea-44f5-b09e-cd88b5258d72"
      },
      "execution_count": null,
      "outputs": [
        {
          "output_type": "execute_result",
          "data": {
            "text/plain": [
              "array([30, 20])"
            ]
          },
          "metadata": {},
          "execution_count": 17
        }
      ]
    },
    {
      "cell_type": "markdown",
      "source": [
        "### MatPlotLib"
      ],
      "metadata": {
        "id": "tuy8I7qIAEgI"
      }
    },
    {
      "cell_type": "markdown",
      "source": [
        "This is a fantastic Python visualization toolkit for 2D array charts.\tAlso, it consists of several plots such as bar, scatter, histogram, or line. It is also Python's take on MATLabs plotting feature. MatPlotLib can be used vastly from graping values to visualizing several dimensions of data."
      ],
      "metadata": {
        "id": "AgiJG3whAHR8"
      }
    },
    {
      "cell_type": "markdown",
      "source": [
        "### Visualizing Data"
      ],
      "metadata": {
        "id": "pMcThWsSAf2K"
      }
    },
    {
      "cell_type": "markdown",
      "source": [
        "Here, solving the vector is not sufficient so visualizing it is a need. It could  be done through the MatPlotLib. Declaring the import is the first step to be done in order to run the codes. "
      ],
      "metadata": {
        "id": "2X4_m_fCAlMU"
      }
    },
    {
      "cell_type": "code",
      "source": [
        "import matplotlib.pyplot as plt\n",
        "import matplotlib\n",
        "%matplotlib inline"
      ],
      "metadata": {
        "id": "5E40jUkOAl_k"
      },
      "execution_count": null,
      "outputs": []
    },
    {
      "cell_type": "markdown",
      "source": [
        "\n",
        "The function plt.scatter() is used to display a scatter plot. A scatter plot is a graph in which each data point is represented by a dot. The Matplotlib module offers a method for producing scatter plots that requires two identical-length arrays, one for the x-axis values and the other for the y-axis values. Additionally, the function plt.grid() is utilized in configuring the grid lines, the plt.legend() is used to put the legend on the axis that will be displayed, and the plt.show() launches an event loop, searches for all active figure objects, and displays your figure or figures in one or more interactive windows.\n"
      ],
      "metadata": {
        "id": "YG6zJa124Dnx"
      }
    },
    {
      "cell_type": "code",
      "source": [
        "A = [1, -3]\n",
        "B = [8, -1]\n",
        "plt.scatter(A[0], A[1], label='A', c='blue')\n",
        "plt.scatter(B[0], B[1], label='B', c='pink')\n",
        "plt.grid()\n",
        "plt.legend()\n",
        "plt.show()"
      ],
      "metadata": {
        "colab": {
          "base_uri": "https://localhost:8080/",
          "height": 265
        },
        "id": "jbLg_R_3BdZk",
        "outputId": "03b5ad64-097f-4276-9ef0-ddc482fca737"
      },
      "execution_count": null,
      "outputs": [
        {
          "output_type": "display_data",
          "data": {
            "text/plain": [
              "<Figure size 432x288 with 1 Axes>"
            ],
            "image/png": "[encoded data removed]"
          },
          "metadata": {
            "needs_background": "light"
          }
        }
      ]
    },
    {
      "cell_type": "markdown",
      "source": [
        "Meanwhile, the function plt.quiver() is used to show a quiver plot. A quiver plot is a sort of two-dimensional diagram that depicts vector lines as arrows. On the figure below, two vectors will be added and through a quiver plot, the resultant will be shown. \n"
      ],
      "metadata": {
        "id": "7et4IX9K4O4s"
      }
    },
    {
      "cell_type": "code",
      "source": [
        "A = np.array([2, -2])\n",
        "B = np.array([3, 8])\n",
        "R = A + B\n",
        "Magnitude = np.sqrt(np.sum(R**2))\n",
        "plt.title(\"Resultant Vector\\nMagnitude:{}\" .format(Magnitude))\n",
        "plt.xlim(-5, 5)\n",
        "plt.ylim(-5, 5)\n",
        "plt.quiver(0, 0, A[0], A[1], angles='xy', scale_units='xy', scale=1, color='violet')\n",
        "plt.quiver(A[0], A[1], B[0], B[1], angles='xy', scale_units='xy', scale=1, color='magenta')\n",
        "plt.quiver(0, 0, R[0], R[1], angles='xy', scale_units='xy', scale=1, color='pink')\n",
        "plt.grid()\n",
        "plt.show()\n",
        "#print(R)\n",
        "\n",
        "Slope = R[1]/R[0]\n",
        "print(Slope)\n",
        "Angle = (np.arctan(Slope))*(180/np.pi)\n",
        "print(Angle)"
      ],
      "metadata": {
        "colab": {
          "base_uri": "https://localhost:8080/",
          "height": 332
        },
        "id": "kV1tqwsHB2uI",
        "outputId": "d2ab135d-f935-4808-cf01-6e706c730786"
      },
      "execution_count": null,
      "outputs": [
        {
          "output_type": "display_data",
          "data": {
            "text/plain": [
              "<Figure size 432x288 with 1 Axes>"
            ],
            "image/png": "[encoded data removed]"
          },
          "metadata": {
            "needs_background": "light"
          }
        },
        {
          "output_type": "stream",
          "name": "stdout",
          "text": [
            "1.2\n",
            "50.19442890773481\n"
          ]
        }
      ]
    },
    {
      "cell_type": "code",
      "source": [
        "n = A.shape[0]\n",
        "plt.xlim(-5, 10)\n",
        "plt.ylim(-5, 10)\n",
        "plt.quiver(0,0, A[0], A[1], angles='xy', scale_units='xy',scale=1)\n",
        "plt.quiver(A[0],A[1], B[0], B[1], angles='xy', scale_units='xy',scale=1)\n",
        "plt.quiver(0,0, R[0], R[1], angles='xy', scale_units='xy',scale=1)\n",
        "plt.show()"
      ],
      "metadata": {
        "colab": {
          "base_uri": "https://localhost:8080/",
          "height": 269
        },
        "id": "mwixlW6OCnaF",
        "outputId": "834066d6-d5a2-4a91-807c-2df1fb2fd254"
      },
      "execution_count": null,
      "outputs": [
        {
          "output_type": "display_data",
          "data": {
            "text/plain": [
              "<Figure size 432x288 with 1 Axes>"
            ],
            "image/png": "[encoded data removed]"
          },
          "metadata": {
            "needs_background": "light"
          }
        }
      ]
    },
    {
      "cell_type": "markdown",
      "source": [
        "Try plotting Three Vectors and show the Resultant Vector as a result.\n",
        "Use Head to Tail Method."
      ],
      "metadata": {
        "id": "F9hV15xo0upb"
      }
    },
    {
      "cell_type": "markdown",
      "source": [
        "There are methods to solve a vector addition problem. One of them is the head-to-tail method wherein it entails drawing the first vector on a graph and then aligning the tails of each subsequent vector with the head of the previous vector. The resultant vector is then traced from the first vector's tail to the last vector's head. Through the function plt.draw(), the vectors declared are redrawn on the current figure or diagram."
      ],
      "metadata": {
        "id": "hGaio2Du4LJ3"
      }
    },
    {
      "cell_type": "code",
      "source": [
        "def draw(x, y): \n",
        "    xPlusy = (abs(x[0]+y[0]),abs(x[1]+y[1]))\n",
        "    array = np.array([[0, 0, x[0], x[1]], \n",
        "                      [x[0], x[1], y[0], y[1]], \n",
        "                      [0, 0, xPlusy[0], xPlusy[1]]])\n",
        "    print(array)\n",
        "    X, Y, U, V = zip(*array)\n",
        "    print(\"X =\",X)\n",
        "    print(\"Y =\",Y)\n",
        "    print(\"U =\",U)\n",
        "    print(\"V =\",V)\n",
        "    plt.figure()\n",
        "    plt.ylabel('Y-axis')\n",
        "    plt.xlabel('X-axis')\n",
        "    ax = plt.gca()\n",
        "    ax.quiver(X, Y, U, V, angles='xy', scale_units='xy',color=['r','b','g'],scale=1)\n",
        "    ax.set_xlim([0, 10])\n",
        "    ax.set_ylim([0, 10])\n",
        "    plt.draw()\n",
        "    plt.show()\n",
        "draw([2,2],[2,6],)"
      ],
      "metadata": {
        "colab": {
          "base_uri": "https://localhost:8080/",
          "height": 411
        },
        "id": "vTiN9TSFDTOy",
        "outputId": "0301de63-957a-4185-8b73-fd2db383be09"
      },
      "execution_count": null,
      "outputs": [
        {
          "output_type": "stream",
          "name": "stdout",
          "text": [
            "[[0 0 2 2]\n",
            " [2 2 2 6]\n",
            " [0 0 4 8]]\n",
            "X = (0, 2, 0)\n",
            "Y = (0, 2, 0)\n",
            "U = (2, 2, 4)\n",
            "V = (2, 6, 8)\n"
          ]
        },
        {
          "output_type": "display_data",
          "data": {
            "text/plain": [
              "<Figure size 432x288 with 1 Axes>"
            ],
            "image/png": "[encoded data removed]"
          },
          "metadata": {
            "needs_background": "light"
          }
        }
      ]
    },
    {
      "cell_type": "code",
      "source": [
        "X = np.array([5, 42])\n",
        "Y = np.array([-21, 9])\n",
        "Z = X + Y \n",
        "Resultant = np.sqrt(np.sum(Z**2))\n",
        "plt.title(\"Resultant Vector:{}\" .format(Resultant))\n",
        "plt.xlim(-70, 70)\n",
        "plt.ylim(-70, 70)\n",
        "plt.quiver(0, 0, X[0], X[1], angles='xy', scale_units='xy', scale=1, color='pink')\n",
        "plt.quiver(X[0], X[1], Y[0], Y[1], angles='xy', scale_units='xy', scale=1, color='brown')\n",
        "plt.quiver(0, 0, Z[0], Z[1], angles='xy', scale_units='xy', scale=1, color='red')\n",
        "plt.grid()\n",
        "plt.show()\n",
        "print(\"Resultant Vector:{}\" .format(Z))\n",
        "Slope = Z[1]/Z[0]\n",
        "print(\"Slope:{}\" .format(Slope))\n",
        "Angle = (np.arctan(Slope))*(180/np.pi)\n",
        "print(\"Angle:{}\" .format(Angle))"
      ],
      "metadata": {
        "colab": {
          "base_uri": "https://localhost:8080/",
          "height": 336
        },
        "id": "yJYhdO6n04um",
        "outputId": "b641b4cd-cfa3-4ec5-e6ef-790149311d2a"
      },
      "execution_count": null,
      "outputs": [
        {
          "output_type": "display_data",
          "data": {
            "text/plain": [
              "<Figure size 432x288 with 1 Axes>"
            ],
            "image/png": "[encoded data removed]"
          },
          "metadata": {
            "needs_background": "light"
          }
        },
        {
          "output_type": "stream",
          "name": "stdout",
          "text": [
            "Resultant Vector:[-16  51]\n",
            "Slope:-3.1875\n",
            "Angle:-72.58202920779716\n"
          ]
        }
      ]
    },
    {
      "cell_type": "markdown",
      "source": [
        "## Conclusion"
      ],
      "metadata": {
        "id": "Zdjs0qT-GYcw"
      }
    },
    {
      "cell_type": "markdown",
      "source": [
        "The laboratory activity proved that it is easier to perform vector operations like addition, subtraction, and multiplication  through Google Collab. Inputting codes that produce simple operations is now familiar to us since we have been using python codes throughout the semester. As we have indicated before as well, inputting codes are sensitive and tricky yet it saves you from the manual work. For plotting vectors on a plane, Google Colab made it easier as well as saved us from the trouble of doing it manually. Learning and applying this in real-life situations will make statistical figures easier to understand since it plots and presents the data in a way it is easily understandable.\n"
      ],
      "metadata": {
        "id": "JNMvdYy4GZws"
      }
    }
  ]
}