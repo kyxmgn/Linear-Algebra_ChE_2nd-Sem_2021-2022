{
  "nbformat": 4,
  "nbformat_minor": 0,
  "metadata": {
    "colab": {
      "name": "Assignment 9 - Magno, Kassandra",
      "provenance": [],
      "authorship_tag": "ABX9TyMpFs5K3h/38bqoXv+/VDPa",
      "include_colab_link": true
    },
    "kernelspec": {
      "name": "python3",
      "display_name": "Python 3"
    },
    "language_info": {
      "name": "python"
    }
  },
  "cells": [
    {
      "cell_type": "markdown",
      "metadata": {
        "id": "view-in-github",
        "colab_type": "text"
      },
      "source": [
        "<a href=\"https://colab.research.google.com/github/kyxmgn/Linear-Algebra_ChE_2nd-Sem_2021-2022/blob/main/Assignment_9_Magno%2C_Kassandra.ipynb\" target=\"_parent\"><img src=\"https://colab.research.google.com/assets/colab-badge.svg\" alt=\"Open In Colab\"/></a>"
      ]
    },
    {
      "cell_type": "markdown",
      "source": [
        "# Lab 2 - Plotting Vector using NumPy and MatPlotLib"
      ],
      "metadata": {
        "id": "SFS_CVoQkX40"
      }
    },
    {
      "cell_type": "markdown",
      "source": [
        "In this laboratory we will be discussing the basics of numerical and scientific programming by working with Vectors using NumPy and MatPlotLib."
      ],
      "metadata": {
        "id": "5vnHBUknkVjK"
      }
    },
    {
      "cell_type": "markdown",
      "source": [
        "At the end of this activity you will be able to:\n",
        "1. Be familiar with the libraries in Python for numerical and scientific programming.\n",
        "2. Visualize vectors through Python programming.\n",
        "3. Perform simple vector operations through code."
      ],
      "metadata": {
        "id": "JFLZn71skdxv"
      }
    },
    {
      "cell_type": "markdown",
      "source": [
        "## Discussion"
      ],
      "metadata": {
        "id": "NAL5Oyg5m67Q"
      }
    },
    {
      "cell_type": "markdown",
      "source": [
        "### Numpy"
      ],
      "metadata": {
        "id": "C7i_IqQ5nnNu"
      }
    },
    {
      "cell_type": "markdown",
      "source": [
        "*def*"
      ],
      "metadata": {
        "id": "shtDDJY4no8z"
      }
    },
    {
      "cell_type": "markdown",
      "source": [
        "### Representing Vectors"
      ],
      "metadata": {
        "id": "u4PqRn00pby7"
      }
    },
    {
      "cell_type": "markdown",
      "source": [
        "Now that you know how to represent vectors using their component and matrix form we can now hard-code them in Python. Let's say that you have the vectors:"
      ],
      "metadata": {
        "id": "j4q7w-4cpfq_"
      }
    },
    {
      "cell_type": "markdown",
      "source": [
        "$$ A = 3\\hat{x} + 2\\hat{y} \\\\\n",
        "B = 7\\hat{x} - 4\\hat{y}\\\\\n",
        "C = 6ax + 8ay - 2az \\\\\n",
        "D = 4\\hat{i} - 4\\hat{j} + 9\\hat{k}$$"
      ],
      "metadata": {
        "id": "EioneFaNqSYL"
      }
    },
    {
      "cell_type": "markdown",
      "source": [
        "In which its matrix equivalent is:"
      ],
      "metadata": {
        "id": "WEmZGDmZqXm6"
      }
    },
    {
      "cell_type": "markdown",
      "source": [
        "$$ A = \\begin{bmatrix} 3 \\\\ 2\\end{bmatrix} , B = \\begin{bmatrix} 7 \\\\ -4\\end{bmatrix} , C = \\begin{bmatrix} 6 \\\\ 8 \\\\  -2 \\end{bmatrix}, D = \\begin{bmatrix} 4 \\\\ -4 \\\\ 9\\end{bmatrix}\n",
        "$$\n",
        "$$ A = \\begin{bmatrix} 3 & 2\\end{bmatrix} , B = \\begin{bmatrix} 7 & -4\\end{bmatrix} , C = \\begin{bmatrix} 6 & 8 & -2\\end{bmatrix} , D = \\begin{bmatrix} 4 & -4 & 9\\end{bmatrix} \n",
        "$$"
      ],
      "metadata": {
        "id": "2fS0_xUWqrfz"
      }
    },
    {
      "cell_type": "markdown",
      "source": [
        "We can then start doing numpy code with this by:"
      ],
      "metadata": {
        "id": "O0XRaRgnsaSF"
      }
    },
    {
      "cell_type": "code",
      "source": [
        "## Importing necessary libraries\n",
        "import numpy as np ## 'np' here is short-hand name of the library (numpy) or a nickname."
      ],
      "metadata": {
        "id": "QLplMJ5Osihb"
      },
      "execution_count": 2,
      "outputs": []
    },
    {
      "cell_type": "code",
      "source": [
        "A = np.array([3, 2])\n",
        "B = np.array([7, 4])\n",
        "C = np.array([\n",
        "              [6],\n",
        "              [8],\n",
        "              [-2]\n",
        "])\n",
        "D = np.array ([[4],\n",
        "              [-4],\n",
        "              [9]])\n",
        "print('Vector A: ', A)\n",
        "print('Vector B: ', B)\n",
        "print('Vector C: ', C)\n",
        "print('Vector D: ', D)"
      ],
      "metadata": {
        "colab": {
          "base_uri": "https://localhost:8080/"
        },
        "id": "T_e1gvqys2E1",
        "outputId": "108278ae-8331-4950-f244-9db05f20bbe0"
      },
      "execution_count": 3,
      "outputs": [
        {
          "output_type": "stream",
          "name": "stdout",
          "text": [
            "Vector A:  [3 2]\n",
            "Vector B:  [7 4]\n",
            "Vector C:  [[ 6]\n",
            " [ 8]\n",
            " [-2]]\n",
            "Vector D:  [[ 4]\n",
            " [-4]\n",
            " [ 9]]\n"
          ]
        }
      ]
    },
    {
      "cell_type": "markdown",
      "source": [
        "### Describing vectors in Numpy"
      ],
      "metadata": {
        "id": "gx4qjVeztlBP"
      }
    },
    {
      "cell_type": "markdown",
      "source": [
        "Describing vectors is very important if we want to perform basic to advanced operations with them. The fundamental ways in describing vectors are knowing their shape, size and dimensions."
      ],
      "metadata": {
        "id": "lnwc93B5toIk"
      }
    },
    {
      "cell_type": "code",
      "source": [
        "### Checking shapes\n",
        "### Shapes tells us how many elements are there on each row and column\n",
        "\n",
        "A.shape\n",
        "H = np.array([3, 5, 1, 8, -0.8, 0])\n",
        "H.shape\n",
        "C.shape"
      ],
      "metadata": {
        "colab": {
          "base_uri": "https://localhost:8080/"
        },
        "id": "nhASonsSt1SZ",
        "outputId": "8fed2606-cb5c-44d6-a331-972cd505723e"
      },
      "execution_count": 4,
      "outputs": [
        {
          "output_type": "execute_result",
          "data": {
            "text/plain": [
              "(3, 1)"
            ]
          },
          "metadata": {},
          "execution_count": 4
        }
      ]
    },
    {
      "cell_type": "code",
      "source": [
        "### Checking size\n",
        "### Array/Vector sizes tells us many total number of elements are there in the vector\n",
        "\n",
        "D.size"
      ],
      "metadata": {
        "colab": {
          "base_uri": "https://localhost:8080/"
        },
        "id": "xECWrFWguBS9",
        "outputId": "edd36fb4-321d-4e74-ce00-d6be02ad86e0"
      },
      "execution_count": 5,
      "outputs": [
        {
          "output_type": "execute_result",
          "data": {
            "text/plain": [
              "3"
            ]
          },
          "metadata": {},
          "execution_count": 5
        }
      ]
    },
    {
      "cell_type": "code",
      "source": [
        "### Checking dimensions\n",
        "### The dimensions or rank of a vector tells us how many dimensions are there for the vector.\n",
        "\n",
        "D.ndim"
      ],
      "metadata": {
        "colab": {
          "base_uri": "https://localhost:8080/"
        },
        "id": "aOEkhsSBuETA",
        "outputId": "7e74d586-e67e-42ab-ae9a-6fe2c66c2a06"
      },
      "execution_count": 6,
      "outputs": [
        {
          "output_type": "execute_result",
          "data": {
            "text/plain": [
              "2"
            ]
          },
          "metadata": {},
          "execution_count": 6
        }
      ]
    },
    {
      "cell_type": "markdown",
      "source": [
        "Great! Now let's try to explore in performing operations with these vectors."
      ],
      "metadata": {
        "id": "6wlmWFUNvMQq"
      }
    },
    {
      "cell_type": "markdown",
      "source": [
        "### Addition"
      ],
      "metadata": {
        "id": "rFAhfDxbvR_0"
      }
    },
    {
      "cell_type": "markdown",
      "source": [
        "The addition rule is simple, the we just need to add the elements of the matrices according to their index. So in this case if we add vector $A$ and vector $B$ we will have a resulting vector:"
      ],
      "metadata": {
        "id": "EFx7Ajw5vT7t"
      }
    },
    {
      "cell_type": "markdown",
      "source": [
        "$$R = 3\\hat{x}-9\\hat{y} \\\\ \\\\or \\\\ \\\\ R = \\begin{bmatrix} 3 \\\\ -9\\end{bmatrix} $$"
      ],
      "metadata": {
        "id": "H2fn7riGvYzI"
      }
    },
    {
      "cell_type": "markdown",
      "source": [
        "So let's try to do that in NumPy in several number of ways:"
      ],
      "metadata": {
        "id": "B0I6aaKzvgnR"
      }
    },
    {
      "cell_type": "code",
      "source": [
        "R = np.add(A, B) ## this is the functional method usisng the numpy library\n",
        "P = np.add(C, D)\n"
      ],
      "metadata": {
        "id": "TWJEtx3YvjFK"
      },
      "execution_count": 7,
      "outputs": []
    },
    {
      "cell_type": "code",
      "source": [
        "R = A + B   ## this is the explicit method, since Python does a value-reference so it can \n",
        "            ## know that these variables would need to do array operations.\n",
        "R"
      ],
      "metadata": {
        "colab": {
          "base_uri": "https://localhost:8080/"
        },
        "id": "T483Iuc4vn8q",
        "outputId": "ecdfa0fc-8192-4463-bd36-76f64686fdcf"
      },
      "execution_count": 8,
      "outputs": [
        {
          "output_type": "execute_result",
          "data": {
            "text/plain": [
              "array([10,  6])"
            ]
          },
          "metadata": {},
          "execution_count": 8
        }
      ]
    },
    {
      "cell_type": "code",
      "source": [
        "pos1 = np.array([0,0,0])\n",
        "pos2 = np.array([0,1,2])\n",
        "pos3 = np.array([2,4,6])\n",
        "pos4 = np.array([8,-6,6])\n",
        "#R = pos1+ pos2+ pos3+ pos4\n",
        "#R = np.multiply(pos3, pos4)\n",
        "R = pos3 / pos4\n",
        "R"
      ],
      "metadata": {
        "colab": {
          "base_uri": "https://localhost:8080/"
        },
        "id": "WoKGDwL1vt9t",
        "outputId": "923f5755-c22d-4620-f51e-006e80a99996"
      },
      "execution_count": 10,
      "outputs": [
        {
          "output_type": "execute_result",
          "data": {
            "text/plain": [
              "array([ 0.25      , -0.66666667,  1.        ])"
            ]
          },
          "metadata": {},
          "execution_count": 10
        }
      ]
    },
    {
      "cell_type": "markdown",
      "source": [
        "Try for yourself!"
      ],
      "metadata": {
        "id": "aGl3kDxJzzIa"
      }
    },
    {
      "cell_type": "markdown",
      "source": [
        "Try to implement subtraction, multiplication, and division with vectors $A$ and $B$!"
      ],
      "metadata": {
        "id": "auVV75HM0IQ3"
      }
    },
    {
      "cell_type": "code",
      "source": [
        "### Try your code here!"
      ],
      "metadata": {
        "id": "7SWW8i110n1V"
      },
      "execution_count": null,
      "outputs": []
    },
    {
      "cell_type": "code",
      "source": [
        "Q = np.subtract(A,B)\n",
        "Q = B-A\n",
        "Q"
      ],
      "metadata": {
        "colab": {
          "base_uri": "https://localhost:8080/"
        },
        "id": "avsl9PWE1FFl",
        "outputId": "0cc6edeb-2bb1-462a-e693-faa008942f2e"
      },
      "execution_count": 11,
      "outputs": [
        {
          "output_type": "execute_result",
          "data": {
            "text/plain": [
              "array([4, 2])"
            ]
          },
          "metadata": {},
          "execution_count": 11
        }
      ]
    },
    {
      "cell_type": "code",
      "source": [
        "T = np.multiply (A,B)\n",
        "T = B*A\n",
        "T"
      ],
      "metadata": {
        "colab": {
          "base_uri": "https://localhost:8080/"
        },
        "id": "C579JVqO3gUQ",
        "outputId": "d97a7e09-e19c-42f7-f0de-60730d4bb3dc"
      },
      "execution_count": 13,
      "outputs": [
        {
          "output_type": "execute_result",
          "data": {
            "text/plain": [
              "array([21,  8])"
            ]
          },
          "metadata": {},
          "execution_count": 13
        }
      ]
    },
    {
      "cell_type": "code",
      "source": [
        "V = np.divide(A,B)\n",
        "V = B/A\n",
        "V"
      ],
      "metadata": {
        "colab": {
          "base_uri": "https://localhost:8080/"
        },
        "id": "vWYAGrbE3u6R",
        "outputId": "c1285c56-27a7-4f0b-e10f-3b0976e162cb"
      },
      "execution_count": 14,
      "outputs": [
        {
          "output_type": "execute_result",
          "data": {
            "text/plain": [
              "array([2.33333333, 2.        ])"
            ]
          },
          "metadata": {},
          "execution_count": 14
        }
      ]
    },
    {
      "cell_type": "markdown",
      "source": [
        "### Scaling"
      ],
      "metadata": {
        "id": "1A2jz7ep7mej"
      }
    },
    {
      "cell_type": "markdown",
      "source": [
        "*def*"
      ],
      "metadata": {
        "id": "A8kilHSo7oTg"
      }
    },
    {
      "cell_type": "markdown",
      "source": [
        "$$S = 5 \\cdot A$$"
      ],
      "metadata": {
        "id": "H7-12jKo7qSl"
      }
    },
    {
      "cell_type": "markdown",
      "source": [
        "We can do this in numpy through:"
      ],
      "metadata": {
        "id": "GmscyTpa7xuw"
      }
    },
    {
      "cell_type": "code",
      "source": [
        "#S = 5 * A\n",
        "S = np.multiply(5,A)\n",
        "S"
      ],
      "metadata": {
        "colab": {
          "base_uri": "https://localhost:8080/"
        },
        "id": "4m3QpGCt71ce",
        "outputId": "c628cf8c-fdce-40bb-a0d7-ef8a6bf396d9"
      },
      "execution_count": 15,
      "outputs": [
        {
          "output_type": "execute_result",
          "data": {
            "text/plain": [
              "array([15, 10])"
            ]
          },
          "metadata": {},
          "execution_count": 15
        }
      ]
    },
    {
      "cell_type": "markdown",
      "source": [
        "Try to implement scaling with two vectors."
      ],
      "metadata": {
        "id": "FtlzeXo178Uk"
      }
    },
    {
      "cell_type": "code",
      "source": [
        "W = np.multiply(4,B)\n",
        "W"
      ],
      "metadata": {
        "colab": {
          "base_uri": "https://localhost:8080/"
        },
        "id": "gMnewmvH786r",
        "outputId": "8a1de8af-3320-46f1-ec7c-6f91a9a5860a"
      },
      "execution_count": 16,
      "outputs": [
        {
          "output_type": "execute_result",
          "data": {
            "text/plain": [
              "array([28, 16])"
            ]
          },
          "metadata": {},
          "execution_count": 16
        }
      ]
    },
    {
      "cell_type": "code",
      "source": [
        "G = 10*A\n",
        "G"
      ],
      "metadata": {
        "colab": {
          "base_uri": "https://localhost:8080/"
        },
        "id": "IgdG-BsO8Gbu",
        "outputId": "4db3096a-4fea-44f5-b09e-cd88b5258d72"
      },
      "execution_count": 17,
      "outputs": [
        {
          "output_type": "execute_result",
          "data": {
            "text/plain": [
              "array([30, 20])"
            ]
          },
          "metadata": {},
          "execution_count": 17
        }
      ]
    },
    {
      "cell_type": "markdown",
      "source": [
        "### MatPlotLib"
      ],
      "metadata": {
        "id": "tuy8I7qIAEgI"
      }
    },
    {
      "cell_type": "markdown",
      "source": [
        "MatPlotLib or MATLab Plotting library is Python's take on MATLabs plotting feature. MatPlotLib can be used vastly from graping values to visualizing several dimensions of data."
      ],
      "metadata": {
        "id": "AgiJG3whAHR8"
      }
    },
    {
      "cell_type": "markdown",
      "source": [
        "### Visualizing Data"
      ],
      "metadata": {
        "id": "pMcThWsSAf2K"
      }
    },
    {
      "cell_type": "markdown",
      "source": [
        "It's not enough just solving these vectors so might need to visualize them. So we'll use MatPlotLib for that. We'll need to import it first."
      ],
      "metadata": {
        "id": "2X4_m_fCAlMU"
      }
    },
    {
      "cell_type": "code",
      "source": [
        "import matplotlib.pyplot as plt\n",
        "import matplotlib\n",
        "%matplotlib inline"
      ],
      "metadata": {
        "id": "5E40jUkOAl_k"
      },
      "execution_count": 18,
      "outputs": []
    },
    {
      "cell_type": "code",
      "source": [
        "A = [1, -1]\n",
        "B = [5, -1]\n",
        "plt.scatter(A[0], A[1], label='A', c='green')\n",
        "plt.scatter(B[0], B[1], label='B', c='magenta')\n",
        "plt.grid()\n",
        "plt.legend()\n",
        "plt.show()"
      ],
      "metadata": {
        "colab": {
          "base_uri": "https://localhost:8080/",
          "height": 265
        },
        "id": "jbLg_R_3BdZk",
        "outputId": "9a33977c-ef78-4f2b-e44b-bcf922655870"
      },
      "execution_count": 19,
      "outputs": [
        {
          "output_type": "display_data",
          "data": {
            "text/plain": [
              "<Figure size 432x288 with 1 Axes>"
            ],
            "image/png": "[encoded data removed]"
          },
          "metadata": {
            "needs_background": "light"
          }
        }
      ]
    },
    {
      "cell_type": "code",
      "source": [
        "A = np.array([1, -1])\n",
        "B = np.array([1, 5])\n",
        "R = A + B\n",
        "Magnitude = np.sqrt(np.sum(R**2))\n",
        "plt.title(\"Resultant Vector\\nMagnitude:{}\" .format(Magnitude))\n",
        "plt.xlim(-5, 5)\n",
        "plt.ylim(-5, 5)\n",
        "plt.quiver(0, 0, A[0], A[1], angles='xy', scale_units='xy', scale=1, color='red')\n",
        "plt.quiver(A[0], A[1], B[0], B[1], angles='xy', scale_units='xy', scale=1, color='green')\n",
        "plt.quiver(0, 0, R[0], R[1], angles='xy', scale_units='xy', scale=1, color='black')\n",
        "plt.grid()\n",
        "plt.show()\n",
        "#print(R)\n",
        "\n",
        "Slope = R[1]/R[0]\n",
        "print(Slope)\n",
        "Angle = (np.arctan(Slope))*(180/np.pi)\n",
        "print(Angle)"
      ],
      "metadata": {
        "colab": {
          "base_uri": "https://localhost:8080/",
          "height": 332
        },
        "id": "kV1tqwsHB2uI",
        "outputId": "68293f4b-e3db-40b5-8116-ef8ccb67c247"
      },
      "execution_count": 21,
      "outputs": [
        {
          "output_type": "display_data",
          "data": {
            "text/plain": [
              "<Figure size 432x288 with 1 Axes>"
            ],
            "image/png": "[encoded data removed]"
          },
          "metadata": {
            "needs_background": "light"
          }
        },
        {
          "output_type": "stream",
          "name": "stdout",
          "text": [
            "2.0\n",
            "63.43494882292201\n"
          ]
        }
      ]
    },
    {
      "cell_type": "code",
      "source": [
        "n = A.shape[0]\n",
        "plt.xlim(-10, 10)\n",
        "plt.ylim(-10, 10)\n",
        "plt.quiver(0,0, A[0], A[1], angles='xy', scale_units='xy',scale=1)\n",
        "plt.quiver(A[0],A[1], B[0], B[1], angles='xy', scale_units='xy',scale=1)\n",
        "plt.quiver(0,0, R[0], R[1], angles='xy', scale_units='xy',scale=1)\n",
        "plt.show()"
      ],
      "metadata": {
        "colab": {
          "base_uri": "https://localhost:8080/",
          "height": 269
        },
        "id": "mwixlW6OCnaF",
        "outputId": "c59c17f2-e23e-41a5-fee2-c17f14242873"
      },
      "execution_count": 22,
      "outputs": [
        {
          "output_type": "display_data",
          "data": {
            "text/plain": [
              "<Figure size 432x288 with 1 Axes>"
            ],
            "image/png": "[encoded data removed]"
          },
          "metadata": {
            "needs_background": "light"
          }
        }
      ]
    },
    {
      "cell_type": "code",
      "source": [
        "def draw(x, y): \n",
        "    xPlusy = (abs(x[0]+y[0]),abs(x[1]+y[1]))\n",
        "    array = np.array([[0, 0, x[0], x[1]], \n",
        "                      [x[0], x[1], y[0], y[1]], \n",
        "                      [0, 0, xPlusy[0], xPlusy[1]]])\n",
        "    print(array)\n",
        "    X, Y, U, V = zip(*array)\n",
        "    print(\"X =\",X)\n",
        "    print(\"Y =\",Y)\n",
        "    print(\"U =\",U)\n",
        "    print(\"V =\",V)\n",
        "    plt.figure()\n",
        "    plt.ylabel('Y-axis')\n",
        "    plt.xlabel('X-axis')\n",
        "    ax = plt.gca()\n",
        "    ax.quiver(X, Y, U, V, angles='xy', scale_units='xy',color=['r','b','g'],scale=1)\n",
        "    ax.set_xlim([0, 10])\n",
        "    ax.set_ylim([0, 10])\n",
        "    plt.draw()\n",
        "    plt.show()\n",
        "draw([2,2],[2,6],)"
      ],
      "metadata": {
        "colab": {
          "base_uri": "https://localhost:8080/",
          "height": 411
        },
        "id": "vTiN9TSFDTOy",
        "outputId": "0301de63-957a-4185-8b73-fd2db383be09"
      },
      "execution_count": 38,
      "outputs": [
        {
          "output_type": "stream",
          "name": "stdout",
          "text": [
            "[[0 0 2 2]\n",
            " [2 2 2 6]\n",
            " [0 0 4 8]]\n",
            "X = (0, 2, 0)\n",
            "Y = (0, 2, 0)\n",
            "U = (2, 2, 4)\n",
            "V = (2, 6, 8)\n"
          ]
        },
        {
          "output_type": "display_data",
          "data": {
            "text/plain": [
              "<Figure size 432x288 with 1 Axes>"
            ],
            "image/png": "[encoded data removed]"
          },
          "metadata": {
            "needs_background": "light"
          }
        }
      ]
    }
  ]
}