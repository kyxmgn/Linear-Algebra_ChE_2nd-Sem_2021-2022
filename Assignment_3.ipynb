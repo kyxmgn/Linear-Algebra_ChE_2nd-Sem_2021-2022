{
  "nbformat": 4,
  "nbformat_minor": 0,
  "metadata": {
    "colab": {
      "name": "Assignment 3",
      "provenance": [],
      "authorship_tag": "ABX9TyMNXroJxGJ1VAGQcgGGI3Ea",
      "include_colab_link": true
    },
    "kernelspec": {
      "name": "python3",
      "display_name": "Python 3"
    },
    "language_info": {
      "name": "python"
    }
  },
  "cells": [
    {
      "cell_type": "markdown",
      "metadata": {
        "id": "view-in-github",
        "colab_type": "text"
      },
      "source": [
        "<a href=\"https://colab.research.google.com/github/kyxmgn/Linear-Algebra_ChE_2nd-Sem_2021-2022/blob/main/Assignment_3.ipynb\" target=\"_parent\"><img src=\"https://colab.research.google.com/assets/colab-badge.svg\" alt=\"Open In Colab\"/></a>"
      ]
    },
    {
      "cell_type": "markdown",
      "source": [
        "# Linear Algebra for ChE\n",
        "## Assignment 3: Matrices"
      ],
      "metadata": {
        "id": "2Ehjn__OKYEA"
      }
    },
    {
      "cell_type": "markdown",
      "source": [
        "Now that you have a fundamental knowledge about Python, we'll try to look into greater dimensions."
      ],
      "metadata": {
        "id": "Uu6KblSpKkN-"
      }
    },
    {
      "cell_type": "markdown",
      "source": [
        "### Objectives\n",
        "At the end of this activity you will be able to:\n",
        "1. Be familiar with matrices and their relation to linear equations.\n",
        "2. Perform basic matrix operations.\n",
        "3. Program and translate matrix equations and operations using Python.\n"
      ],
      "metadata": {
        "id": "A1qc856bK0rM"
      }
    },
    {
      "cell_type": "markdown",
      "source": [
        "## Discussion"
      ],
      "metadata": {
        "id": "vyaBTe9wK6tJ"
      }
    },
    {
      "cell_type": "code",
      "source": [
        "import numpy as np\n",
        "import matplotlib.pyplot as plt\n",
        "import scipy.linalg as la\n",
        "%matplotlib inline"
      ],
      "metadata": {
        "id": "ikUDTB10K9AA"
      },
      "execution_count": null,
      "outputs": []
    },
    {
      "cell_type": "markdown",
      "source": [
        "### Matrices"
      ],
      "metadata": {
        "id": "q2EbtkGeLtEK"
      }
    },
    {
      "cell_type": "markdown",
      "source": [
        "The notation and use of matrices is probably one of the "
      ],
      "metadata": {
        "id": "uhXFvpilLvqr"
      }
    },
    {
      "cell_type": "markdown",
      "source": [
        "$$\n",
        "A = \\left\\{\n",
        "    \\begin{array}\\\n",
        "        2x + y \\\\ \n",
        "        4x - 11y\n",
        "    \\end{array}\n",
        "\\right. \\\\\n",
        "B = \\left\\{\n",
        "    \\begin{array}\\\n",
        "        x+y+z \\\\ \n",
        "        3x -2y +z \\\\\n",
        "        -2x + 4y +24z\n",
        "    \\end{array}\n",
        "\\right. \\\\\n",
        "C = \\left\\{\n",
        "    \\begin{array}\\\n",
        "      -w-x+8y+6z \\\\\n",
        "      32w+2x-11y+9z \\\\\n",
        "      w-2x+3y+2z\n",
        "    \\end{array}\n",
        "\\right. \\\\\n",
        "$$"
      ],
      "metadata": {
        "id": "UFX7ZAndMxgd"
      }
    },
    {
      "cell_type": "markdown",
      "source": [
        "$$\n",
        "A=\\begin{bmatrix} 2 & 1 \\\\ 4 & {-11}\\end{bmatrix} \\\\\n",
        "B=\\begin{bmatrix} 1 & 1 & 1 \\\\ 3 & -2 & 1 \\\\ -2 & 4 & 24\\end{bmatrix}\\\\\n",
        "C=\\begin{bmatrix} -1 & -1 & 8 & 6 \\\\ 32 & 2 & -11 & 9 \\\\ 1 & -2 & 3 & 2\\end{bmatrix}\\\\\n",
        "$$\n"
      ],
      "metadata": {
        "id": "zXd6eSCfOi0k"
      }
    },
    {
      "cell_type": "markdown",
      "source": [
        "$$A=\\begin{bmatrix}\n",
        "a_{(0,0)}&a_{(0,1)}&\\dots&a_{(0,j-1)}\\\\\n",
        "a_{(1,0)}&a_{(1,1)}&\\dots&a_{(1,j-1)}\\\\\n",
        "\\vdots&\\vdots&\\ddots&\\vdots&\\\\\n",
        "a_{(i-1,0)}&a_{(i-1,1)}&\\dots&a_{(i-1,j-1)}\n",
        "\\end{bmatrix}\n",
        "$$\n"
      ],
      "metadata": {
        "id": "OrtuM5ShQS_p"
      }
    },
    {
      "cell_type": "markdown",
      "source": [
        ""
      ],
      "metadata": {
        "id": "vBLvk9w_QcWH"
      }
    },
    {
      "cell_type": "code",
      "source": [
        "## Since we'll keep on describing matrices. Let's make a function.\n",
        "def describe_mat(matrix):\n",
        "    print(f'Matrix:\\n{matrix}\\n\\nShape:\\t{matrix.shape}\\nRank:\\t{matrix.ndim}\\n')"
      ],
      "metadata": {
        "id": "c14mLfkSQdDe"
      },
      "execution_count": null,
      "outputs": []
    },
    {
      "cell_type": "code",
      "source": [
        "## Declaring a 2 x 2 matrix\n",
        "A = np.array([\n",
        "    [5, 4],\n",
        "    [7, 1]\n",
        "])\n",
        "describe_mat(A)"
      ],
      "metadata": {
        "colab": {
          "base_uri": "https://localhost:8080/"
        },
        "id": "7whwzGu2Q2-e",
        "outputId": "7716795a-ac64-4e67-8f11-886cf35fe4d6"
      },
      "execution_count": null,
      "outputs": [
        {
          "output_type": "stream",
          "name": "stdout",
          "text": [
            "Matrix:\n",
            "[[5 4]\n",
            " [7 1]]\n",
            "\n",
            "Shape:\t(2, 2)\n",
            "Rank:\t2\n",
            "\n"
          ]
        }
      ]
    },
    {
      "cell_type": "code",
      "source": [
        "## Declaring a 3 x 2 matrix\n",
        "G = np.array([\n",
        "    [1,1],\n",
        "    [2,2],\n",
        "    [3, 1]\n",
        "])\n",
        "describe_mat(G)"
      ],
      "metadata": {
        "colab": {
          "base_uri": "https://localhost:8080/"
        },
        "id": "mi1AtMe-R3Cf",
        "outputId": "ba2792f7-07cf-41cd-ec94-8d85342284d3"
      },
      "execution_count": null,
      "outputs": [
        {
          "output_type": "stream",
          "name": "stdout",
          "text": [
            "Matrix:\n",
            "[[1 1]\n",
            " [2 2]\n",
            " [3 1]]\n",
            "\n",
            "Shape:\t(3, 2)\n",
            "Rank:\t2\n",
            "\n"
          ]
        }
      ]
    },
    {
      "cell_type": "code",
      "source": [
        "H = np.array([11,21,31,41])\n",
        "describe_mat(H)\n"
      ],
      "metadata": {
        "colab": {
          "base_uri": "https://localhost:8080/"
        },
        "id": "dSDURex2SlDY",
        "outputId": "8d0614c8-396f-4eb7-882b-bbab1e0b2a14"
      },
      "execution_count": null,
      "outputs": [
        {
          "output_type": "stream",
          "name": "stdout",
          "text": [
            "Matrix:\n",
            "[11 21 31 41]\n",
            "\n",
            "Shape:\t(4,)\n",
            "Rank:\t1\n",
            "\n"
          ]
        }
      ]
    },
    {
      "cell_type": "markdown",
      "source": [
        "## Categorizing Matrices"
      ],
      "metadata": {
        "id": "_EP_XO1ISqV5"
      }
    },
    {
      "cell_type": "markdown",
      "source": [
        "There are several ways of classifying matrices. Once could be according to their **shape** and another is according to their **element values**. We'll try to go through them."
      ],
      "metadata": {
        "id": "arI2OZbNTPIN"
      }
    },
    {
      "cell_type": "markdown",
      "source": [
        "### According to shape"
      ],
      "metadata": {
        "id": "x2q7JNxFTbMe"
      }
    },
    {
      "cell_type": "markdown",
      "source": [
        "### Row and Column Matrices"
      ],
      "metadata": {
        "id": "U4DTCBHMTgDZ"
      }
    },
    {
      "cell_type": "markdown",
      "source": [
        "Row and column matrices"
      ],
      "metadata": {
        "id": "ZN4L43SVTuHK"
      }
    },
    {
      "cell_type": "code",
      "source": [
        "## Declaring a Row Matrix\n",
        "\n",
        "rowmatrix1D = np.array([\n",
        "    1, 3, 2, -4\n",
        "]) ## this is a 1-D Matrix with a shape of (3,), it's not really considered as a row matrix.\n",
        "row_mat_2D = np.array([\n",
        "    [1,2,3, -4]\n",
        "]) ## this is a 2-D Matrix with a shape of (1,3)\n",
        "describe_mat(rowmatrix1D)\n",
        "describe_mat(row_mat_2D)\n"
      ],
      "metadata": {
        "colab": {
          "base_uri": "https://localhost:8080/"
        },
        "id": "_o8ETWc4UDIj",
        "outputId": "3712845b-a66b-4b24-87be-bbff9e1c3ec3"
      },
      "execution_count": null,
      "outputs": [
        {
          "output_type": "stream",
          "name": "stdout",
          "text": [
            "Matrix:\n",
            "[ 1  3  2 -4]\n",
            "\n",
            "Shape:\t(4,)\n",
            "Rank:\t1\n",
            "\n",
            "Matrix:\n",
            "[[ 1  2  3 -4]]\n",
            "\n",
            "Shape:\t(1, 4)\n",
            "Rank:\t2\n",
            "\n"
          ]
        }
      ]
    },
    {
      "cell_type": "code",
      "source": [
        "## Declaring a Column Matrix\n",
        "col_mat = np.array([\n",
        "    [1],\n",
        "    [2],\n",
        "    [5]\n",
        "]) ## this is a 2-D Matrix with a shape of (3,1)\n",
        "describe_mat(col_mat)"
      ],
      "metadata": {
        "colab": {
          "base_uri": "https://localhost:8080/"
        },
        "id": "YqsBLTalUgw4",
        "outputId": "00e22051-5fe1-417c-be45-b99b2363a0f8"
      },
      "execution_count": null,
      "outputs": [
        {
          "output_type": "stream",
          "name": "stdout",
          "text": [
            "Matrix:\n",
            "[[1]\n",
            " [2]\n",
            " [5]]\n",
            "\n",
            "Shape:\t(3, 1)\n",
            "Rank:\t2\n",
            "\n"
          ]
        }
      ]
    },
    {
      "cell_type": "markdown",
      "source": [
        "### Square Matrices"
      ],
      "metadata": {
        "id": "NYOLHLx2U4uu"
      }
    },
    {
      "cell_type": "markdown",
      "source": [
        "Square matrices are"
      ],
      "metadata": {
        "id": "ic3S4i98VQnk"
      }
    },
    {
      "cell_type": "code",
      "source": [
        "def describe_mat(matrix):\n",
        "    is_square = True if matrix.shape[0] == matrix.shape[1] else False \n",
        "    print(f'Matrix:\\n{matrix}\\n\\nShape:\\t{matrix.shape}\\nRank:\\t{matrix.ndim}\\nIs Square: {is_square}\\n')\n"
      ],
      "metadata": {
        "id": "mAn0uWWpU-p-"
      },
      "execution_count": null,
      "outputs": []
    },
    {
      "cell_type": "code",
      "source": [
        "square_mat = np.array([\n",
        "    [11,4,8],\n",
        "    [3,98,1],\n",
        "    [0,11,6]\n",
        "])\n",
        "\n",
        "non_square_mat = np.array([\n",
        "    [11,4,8],\n",
        "    [3,98,1]\n",
        "])\n",
        "describe_mat(square_mat)\n",
        "describe_mat(non_square_mat)\n"
      ],
      "metadata": {
        "colab": {
          "base_uri": "https://localhost:8080/"
        },
        "id": "GuMeqStgVcJC",
        "outputId": "3b0dbfbb-e3c5-40de-dd1b-e60d5edfa43d"
      },
      "execution_count": null,
      "outputs": [
        {
          "output_type": "stream",
          "name": "stdout",
          "text": [
            "Matrix:\n",
            "[[11  4  8]\n",
            " [ 3 98  1]\n",
            " [ 0 11  6]]\n",
            "\n",
            "Shape:\t(3, 3)\n",
            "Rank:\t2\n",
            "Is Square: True\n",
            "\n",
            "Matrix:\n",
            "[[11  4  8]\n",
            " [ 3 98  1]]\n",
            "\n",
            "Shape:\t(2, 3)\n",
            "Rank:\t2\n",
            "Is Square: False\n",
            "\n"
          ]
        }
      ]
    },
    {
      "cell_type": "markdown",
      "source": [
        "### According to element values"
      ],
      "metadata": {
        "id": "DXWIrCPEWJCd"
      }
    },
    {
      "cell_type": "markdown",
      "source": [
        "### Null Matrix"
      ],
      "metadata": {
        "id": "1Ec_6xg6WMfJ"
      }
    },
    {
      "cell_type": "markdown",
      "source": [
        "A Null Matrix is a matrix"
      ],
      "metadata": {
        "id": "Inl-WQKrWOkw"
      }
    },
    {
      "cell_type": "code",
      "source": [
        "def describe_mat(matrix):\n",
        "    if matrix.size > 0:\n",
        "        is_square = True if matrix.shape[0] == matrix.shape[1] else False \n",
        "        print(f'Matrix:\\n{matrix}\\n\\nShape:\\t{matrix.shape}\\nRank:\\t{matrix.ndim}\\nIs Square: {is_square}\\n')\n",
        "    else:\n",
        "        print('Matrix is Null')"
      ],
      "metadata": {
        "id": "vBNt2wBrWRMJ"
      },
      "execution_count": null,
      "outputs": []
    },
    {
      "cell_type": "code",
      "source": [
        "null_mat = np.array([])\n",
        "describe_mat(null_mat)"
      ],
      "metadata": {
        "colab": {
          "base_uri": "https://localhost:8080/"
        },
        "id": "MTGKKv0eWZix",
        "outputId": "54599997-54bf-4044-c3e0-bc546ba0d9c0"
      },
      "execution_count": null,
      "outputs": [
        {
          "output_type": "stream",
          "name": "stdout",
          "text": [
            "Matrix is Null\n"
          ]
        }
      ]
    },
    {
      "cell_type": "markdown",
      "source": [
        "### Zero Matrix"
      ],
      "metadata": {
        "id": "T3vYCjneWrOB"
      }
    },
    {
      "cell_type": "markdown",
      "source": [
        ""
      ],
      "metadata": {
        "id": "kcyv8mq7Wup-"
      }
    },
    {
      "cell_type": "code",
      "source": [
        "zero_mat_row = np.zeros((1,2))\n",
        "zero_mat_sqr = np.zeros((2,4))\n",
        "zero_mat_rct = np.zeros((3,3))\n",
        "\n",
        "print(f'Zero Row Matrix: \\n{zero_mat_row}')\n",
        "print(f'Zero Square Matrix: \\n{zero_mat_sqr}')\n",
        "print(f'Zero Rectangular Matrix: \\n{zero_mat_rct}')"
      ],
      "metadata": {
        "colab": {
          "base_uri": "https://localhost:8080/"
        },
        "id": "EfWFVck1WvHz",
        "outputId": "95390970-bb99-4366-d3d2-55e4a5097af2"
      },
      "execution_count": null,
      "outputs": [
        {
          "output_type": "stream",
          "name": "stdout",
          "text": [
            "Zero Row Matrix: \n",
            "[[0. 0.]]\n",
            "Zero Square Matrix: \n",
            "[[0. 0. 0. 0.]\n",
            " [0. 0. 0. 0.]]\n",
            "Zero Rectangular Matrix: \n",
            "[[0. 0. 0.]\n",
            " [0. 0. 0.]\n",
            " [0. 0. 0.]]\n"
          ]
        }
      ]
    },
    {
      "cell_type": "markdown",
      "source": [
        "### Ones Matrix"
      ],
      "metadata": {
        "id": "L6cCmKXIXlqw"
      }
    },
    {
      "cell_type": "markdown",
      "source": [
        "A ones matrix is"
      ],
      "metadata": {
        "id": "rvHvUye4XnhW"
      }
    },
    {
      "cell_type": "code",
      "source": [
        "ones_mat_row = np.ones((1,2))\n",
        "ones_mat_sqr = np.ones((2,4))\n",
        "ones_mat_rct = np.ones((3,3))\n",
        "\n",
        "print(f'Ones Row Matrix: \\n{ones_mat_row}')\n",
        "print(f'Ones Square Matrix: \\n{ones_mat_sqr}')\n",
        "print(f'Ones Rectangular Matrix: \\n{ones_mat_rct}')"
      ],
      "metadata": {
        "colab": {
          "base_uri": "https://localhost:8080/"
        },
        "id": "WnrXEm7uXpNH",
        "outputId": "0e242f48-5aaf-427b-eda2-efb2f78266c8"
      },
      "execution_count": null,
      "outputs": [
        {
          "output_type": "stream",
          "name": "stdout",
          "text": [
            "Ones Row Matrix: \n",
            "[[1. 1.]]\n",
            "Ones Square Matrix: \n",
            "[[1. 1. 1. 1.]\n",
            " [1. 1. 1. 1.]]\n",
            "Ones Rectangular Matrix: \n",
            "[[1. 1. 1.]\n",
            " [1. 1. 1.]\n",
            " [1. 1. 1.]]\n"
          ]
        }
      ]
    },
    {
      "cell_type": "markdown",
      "source": [
        "### Diagonal Matrix"
      ],
      "metadata": {
        "id": "EdF13AXiX_0G"
      }
    },
    {
      "cell_type": "markdown",
      "source": [
        "A Diagonal Matrix is"
      ],
      "metadata": {
        "id": "5_XRJkvxYBhD"
      }
    },
    {
      "cell_type": "code",
      "source": [
        "np.array([\n",
        "    [11,0,0],\n",
        "    [0,8,0],\n",
        "    [0,0,5]\n",
        "])"
      ],
      "metadata": {
        "colab": {
          "base_uri": "https://localhost:8080/"
        },
        "id": "LeDinbk5YDo8",
        "outputId": "4123d353-d4e0-4793-bbbf-dd262489ddaa"
      },
      "execution_count": null,
      "outputs": [
        {
          "output_type": "execute_result",
          "data": {
            "text/plain": [
              "array([[11,  0,  0],\n",
              "       [ 0,  8,  0],\n",
              "       [ 0,  0,  5]])"
            ]
          },
          "metadata": {},
          "execution_count": 64
        }
      ]
    },
    {
      "cell_type": "code",
      "source": [
        "d = np.diag([10,20,30,40,50])\n",
        "#d.shape[0] == d.shape[1]\n",
        "d"
      ],
      "metadata": {
        "colab": {
          "base_uri": "https://localhost:8080/"
        },
        "id": "VYTDGCs4YHs2",
        "outputId": "c9afc173-2747-445b-cfca-b6d86f4a17f0"
      },
      "execution_count": null,
      "outputs": [
        {
          "output_type": "execute_result",
          "data": {
            "text/plain": [
              "array([[10,  0,  0,  0,  0],\n",
              "       [ 0, 20,  0,  0,  0],\n",
              "       [ 0,  0, 30,  0,  0],\n",
              "       [ 0,  0,  0, 40,  0],\n",
              "       [ 0,  0,  0,  0, 50]])"
            ]
          },
          "metadata": {},
          "execution_count": 65
        }
      ]
    },
    {
      "cell_type": "markdown",
      "source": [
        "### Identity Matrix"
      ],
      "metadata": {
        "id": "hU2B52QrY5uq"
      }
    },
    {
      "cell_type": "markdown",
      "source": [
        "An identity matrix is..."
      ],
      "metadata": {
        "id": "pl8VARZxY9b_"
      }
    },
    {
      "cell_type": "code",
      "source": [
        "np.eye(6)"
      ],
      "metadata": {
        "colab": {
          "base_uri": "https://localhost:8080/"
        },
        "id": "t7uPmSI7ZADs",
        "outputId": "35d0cf87-7626-47ee-8afe-a8db06d1ca12"
      },
      "execution_count": null,
      "outputs": [
        {
          "output_type": "execute_result",
          "data": {
            "text/plain": [
              "array([[1., 0., 0., 0., 0., 0.],\n",
              "       [0., 1., 0., 0., 0., 0.],\n",
              "       [0., 0., 1., 0., 0., 0.],\n",
              "       [0., 0., 0., 1., 0., 0.],\n",
              "       [0., 0., 0., 0., 1., 0.],\n",
              "       [0., 0., 0., 0., 0., 1.]])"
            ]
          },
          "metadata": {},
          "execution_count": 66
        }
      ]
    },
    {
      "cell_type": "code",
      "source": [
        "np.identity(10)"
      ],
      "metadata": {
        "colab": {
          "base_uri": "https://localhost:8080/"
        },
        "id": "MDxr2pmAZCGB",
        "outputId": "8ae44b3d-9df9-411e-867c-3103a839beb6"
      },
      "execution_count": null,
      "outputs": [
        {
          "output_type": "execute_result",
          "data": {
            "text/plain": [
              "array([[1., 0., 0., 0., 0., 0., 0., 0., 0., 0.],\n",
              "       [0., 1., 0., 0., 0., 0., 0., 0., 0., 0.],\n",
              "       [0., 0., 1., 0., 0., 0., 0., 0., 0., 0.],\n",
              "       [0., 0., 0., 1., 0., 0., 0., 0., 0., 0.],\n",
              "       [0., 0., 0., 0., 1., 0., 0., 0., 0., 0.],\n",
              "       [0., 0., 0., 0., 0., 1., 0., 0., 0., 0.],\n",
              "       [0., 0., 0., 0., 0., 0., 1., 0., 0., 0.],\n",
              "       [0., 0., 0., 0., 0., 0., 0., 1., 0., 0.],\n",
              "       [0., 0., 0., 0., 0., 0., 0., 0., 1., 0.],\n",
              "       [0., 0., 0., 0., 0., 0., 0., 0., 0., 1.]])"
            ]
          },
          "metadata": {},
          "execution_count": 26
        }
      ]
    },
    {
      "cell_type": "markdown",
      "source": [
        "### Upper Triangular Matrix"
      ],
      "metadata": {
        "id": "i4vA852YZNbm"
      }
    },
    {
      "cell_type": "markdown",
      "source": [
        "Upper Triangular Matrix is"
      ],
      "metadata": {
        "id": "fxzLUkcuZPZs"
      }
    },
    {
      "cell_type": "code",
      "source": [
        "np.array([\n",
        "    [1,2,3,4],\n",
        "    [3,4,5,6],\n",
        "    [0,4,5,6],\n",
        "    [7,8,9,0]\n",
        "])"
      ],
      "metadata": {
        "colab": {
          "base_uri": "https://localhost:8080/"
        },
        "id": "eX4E_RAUZRYI",
        "outputId": "0d73fcc8-2cd4-4ce1-a5e1-154296f6defd"
      },
      "execution_count": null,
      "outputs": [
        {
          "output_type": "execute_result",
          "data": {
            "text/plain": [
              "array([[1, 2, 3, 4],\n",
              "       [3, 4, 5, 6],\n",
              "       [0, 4, 5, 6],\n",
              "       [7, 8, 9, 0]])"
            ]
          },
          "metadata": {},
          "execution_count": 27
        }
      ]
    },
    {
      "cell_type": "code",
      "source": [
        "F = np.array([\n",
        "              [2, -3, 4, -5, 6],\n",
        "              [2, -3, 4, -5, 6],\n",
        "              [2, -3, 4, -5, 6],\n",
        "              [2, -3, 4, -5, 6],\n",
        "              [2, -3, 4, -5, 6],\n",
        "])\n",
        "np.triu(F)\n"
      ],
      "metadata": {
        "colab": {
          "base_uri": "https://localhost:8080/"
        },
        "id": "JfxwnpdGZuwP",
        "outputId": "7ba4162e-af61-435f-c533-75a69cc303c3"
      },
      "execution_count": null,
      "outputs": [
        {
          "output_type": "execute_result",
          "data": {
            "text/plain": [
              "array([[ 2, -3,  4, -5,  6],\n",
              "       [ 0, -3,  4, -5,  6],\n",
              "       [ 0,  0,  4, -5,  6],\n",
              "       [ 0,  0,  0, -5,  6],\n",
              "       [ 0,  0,  0,  0,  6]])"
            ]
          },
          "metadata": {},
          "execution_count": 28
        }
      ]
    },
    {
      "cell_type": "markdown",
      "source": [
        "### Lower Triangular Matrix"
      ],
      "metadata": {
        "id": "B2DdINV0Z1Mo"
      }
    },
    {
      "cell_type": "markdown",
      "source": [
        "Lower Triangular Matrix is"
      ],
      "metadata": {
        "id": "MfeVisbFZ5Pu"
      }
    },
    {
      "cell_type": "code",
      "source": [
        "np.tril(F)"
      ],
      "metadata": {
        "colab": {
          "base_uri": "https://localhost:8080/"
        },
        "id": "ToJ_nc5dagzg",
        "outputId": "7dd5b7a1-6521-46c0-ce09-d2ad71ed5aa6"
      },
      "execution_count": null,
      "outputs": [
        {
          "output_type": "execute_result",
          "data": {
            "text/plain": [
              "array([[ 2,  0,  0,  0,  0],\n",
              "       [ 2, -3,  0,  0,  0],\n",
              "       [ 2, -3,  4,  0,  0],\n",
              "       [ 2, -3,  4, -5,  0],\n",
              "       [ 2, -3,  4, -5,  6]])"
            ]
          },
          "metadata": {},
          "execution_count": 30
        }
      ]
    },
    {
      "cell_type": "code",
      "source": [
        "np.array([\n",
        "    [1,0,0],\n",
        "    [4,5,0],\n",
        "    [3,6,9]\n",
        "])"
      ],
      "metadata": {
        "colab": {
          "base_uri": "https://localhost:8080/"
        },
        "id": "QJ-NuWpDZ8qf",
        "outputId": "fc93ae17-1346-4e11-9ea8-ae2d064b6095"
      },
      "execution_count": null,
      "outputs": [
        {
          "output_type": "execute_result",
          "data": {
            "text/plain": [
              "array([[1, 0, 0],\n",
              "       [4, 5, 0],\n",
              "       [3, 6, 9]])"
            ]
          },
          "metadata": {},
          "execution_count": 29
        }
      ]
    },
    {
      "cell_type": "markdown",
      "source": [
        "### Practice"
      ],
      "metadata": {
        "id": "YU81fqOya8aH"
      }
    },
    {
      "cell_type": "markdown",
      "source": [
        "1.Given the linear combination below, try to create a corresponding matrix representing it.\n"
      ],
      "metadata": {
        "id": "hu9Gy5-Ta-kU"
      }
    },
    {
      "cell_type": "markdown",
      "source": [
        "$$\\theta = 5x + 3y - z$$"
      ],
      "metadata": {
        "id": "huJmDgJObGe6"
      }
    },
    {
      "cell_type": "markdown",
      "source": [
        "$$\n",
        "\\theta=\\begin{bmatrix} 5 & 3 & -1 \\end{bmatrix}\n",
        "$$"
      ],
      "metadata": {
        "id": "_JvtIlSDFPms"
      }
    },
    {
      "cell_type": "markdown",
      "source": [
        "2. Given the system of linear combinations below, try to encode it as a matrix. Also describe the matrix.\n"
      ],
      "metadata": {
        "id": "9NgCJriqbW_-"
      }
    },
    {
      "cell_type": "markdown",
      "source": [
        "$$\n",
        "A = \\left\\{\\begin{array}\n",
        "5x_1 + 2x_2 +x_3\\\\\n",
        "4x_2 - x_3\\\\\n",
        "10x_3\n",
        "\\end{array}\\right.\n",
        "$$"
      ],
      "metadata": {
        "id": "RzfVvfPAcdw3"
      }
    },
    {
      "cell_type": "markdown",
      "source": [
        "$$\n",
        "A=\\begin{bmatrix} 1 & 2 & 1 \\\\ 0 & 4 & -1 \\\\ 0 & 0 & 10\\end{bmatrix}\n",
        "$$"
      ],
      "metadata": {
        "id": "ahO3dJVBFvsi"
      }
    },
    {
      "cell_type": "markdown",
      "source": [
        "3.Given the matrix below, express it as a linear combination in a markdown and a LaTeX markdown"
      ],
      "metadata": {
        "id": "7ahIot_-chbF"
      }
    },
    {
      "cell_type": "code",
      "source": [
        "G = np.array([\n",
        "    [1,7,8],\n",
        "    [2,2,2],\n",
        "    [4,6,7]\n",
        "])"
      ],
      "metadata": {
        "id": "5K8eywE9bgY0"
      },
      "execution_count": null,
      "outputs": []
    },
    {
      "cell_type": "markdown",
      "source": [
        "$$\n",
        "G = \\left\\{\\begin{array}\n",
        "5x_1 + 7x_2 +8x_3\\\\\n",
        "2x_1 + 2x_2 + 2x_3\\\\\n",
        "4x_1 + 6x_2 + 7x_3\n",
        "\\end{array}\\right.\n",
        "$$"
      ],
      "metadata": {
        "id": "_r-kCsrh48Gm"
      }
    },
    {
      "cell_type": "markdown",
      "source": [
        "4.Given the matrix below, display the output as a LaTeX markdown also express it as a system of linear combinations.\n"
      ],
      "metadata": {
        "id": "LTMGtYkEbjWj"
      }
    },
    {
      "cell_type": "code",
      "source": [
        "H = np.tril(G)\n",
        "H"
      ],
      "metadata": {
        "colab": {
          "base_uri": "https://localhost:8080/"
        },
        "id": "YqmOvhXrblva",
        "outputId": "a12359ad-fb7a-4ff5-8e5e-339a3e03247b"
      },
      "execution_count": null,
      "outputs": [
        {
          "output_type": "execute_result",
          "data": {
            "text/plain": [
              "array([[1, 0, 0],\n",
              "       [2, 2, 0],\n",
              "       [4, 6, 7]])"
            ]
          },
          "metadata": {},
          "execution_count": 69
        }
      ]
    },
    {
      "cell_type": "markdown",
      "source": [
        "$$\n",
        "H = \\left\\{\\begin{array}\n",
        "1x_1 \\\\\n",
        "2x_1 + 2x_2\\\\\n",
        "4x_1 + 6x_2 + 7x_3\n",
        "\\end{array}\\right.\n",
        "$$"
      ],
      "metadata": {
        "id": "RepvMVrxHK1e"
      }
    },
    {
      "cell_type": "markdown",
      "source": [
        "## Matrix Algebra"
      ],
      "metadata": {
        "id": "9SXm4-CaCfla"
      }
    },
    {
      "cell_type": "markdown",
      "source": [
        "### Addition"
      ],
      "metadata": {
        "id": "_6XK1HjrCi2x"
      }
    },
    {
      "cell_type": "code",
      "source": [
        "A = np.array([\n",
        "    [3,5],\n",
        "    [3,6],\n",
        "    [9,7]\n",
        "])\n",
        "B = np.array([\n",
        "    [3,6],\n",
        "    [2,1],\n",
        "    [1,0]\n",
        "])\n",
        "A+B"
      ],
      "metadata": {
        "colab": {
          "base_uri": "https://localhost:8080/"
        },
        "id": "oByf4JTdCqtD",
        "outputId": "c6efb25b-a4b2-4cfb-af8e-820160870035"
      },
      "execution_count": null,
      "outputs": [
        {
          "output_type": "execute_result",
          "data": {
            "text/plain": [
              "array([[ 6, 11],\n",
              "       [ 5,  7],\n",
              "       [10,  7]])"
            ]
          },
          "metadata": {},
          "execution_count": 6
        }
      ]
    },
    {
      "cell_type": "code",
      "source": [
        "2+A ##Broadcating\n",
        "# 2*np.ones(A.shape)+A"
      ],
      "metadata": {
        "colab": {
          "base_uri": "https://localhost:8080/"
        },
        "id": "UFTK5bcqDcfn",
        "outputId": "72239a2a-9d4c-4315-ce3b-2684ad447114"
      },
      "execution_count": null,
      "outputs": [
        {
          "output_type": "execute_result",
          "data": {
            "text/plain": [
              "array([[ 5,  7],\n",
              "       [ 5,  8],\n",
              "       [11,  9]])"
            ]
          },
          "metadata": {},
          "execution_count": 7
        }
      ]
    },
    {
      "cell_type": "markdown",
      "source": [
        "### Subtraction"
      ],
      "metadata": {
        "id": "wkhSAWjPDoVK"
      }
    },
    {
      "cell_type": "code",
      "source": [
        "A-B"
      ],
      "metadata": {
        "colab": {
          "base_uri": "https://localhost:8080/"
        },
        "id": "F7pcaKxmDtKb",
        "outputId": "8740e238-208c-4c17-c495-7dc82bb1ef6d"
      },
      "execution_count": null,
      "outputs": [
        {
          "output_type": "execute_result",
          "data": {
            "text/plain": [
              "array([[ 0, -1],\n",
              "       [ 1,  5],\n",
              "       [ 8,  7]])"
            ]
          },
          "metadata": {},
          "execution_count": 8
        }
      ]
    },
    {
      "cell_type": "code",
      "source": [
        "3-B == 3*np.ones(B.shape)-B"
      ],
      "metadata": {
        "colab": {
          "base_uri": "https://localhost:8080/"
        },
        "id": "FT2wlAhsDvOh",
        "outputId": "9d1848a5-713c-4323-d001-f3e58c18a43f"
      },
      "execution_count": null,
      "outputs": [
        {
          "output_type": "execute_result",
          "data": {
            "text/plain": [
              "array([[ True,  True],\n",
              "       [ True,  True],\n",
              "       [ True,  True]])"
            ]
          },
          "metadata": {},
          "execution_count": 9
        }
      ]
    },
    {
      "cell_type": "markdown",
      "source": [
        "### Element-wise Multiplication"
      ],
      "metadata": {
        "id": "O56otc7yD2NL"
      }
    },
    {
      "cell_type": "code",
      "source": [
        "A*B"
      ],
      "metadata": {
        "colab": {
          "base_uri": "https://localhost:8080/"
        },
        "id": "CRqPb1NQD5vs",
        "outputId": "6c046da4-2f48-44db-be75-2ab67bc4777b"
      },
      "execution_count": null,
      "outputs": [
        {
          "output_type": "execute_result",
          "data": {
            "text/plain": [
              "array([[ 9, 30],\n",
              "       [ 6,  6],\n",
              "       [ 9,  0]])"
            ]
          },
          "metadata": {},
          "execution_count": 10
        }
      ]
    },
    {
      "cell_type": "code",
      "source": [
        "2*A"
      ],
      "metadata": {
        "colab": {
          "base_uri": "https://localhost:8080/"
        },
        "id": "qlVT2s4sD7oz",
        "outputId": "85d5e4b6-3c73-41a4-958a-8e4eceac9626"
      },
      "execution_count": null,
      "outputs": [
        {
          "output_type": "execute_result",
          "data": {
            "text/plain": [
              "array([[ 6, 10],\n",
              "       [ 6, 12],\n",
              "       [18, 14]])"
            ]
          },
          "metadata": {},
          "execution_count": 11
        }
      ]
    },
    {
      "cell_type": "code",
      "source": [
        "A@B"
      ],
      "metadata": {
        "colab": {
          "base_uri": "https://localhost:8080/",
          "height": 182
        },
        "id": "pKUAwaUpD-Xd",
        "outputId": "fc3c84cf-0efe-44d4-f908-db0b4abb475f"
      },
      "execution_count": null,
      "outputs": [
        {
          "output_type": "error",
          "ename": "ValueError",
          "evalue": "ignored",
          "traceback": [
            "\u001b[0;31m---------------------------------------------------------------------------\u001b[0m",
            "\u001b[0;31mValueError\u001b[0m                                Traceback (most recent call last)",
            "\u001b[0;32m<ipython-input-12-5016aafd2858>\u001b[0m in \u001b[0;36m<module>\u001b[0;34m()\u001b[0m\n\u001b[0;32m----> 1\u001b[0;31m \u001b[0mA\u001b[0m\u001b[0;34m@\u001b[0m\u001b[0mB\u001b[0m\u001b[0;34m\u001b[0m\u001b[0;34m\u001b[0m\u001b[0m\n\u001b[0m",
            "\u001b[0;31mValueError\u001b[0m: matmul: Input operand 1 has a mismatch in its core dimension 0, with gufunc signature (n?,k),(k,m?)->(n?,m?) (size 3 is different from 2)"
          ]
        }
      ]
    },
    {
      "cell_type": "code",
      "source": [
        "alpha=10**-10\n",
        "A/(alpha+B)"
      ],
      "metadata": {
        "colab": {
          "base_uri": "https://localhost:8080/"
        },
        "id": "7d169Hy9EIAn",
        "outputId": "bc32d5bf-06f0-4186-8679-69073e1d9b35"
      },
      "execution_count": null,
      "outputs": [
        {
          "output_type": "execute_result",
          "data": {
            "text/plain": [
              "array([[1.00000000e+00, 8.33333333e-01],\n",
              "       [1.50000000e+00, 6.00000000e+00],\n",
              "       [9.00000000e+00, 7.00000000e+10]])"
            ]
          },
          "metadata": {},
          "execution_count": 13
        }
      ]
    },
    {
      "cell_type": "code",
      "source": [
        "np.add(A,B)"
      ],
      "metadata": {
        "colab": {
          "base_uri": "https://localhost:8080/"
        },
        "id": "f8eED3yCEQa1",
        "outputId": "4f18a7d3-c4e5-4ba3-9712-47933b5f8add"
      },
      "execution_count": null,
      "outputs": [
        {
          "output_type": "execute_result",
          "data": {
            "text/plain": [
              "array([[ 6, 11],\n",
              "       [ 5,  7],\n",
              "       [10,  7]])"
            ]
          },
          "metadata": {},
          "execution_count": 14
        }
      ]
    },
    {
      "cell_type": "markdown",
      "source": [
        "## Activity"
      ],
      "metadata": {
        "id": "3GRVQbdbEW0s"
      }
    },
    {
      "cell_type": "markdown",
      "source": [
        "### Task 1"
      ],
      "metadata": {
        "id": "zVhXPOQmEcLQ"
      }
    },
    {
      "cell_type": "markdown",
      "source": [
        "Create a function named `mat_desc()` that througouhly describes a matrix, it should: <br>\n",
        "1. Displays the shape, size, and rank of the matrix. <br>\n",
        "2. Displays whether the matrix is square or non-square. <br>\n",
        "3. Displays whether the matrix is an empty matrix. <br>\n",
        "4. Displays if the matrix is an identity, ones, or zeros matrix <br>\n",
        "   \n",
        "Use 5 sample matrices in which their shapes are not lower than $(3,3)$.\n",
        "In your methodology, create a flowchart discuss the functions and methods you have done. Present your results in the results section showing the description of each matrix you have declared."
      ],
      "metadata": {
        "id": "37rlnUYKEe6_"
      }
    },
    {
      "cell_type": "code",
      "source": [
        "## Function Area\n",
        "def mat_desc(matrix):\n",
        "  if matrix.size > 0:\n",
        "    is_square = True if matrix.shape[0] == matrix.shape[1] else False\n",
        "    print(f'Matrix:\\n{matrix}\\n\\nShape:\\t{matrix.shape}\\nRank:\\t{matrix.ndim}\\nIs it Square: {is_square}\\n')\n",
        "  else:\n",
        "    print('\\nMatrix is null\\n\\n')"
      ],
      "metadata": {
        "id": "1g10U9xfEgjH"
      },
      "execution_count": null,
      "outputs": []
    },
    {
      "cell_type": "code",
      "source": [
        "## Matrix Declarations\n",
        "O = np.array([\n",
        "    [8, 65, 7, 9],\n",
        "    [2, 0, 21, 9],\n",
        "    [3, 101, 6, 8]\n",
        "])\n",
        "\n",
        "P = np.array([\n",
        "    [3, 89, 6],\n",
        "    [9, 27, 68],\n",
        "    [90, 8, 11],\n",
        "    [2, 7, 88]\n",
        "])\n",
        "\n",
        "null_mat = np.array([])\n",
        "\n",
        "R = np.array([\n",
        "    [0, 0, 0],\n",
        "    [0, 0, 0],\n",
        "    [0, 0, 0]\n",
        "])\n",
        "\n",
        "S = np.array([\n",
        "    [1, 1, 1, 1],\n",
        "    [1, 1, 1, 1],\n",
        "    [1, 1, 1, 1],\n",
        "    [1, 1, 1, 1]\n",
        "])"
      ],
      "metadata": {
        "id": "9KKSo6ceVda_"
      },
      "execution_count": null,
      "outputs": []
    },
    {
      "cell_type": "code",
      "source": [
        "## Test Areas\n",
        "mat_desc(O)\n",
        "\n",
        "mat_desc(P)\n",
        "\n",
        "mat_desc(null_mat)\n",
        "\n",
        "mat_desc(R)\n",
        "\n",
        "mat_desc(S)"
      ],
      "metadata": {
        "colab": {
          "base_uri": "https://localhost:8080/"
        },
        "id": "-n3xNbFAXT7R",
        "outputId": "2c5c0c5a-a096-4163-f765-dd6a52a3f18b"
      },
      "execution_count": null,
      "outputs": [
        {
          "output_type": "stream",
          "name": "stdout",
          "text": [
            "Matrix:\n",
            "[[  8  65   7   9]\n",
            " [  2   0  21   9]\n",
            " [  3 101   6   8]]\n",
            "\n",
            "Shape:\t(3, 4)\n",
            "Rank:\t2\n",
            "Is it Square: False\n",
            "\n",
            "Matrix:\n",
            "[[ 3 89  6]\n",
            " [ 9 27 68]\n",
            " [90  8 11]\n",
            " [ 2  7 88]]\n",
            "\n",
            "Shape:\t(4, 3)\n",
            "Rank:\t2\n",
            "Is it Square: False\n",
            "\n",
            "\n",
            "Matrix is null\n",
            "\n",
            "\n",
            "Matrix:\n",
            "[[0 0 0]\n",
            " [0 0 0]\n",
            " [0 0 0]]\n",
            "\n",
            "Shape:\t(3, 3)\n",
            "Rank:\t2\n",
            "Is it Square: True\n",
            "\n",
            "Matrix:\n",
            "[[1 1 1 1]\n",
            " [1 1 1 1]\n",
            " [1 1 1 1]\n",
            " [1 1 1 1]]\n",
            "\n",
            "Shape:\t(4, 4)\n",
            "Rank:\t2\n",
            "Is it Square: True\n",
            "\n"
          ]
        }
      ]
    },
    {
      "cell_type": "markdown",
      "source": [
        "### Task 2"
      ],
      "metadata": {
        "id": "uVV3oPL9E1K-"
      }
    },
    {
      "cell_type": "markdown",
      "source": [
        "Create a function named `mat_operations()` that takes in two matrices an input parameters it should:<br>\n",
        " 1. Determines if the matrices are viable for operation and returns your own error message if they are not viable.\n",
        " 2. Returns the sum of the matrices.\n",
        " 3. Returns the difference of the matrices.\n",
        " 4. Returns the element-wise multiplication of the matrices.\n",
        " 5. Returns the element-wise division of the matrices.\n",
        "\n",
        "Use 5 sample matrices in which their shapes are not lower than $(3,3)$.\n",
        "In your methodology, create a flowchart discuss the functions and methods you have done. Present your results in the results section showing the description of each matrix you have declared."
      ],
      "metadata": {
        "id": "E969eMQjE2fT"
      }
    },
    {
      "cell_type": "code",
      "source": [
        "print(\"Enter Row and Column Size of 1st Matrix: \", end=\"\")\n",
        "rowOne = int(input())\n",
        "colOne = int(input())\n",
        "print(\"Enter Row and Column Size of 2nd Matrix: \", end=\"\")\n",
        "rowTwo = int(input())\n",
        "colTwo = int(input())\n",
        "\n",
        "if rowOne==rowTwo and colOne==colTwo:\n",
        "    mat_addOne = []\n",
        "    print(\"\\nEnter \" +str(rowOne*colOne)+ \" Elements for 1st Matrix: \")\n",
        "    for i in range(rowOne):\n",
        "        mat_addOne.append([])\n",
        "        for j in range(colOne):\n",
        "            num = int(input())\n",
        "            mat_addOne[i].append(num)\n",
        "\n",
        "    mat_addTwo = []\n",
        "    print(\"\\nEnter \" +str(rowTwo*colTwo)+ \" Elements for 2nd Matrix: \")\n",
        "    for i in range(rowTwo):\n",
        "        mat_addTwo.append([])\n",
        "        for j in range(colTwo):\n",
        "            num = int(input())\n",
        "            mat_addTwo[i].append(num)\n",
        "\n",
        "    mat_addThree = []\n",
        "    for i in range(rowOne):\n",
        "        mat_addThree.append([])\n",
        "        for j in range(colTwo):\n",
        "            mat_addThree[i].append(mat_addOne[i][j]+mat_addTwo[i][j])\n",
        "\n",
        "    print(\"\\nAddition Result:\")\n",
        "    for i in range(rowOne):\n",
        "        for j in range(colOne):\n",
        "            print(mat_addThree[i][j], end=\" \")\n",
        "        print()\n",
        "else:\n",
        "    print(\"\\nDimension Error!\")"
      ],
      "metadata": {
        "colab": {
          "base_uri": "https://localhost:8080/"
        },
        "id": "4t-mT5b-6J2q",
        "outputId": "8ed86486-2cd1-4ab7-ccd0-f960dba39e5f"
      },
      "execution_count": null,
      "outputs": [
        {
          "output_type": "stream",
          "name": "stdout",
          "text": [
            "Enter Row and Column Size of 1st Matrix: 3\n",
            "3\n",
            "Enter Row and Column Size of 2nd Matrix: 3\n",
            "3\n",
            "\n",
            "Enter 9 Elements for 1st Matrix: \n",
            "1\n",
            "2\n",
            "3\n",
            "4\n",
            "5\n",
            "6\n",
            "7\n",
            "8\n",
            "9\n",
            "\n",
            "Enter 9 Elements for 2nd Matrix: \n",
            "0\n",
            "0\n",
            "0\n",
            "0\n",
            "0\n",
            "0\n",
            "0\n",
            "0\n",
            "0\n",
            "\n",
            "Addition Result:\n",
            "1 2 3 \n",
            "4 5 6 \n",
            "7 8 9 \n"
          ]
        }
      ]
    },
    {
      "cell_type": "code",
      "source": [
        "print(\"Enter Row and Column Size of 1st Matrix: \", end=\"\")\n",
        "rowOne = int(input())\n",
        "colOne = int(input())\n",
        "print(\"Enter Row and Column Size of 2nd Matrix: \", end=\"\")\n",
        "rowTwo = int(input())\n",
        "colTwo = int(input())\n",
        "\n",
        "if rowOne==rowTwo and colOne==colTwo:\n",
        "    mat_subOne = []\n",
        "    print(\"\\nEnter \" +str(rowOne*colOne)+ \" Elements for 1st Matrix: \")\n",
        "    for i in range(rowOne):\n",
        "        mat_subOne.append([])\n",
        "        for j in range(colOne):\n",
        "            num = int(input())\n",
        "            mat_subOne[i].append(num)\n",
        "\n",
        "    mat_subTwo = []\n",
        "    print(\"\\nEnter \" +str(rowTwo*colTwo)+ \" Elements for 2nd Matrix: \")\n",
        "    for i in range(rowTwo):\n",
        "        mat_subTwo.append([])\n",
        "        for j in range(colTwo):\n",
        "            num = int(input())\n",
        "            mat_subTwo[i].append(num)\n",
        "\n",
        "    mat_subThree = []\n",
        "    for i in range(rowOne):\n",
        "        mat_subThree.append([])\n",
        "        for j in range(colTwo):\n",
        "            mat_subThree[i].append(mat_subOne[i][j]-mat_subTwo[i][j])\n",
        "\n",
        "    print(\"\\nSubtraction Result:\")\n",
        "    for i in range(rowOne):\n",
        "        for j in range(colOne):\n",
        "            print(mat_subThree[i][j], end=\" \")\n",
        "        print()\n",
        "else:\n",
        "    print(\"\\nDimension Error!\")"
      ],
      "metadata": {
        "colab": {
          "base_uri": "https://localhost:8080/"
        },
        "id": "HEyRxJoO9nC3",
        "outputId": "5a2a92a8-6666-42c9-dcf9-48c83fd4f472"
      },
      "execution_count": null,
      "outputs": [
        {
          "output_type": "stream",
          "name": "stdout",
          "text": [
            "Enter Row and Column Size of 1st Matrix: 3\n",
            "3\n",
            "Enter Row and Column Size of 2nd Matrix: 3\n",
            "3\n",
            "\n",
            "Enter 9 Elements for 1st Matrix: \n",
            "1\n",
            "2\n",
            "3\n",
            "4\n",
            "5\n",
            "6\n",
            "7\n",
            "8\n",
            "9\n",
            "\n",
            "Enter 9 Elements for 2nd Matrix: \n",
            "2\n",
            "3\n",
            "8\n",
            "9\n",
            "4\n",
            "3\n",
            "1\n",
            "5\n",
            "7\n",
            "\n",
            "Subtraction Result:\n",
            "-1 -1 -5 \n",
            "-5 1 3 \n",
            "6 3 2 \n"
          ]
        }
      ]
    },
    {
      "cell_type": "code",
      "source": [
        "print(\"Enter the Row Size of 1st Matrix: \", end=\"\")\n",
        "try:\n",
        "    rOne = int(input())\n",
        "    print(\"Enter the Column Size of 1st Matrix: \", end=\"\")\n",
        "    try:\n",
        "        cOne = int(input())\n",
        "        print(\"Enter \" +str(rOne * cOne)+ \" Elements: \", end=\"\")\n",
        "        mat_multOne = []\n",
        "        for i in range(rOne):\n",
        "            mat_multOne.append([])\n",
        "            for j in range(cOne):\n",
        "                try:\n",
        "                    num = int(input())\n",
        "                    mat_multOne[i].append(num)\n",
        "                except ValueError:\n",
        "                    print(\"\\nInvalid Input!\")\n",
        "                    exit()\n",
        "        print(\"\\nEnter Row Size of 2nd Matrix: \", end=\"\")\n",
        "        try:\n",
        "            rTwo = int(input())\n",
        "            if cOne == rTwo:\n",
        "                print(\"Enter Column Size of Second Matrix: \", end=\"\")\n",
        "                try:\n",
        "                    cTwo = int(input())\n",
        "                    print(\"Enter \" +str(rTwo * cTwo)+ \" Elements: \", end=\"\")\n",
        "                    mat_multTwo = []\n",
        "                    for i in range(rTwo):\n",
        "                        mat_multTwo.append([])\n",
        "                        for j in range(cTwo):\n",
        "                            try:\n",
        "                                num = int(input())\n",
        "                                mat_multTwo[i].append(num)\n",
        "                            except ValueError:\n",
        "                                print(\"\\nInvalid Input!\")\n",
        "                                exit()\n",
        "\n",
        "                    mat_multThree = []\n",
        "                    for i in range(rOne):\n",
        "                        mat_multThree.append([])\n",
        "                        for j in range(cTwo):\n",
        "                            sum = 0\n",
        "                            for k in range(cOne):\n",
        "                                sum = sum + (mat_multOne[i][k] * mat_multTwo[k][j])\n",
        "                            mat_multThree[i].append(sum)\n",
        "\n",
        "                    print(\"\\nMultiplication Result of Two Given Matrix is:\")\n",
        "                    for i in range(rOne):\n",
        "                        for j in range(cTwo):\n",
        "                            print(mat_multThree[i][j], end=\" \")\n",
        "                        print()\n",
        "                except ValueError:\n",
        "                    print(\"\\nInvalid Column Size!\")\n",
        "            else:\n",
        "                print(\"\\nMultiplication not possible!\")\n",
        "        except ValueError:\n",
        "            print(\"\\nInvalid Row Size!\")\n",
        "    except ValueError:\n",
        "        print(\"\\nInvalid Column Size!\")\n",
        "except ValueError:\n",
        "    print(\"\\nInvalid Row Size!\")"
      ],
      "metadata": {
        "colab": {
          "base_uri": "https://localhost:8080/"
        },
        "id": "N8Vi4sReAqo9",
        "outputId": "7f64a7ea-a590-457e-89e9-16310cdc395f"
      },
      "execution_count": null,
      "outputs": [
        {
          "output_type": "stream",
          "name": "stdout",
          "text": [
            "Enter the Row Size of 1st Matrix: 3\n",
            "Enter the Column Size of 1st Matrix: 4\n",
            "Enter 12 Elements: 3\n",
            "5\n",
            "6\n",
            "8\n",
            "9\n",
            "2\n",
            "3\n",
            "1\n",
            "0\n",
            "2\n",
            "1\n",
            "5\n",
            "\n",
            "Enter Row Size of 2nd Matrix: 2\n",
            "\n",
            "Multiplication not possible!\n"
          ]
        }
      ]
    },
    {
      "cell_type": "code",
      "source": [
        "print(\"Enter Row and Column Size of 1st Matrix: \", end=\"\")\n",
        "rowOne = int(input())\n",
        "colOne = int(input())\n",
        "print(\"Enter Row and Column Size of 2nd Matrix: \", end=\"\")\n",
        "rowTwo = int(input())\n",
        "colTwo = int(input())\n",
        "\n",
        "if rowOne==rowTwo and colOne==colTwo:\n",
        "    mat_addOne = []\n",
        "    print(\"\\nEnter \" +str(rowOne*colOne)+ \" Elements for 1st Matrix: \")\n",
        "    for i in range(rowOne):\n",
        "        mat_addOne.append([])\n",
        "        for j in range(colOne):\n",
        "            num = int(input())\n",
        "            mat_addOne[i].append(num)\n",
        "\n",
        "    mat_addTwo = []\n",
        "    print(\"\\nEnter \" +str(rowTwo*colTwo)+ \" Elements for 2nd Matrix: \")\n",
        "    for i in range(rowTwo):\n",
        "        mat_addTwo.append([])\n",
        "        for j in range(colTwo):\n",
        "            num = int(input())\n",
        "            mat_addTwo[i].append(num)\n",
        "\n",
        "    mat_addThree = []\n",
        "    for i in range(rowOne):\n",
        "        mat_addThree.append([])\n",
        "        for j in range(colTwo):\n",
        "            mat_addThree[i].append(mat_addOne[i][j]+mat_addTwo[i][j])\n",
        "\n",
        "    print(\"\\nAddition Result:\")\n",
        "    for i in range(rowOne):\n",
        "        for j in range(colOne):\n",
        "            print(mat_addThree[i][j], end=\" \")\n",
        "        print()\n",
        "else:\n",
        "    print(\"\\nDimension Error!\")"
      ],
      "metadata": {
        "colab": {
          "base_uri": "https://localhost:8080/"
        },
        "id": "DR_7S2djCYtI",
        "outputId": "069c5afe-d6ad-4ac5-cfdd-b56829fe3eef"
      },
      "execution_count": null,
      "outputs": [
        {
          "output_type": "stream",
          "name": "stdout",
          "text": [
            "Enter Row and Column Size of 1st Matrix: 3\n",
            "4\n",
            "Enter Row and Column Size of 2nd Matrix: 4\n",
            "5\n",
            "\n",
            "Dimension Error!\n"
          ]
        }
      ]
    },
    {
      "cell_type": "code",
      "source": [
        "print(\"Enter the Row Size of 1st Matrix: \", end=\"\")\n",
        "try:\n",
        "    rOne = int(input())\n",
        "    print(\"Enter the Column Size of 1st Matrix: \", end=\"\")\n",
        "    try:\n",
        "        cOne = int(input())\n",
        "        print(\"Enter \" +str(rOne * cOne)+ \" Elements: \", end=\"\")\n",
        "        mat_multOne = []\n",
        "        for i in range(rOne):\n",
        "            mat_multOne.append([])\n",
        "            for j in range(cOne):\n",
        "                try:\n",
        "                    num = int(input())\n",
        "                    mat_multOne[i].append(num)\n",
        "                except ValueError:\n",
        "                    print(\"\\nInvalid Input!\")\n",
        "                    exit()\n",
        "        print(\"\\nEnter Row Size of 2nd Matrix: \", end=\"\")\n",
        "        try:\n",
        "            rTwo = int(input())\n",
        "            if cOne == rTwo:\n",
        "                print(\"Enter Column Size of Second Matrix: \", end=\"\")\n",
        "                try:\n",
        "                    cTwo = int(input())\n",
        "                    print(\"Enter \" +str(rTwo * cTwo)+ \" Elements: \", end=\"\")\n",
        "                    mat_multTwo = []\n",
        "                    for i in range(rTwo):\n",
        "                        mat_multTwo.append([])\n",
        "                        for j in range(cTwo):\n",
        "                            try:\n",
        "                                num = int(input())\n",
        "                                mat_multTwo[i].append(num)\n",
        "                            except ValueError:\n",
        "                                print(\"\\nInvalid Input!\")\n",
        "                                exit()\n",
        "\n",
        "                    mat_multThree = []\n",
        "                    for i in range(rOne):\n",
        "                        mat_multThree.append([])\n",
        "                        for j in range(cTwo):\n",
        "                            sum = 0\n",
        "                            for k in range(cOne):\n",
        "                                sum = sum + (mat_multOne[i][k] * mat_multTwo[k][j])\n",
        "                            mat_multThree[i].append(sum)\n",
        "\n",
        "                    print(\"\\nMultiplication Result of Two Given Matrix is:\")\n",
        "                    for i in range(rOne):\n",
        "                        for j in range(cTwo):\n",
        "                            print(mat_multThree[i][j], end=\" \")\n",
        "                        print()\n",
        "                except ValueError:\n",
        "                    print(\"\\nInvalid Column Size!\")\n",
        "            else:\n",
        "                print(\"\\nMultiplication not possible!\")\n",
        "        except ValueError:\n",
        "            print(\"\\nInvalid Row Size!\")\n",
        "    except ValueError:\n",
        "        print(\"\\nInvalid Column Size!\")\n",
        "except ValueError:\n",
        "    print(\"\\nInvalid Row Size!\")"
      ],
      "metadata": {
        "colab": {
          "base_uri": "https://localhost:8080/"
        },
        "id": "j19bMgsyDBV_",
        "outputId": "594e8fab-f1be-4724-d814-eb3e516bb77b"
      },
      "execution_count": null,
      "outputs": [
        {
          "output_type": "stream",
          "name": "stdout",
          "text": [
            "Enter the Row Size of 1st Matrix: 4\n",
            "Enter the Column Size of 1st Matrix: 3\n",
            "Enter 12 Elements: 2\n",
            "7\n",
            "3\n",
            "5\n",
            "2\n",
            "7\n",
            "2\n",
            "5\n",
            "3\n",
            "8\n",
            "2\n",
            "5\n",
            "\n",
            "Enter Row Size of 2nd Matrix: 3\n",
            "Enter Column Size of Second Matrix: 3\n",
            "Enter 9 Elements: 9\n",
            "0\n",
            "1\n",
            "2\n",
            "3\n",
            "6\n",
            "3\n",
            "6\n",
            "1\n",
            "\n",
            "Multiplication Result of Two Given Matrix is:\n",
            "41 39 47 \n",
            "70 48 24 \n",
            "37 33 35 \n",
            "91 36 25 \n"
          ]
        }
      ]
    }
  ]
}